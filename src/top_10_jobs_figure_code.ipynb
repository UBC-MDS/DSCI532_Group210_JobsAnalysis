{
 "cells": [
  {
   "cell_type": "code",
   "execution_count": 6,
   "metadata": {},
   "outputs": [
    {
     "data": {
      "application/vnd.vegalite.v3+json": {
       "$schema": "https://vega.github.io/schema/vega-lite/v3.4.0.json",
       "config": {
        "mark": {
         "tooltip": null
        },
        "view": {
         "height": 300,
         "width": 400
        }
       },
       "data": {
        "name": "data-a7850c23228f1143331abedf649bc6e3"
       },
       "datasets": {
        "data-a7850c23228f1143331abedf649bc6e3": [
         {
          "Unnamed: 0": 0,
          "female_prop": 0.025611766197540256,
          "gender_dominant_group": "male dominant",
          "job": "Barber / Beautician",
          "total_prop_female": 0.6396036500020799,
          "year": 1850
         },
         {
          "Unnamed: 0": 1,
          "female_prop": 0.011076650420912715,
          "gender_dominant_group": "male dominant",
          "job": "Barber / Beautician",
          "total_prop_female": 0.6396036500020799,
          "year": 1860
         },
         {
          "Unnamed: 0": 2,
          "female_prop": 0.043244937130322375,
          "gender_dominant_group": "male dominant",
          "job": "Barber / Beautician",
          "total_prop_female": 0.6396036500020799,
          "year": 1870
         },
         {
          "Unnamed: 0": 3,
          "female_prop": 0.06406822516017056,
          "gender_dominant_group": "male dominant",
          "job": "Barber / Beautician",
          "total_prop_female": 0.6396036500020799,
          "year": 1880
         },
         {
          "Unnamed: 0": 4,
          "female_prop": 0.056594298076180174,
          "gender_dominant_group": "male dominant",
          "job": "Barber / Beautician",
          "total_prop_female": 0.6396036500020799,
          "year": 1900
         },
         {
          "Unnamed: 0": 5,
          "female_prop": 0.10075803993255117,
          "gender_dominant_group": "male dominant",
          "job": "Barber / Beautician",
          "total_prop_female": 0.6396036500020799,
          "year": 1910
         },
         {
          "Unnamed: 0": 6,
          "female_prop": 0.14915762908396427,
          "gender_dominant_group": "male dominant",
          "job": "Barber / Beautician",
          "total_prop_female": 0.6396036500020799,
          "year": 1920
         },
         {
          "Unnamed: 0": 7,
          "female_prop": 0.3016663026972672,
          "gender_dominant_group": "male dominant",
          "job": "Barber / Beautician",
          "total_prop_female": 0.6396036500020799,
          "year": 1930
         },
         {
          "Unnamed: 0": 8,
          "female_prop": 0.5040269323044927,
          "gender_dominant_group": "balanced",
          "job": "Barber / Beautician",
          "total_prop_female": 0.6396036500020799,
          "year": 1940
         },
         {
          "Unnamed: 0": 9,
          "female_prop": 0.5003890230251434,
          "gender_dominant_group": "balanced",
          "job": "Barber / Beautician",
          "total_prop_female": 0.6396036500020799,
          "year": 1950
         },
         {
          "Unnamed: 0": 10,
          "female_prop": 0.6215229700125462,
          "gender_dominant_group": "balanced",
          "job": "Barber / Beautician",
          "total_prop_female": 0.6396036500020799,
          "year": 1960
         },
         {
          "Unnamed: 0": 11,
          "female_prop": 0.7379468269836109,
          "gender_dominant_group": "female dominant",
          "job": "Barber / Beautician",
          "total_prop_female": 0.6396036500020799,
          "year": 1970
         },
         {
          "Unnamed: 0": 12,
          "female_prop": 0.7833087743789169,
          "gender_dominant_group": "female dominant",
          "job": "Barber / Beautician",
          "total_prop_female": 0.6396036500020799,
          "year": 1980
         },
         {
          "Unnamed: 0": 13,
          "female_prop": 0.8322973738607972,
          "gender_dominant_group": "female dominant",
          "job": "Barber / Beautician",
          "total_prop_female": 0.6396036500020799,
          "year": 1990
         },
         {
          "Unnamed: 0": 14,
          "female_prop": 0.8345728801370897,
          "gender_dominant_group": "female dominant",
          "job": "Barber / Beautician",
          "total_prop_female": 0.6396036500020799,
          "year": 2000
         },
         {
          "Unnamed: 0": 15,
          "female_prop": 0,
          "gender_dominant_group": "only male",
          "job": "Clerical Worker",
          "total_prop_female": 0.6421592290519479,
          "year": 1850
         },
         {
          "Unnamed: 0": 16,
          "female_prop": 0.011721955222131052,
          "gender_dominant_group": "male dominant",
          "job": "Clerical Worker",
          "total_prop_female": 0.6421592290519479,
          "year": 1860
         },
         {
          "Unnamed: 0": 17,
          "female_prop": 0.03561618468565785,
          "gender_dominant_group": "male dominant",
          "job": "Clerical Worker",
          "total_prop_female": 0.6421592290519479,
          "year": 1870
         },
         {
          "Unnamed: 0": 18,
          "female_prop": 0.04616185572973911,
          "gender_dominant_group": "male dominant",
          "job": "Clerical Worker",
          "total_prop_female": 0.6421592290519479,
          "year": 1880
         },
         {
          "Unnamed: 0": 19,
          "female_prop": 0.13544686884933652,
          "gender_dominant_group": "male dominant",
          "job": "Clerical Worker",
          "total_prop_female": 0.6421592290519479,
          "year": 1900
         },
         {
          "Unnamed: 0": 20,
          "female_prop": 0.18730308417716626,
          "gender_dominant_group": "male dominant",
          "job": "Clerical Worker",
          "total_prop_female": 0.6421592290519479,
          "year": 1910
         },
         {
          "Unnamed: 0": 21,
          "female_prop": 0.3292317906486404,
          "gender_dominant_group": "male dominant",
          "job": "Clerical Worker",
          "total_prop_female": 0.6421592290519479,
          "year": 1920
         },
         {
          "Unnamed: 0": 22,
          "female_prop": 0.31427218378237504,
          "gender_dominant_group": "male dominant",
          "job": "Clerical Worker",
          "total_prop_female": 0.6421592290519479,
          "year": 1930
         },
         {
          "Unnamed: 0": 23,
          "female_prop": 0.3593524928495182,
          "gender_dominant_group": "balanced",
          "job": "Clerical Worker",
          "total_prop_female": 0.6421592290519479,
          "year": 1940
         },
         {
          "Unnamed: 0": 24,
          "female_prop": 0.4927912847356079,
          "gender_dominant_group": "balanced",
          "job": "Clerical Worker",
          "total_prop_female": 0.6421592290519479,
          "year": 1950
         },
         {
          "Unnamed: 0": 25,
          "female_prop": 0.6494115437121322,
          "gender_dominant_group": "balanced",
          "job": "Clerical Worker",
          "total_prop_female": 0.6421592290519479,
          "year": 1960
         },
         {
          "Unnamed: 0": 26,
          "female_prop": 0.6736070992124813,
          "gender_dominant_group": "female dominant",
          "job": "Clerical Worker",
          "total_prop_female": 0.6421592290519479,
          "year": 1970
         },
         {
          "Unnamed: 0": 27,
          "female_prop": 0.7010645481279131,
          "gender_dominant_group": "female dominant",
          "job": "Clerical Worker",
          "total_prop_female": 0.6421592290519479,
          "year": 1980
         },
         {
          "Unnamed: 0": 28,
          "female_prop": 0.7170560616250967,
          "gender_dominant_group": "female dominant",
          "job": "Clerical Worker",
          "total_prop_female": 0.6421592290519479,
          "year": 1990
         },
         {
          "Unnamed: 0": 29,
          "female_prop": 0.7119801553960026,
          "gender_dominant_group": "female dominant",
          "job": "Clerical Worker",
          "total_prop_female": 0.6421592290519479,
          "year": 2000
         },
         {
          "Unnamed: 0": 30,
          "female_prop": 1,
          "gender_dominant_group": "only female",
          "job": "Religious Worker",
          "total_prop_female": 0.6583844355358044,
          "year": 1850
         },
         {
          "Unnamed: 0": 31,
          "female_prop": 0.5405260332796564,
          "gender_dominant_group": "balanced",
          "job": "Religious Worker",
          "total_prop_female": 0.6583844355358044,
          "year": 1860
         },
         {
          "Unnamed: 0": 32,
          "female_prop": 0.9468862036914087,
          "gender_dominant_group": "female dominant",
          "job": "Religious Worker",
          "total_prop_female": 0.6583844355358044,
          "year": 1870
         },
         {
          "Unnamed: 0": 33,
          "female_prop": 0.9862251287046055,
          "gender_dominant_group": "female dominant",
          "job": "Religious Worker",
          "total_prop_female": 0.6583844355358044,
          "year": 1880
         },
         {
          "Unnamed: 0": 34,
          "female_prop": 0.8775490034590677,
          "gender_dominant_group": "female dominant",
          "job": "Religious Worker",
          "total_prop_female": 0.6583844355358044,
          "year": 1900
         },
         {
          "Unnamed: 0": 35,
          "female_prop": 0.5256782205934748,
          "gender_dominant_group": "balanced",
          "job": "Religious Worker",
          "total_prop_female": 0.6583844355358044,
          "year": 1910
         },
         {
          "Unnamed: 0": 36,
          "female_prop": 0.7920531005637389,
          "gender_dominant_group": "female dominant",
          "job": "Religious Worker",
          "total_prop_female": 0.6583844355358044,
          "year": 1920
         },
         {
          "Unnamed: 0": 37,
          "female_prop": 0.8084895931982238,
          "gender_dominant_group": "female dominant",
          "job": "Religious Worker",
          "total_prop_female": 0.6583844355358044,
          "year": 1930
         },
         {
          "Unnamed: 0": 38,
          "female_prop": 0.7280634590058498,
          "gender_dominant_group": "female dominant",
          "job": "Religious Worker",
          "total_prop_female": 0.6583844355358044,
          "year": 1940
         },
         {
          "Unnamed: 0": 39,
          "female_prop": 0.6458041413669625,
          "gender_dominant_group": "balanced",
          "job": "Religious Worker",
          "total_prop_female": 0.6583844355358044,
          "year": 1950
         },
         {
          "Unnamed: 0": 40,
          "female_prop": 0.6227378190255219,
          "gender_dominant_group": "balanced",
          "job": "Religious Worker",
          "total_prop_female": 0.6583844355358044,
          "year": 1960
         },
         {
          "Unnamed: 0": 41,
          "female_prop": 0.5918299251632585,
          "gender_dominant_group": "balanced",
          "job": "Religious Worker",
          "total_prop_female": 0.6583844355358044,
          "year": 1970
         },
         {
          "Unnamed: 0": 42,
          "female_prop": 0.6011609726888659,
          "gender_dominant_group": "balanced",
          "job": "Religious Worker",
          "total_prop_female": 0.6583844355358044,
          "year": 1980
         },
         {
          "Unnamed: 0": 43,
          "female_prop": 0.5905192174645116,
          "gender_dominant_group": "balanced",
          "job": "Religious Worker",
          "total_prop_female": 0.6583844355358044,
          "year": 1990
         },
         {
          "Unnamed: 0": 44,
          "female_prop": 0.6316702466397732,
          "gender_dominant_group": "balanced",
          "job": "Religious Worker",
          "total_prop_female": 0.6583844355358044,
          "year": 2000
         },
         {
          "Unnamed: 0": 45,
          "female_prop": 0,
          "gender_dominant_group": "only male",
          "job": "Laundry / Dry Cleaning",
          "total_prop_female": 0.6995208317749634,
          "year": 1850
         },
         {
          "Unnamed: 0": 46,
          "female_prop": 0.2497921862011637,
          "gender_dominant_group": "male dominant",
          "job": "Laundry / Dry Cleaning",
          "total_prop_female": 0.6995208317749634,
          "year": 1860
         },
         {
          "Unnamed: 0": 47,
          "female_prop": 0.36477190441708907,
          "gender_dominant_group": "balanced",
          "job": "Laundry / Dry Cleaning",
          "total_prop_female": 0.6995208317749634,
          "year": 1870
         },
         {
          "Unnamed: 0": 48,
          "female_prop": 0.7123530359156064,
          "gender_dominant_group": "female dominant",
          "job": "Laundry / Dry Cleaning",
          "total_prop_female": 0.6995208317749634,
          "year": 1880
         },
         {
          "Unnamed: 0": 49,
          "female_prop": 0.3903322429847978,
          "gender_dominant_group": "balanced",
          "job": "Laundry / Dry Cleaning",
          "total_prop_female": 0.6995208317749634,
          "year": 1900
         },
         {
          "Unnamed: 0": 50,
          "female_prop": 0.643957175390683,
          "gender_dominant_group": "balanced",
          "job": "Laundry / Dry Cleaning",
          "total_prop_female": 0.6995208317749634,
          "year": 1910
         },
         {
          "Unnamed: 0": 51,
          "female_prop": 0.64473138083997,
          "gender_dominant_group": "balanced",
          "job": "Laundry / Dry Cleaning",
          "total_prop_female": 0.6995208317749634,
          "year": 1920
         },
         {
          "Unnamed: 0": 52,
          "female_prop": 0.663714214940373,
          "gender_dominant_group": "balanced",
          "job": "Laundry / Dry Cleaning",
          "total_prop_female": 0.6995208317749634,
          "year": 1930
         },
         {
          "Unnamed: 0": 53,
          "female_prop": 0.7653008862642093,
          "gender_dominant_group": "female dominant",
          "job": "Laundry / Dry Cleaning",
          "total_prop_female": 0.6995208317749634,
          "year": 1940
         },
         {
          "Unnamed: 0": 54,
          "female_prop": 0.6816628196022727,
          "gender_dominant_group": "female dominant",
          "job": "Laundry / Dry Cleaning",
          "total_prop_female": 0.6995208317749634,
          "year": 1950
         },
         {
          "Unnamed: 0": 55,
          "female_prop": 0.7916791591254075,
          "gender_dominant_group": "female dominant",
          "job": "Laundry / Dry Cleaning",
          "total_prop_female": 0.6995208317749634,
          "year": 1960
         },
         {
          "Unnamed: 0": 56,
          "female_prop": 0.7469111578207961,
          "gender_dominant_group": "female dominant",
          "job": "Laundry / Dry Cleaning",
          "total_prop_female": 0.6995208317749634,
          "year": 1970
         },
         {
          "Unnamed: 0": 57,
          "female_prop": 0.7159159730320882,
          "gender_dominant_group": "female dominant",
          "job": "Laundry / Dry Cleaning",
          "total_prop_female": 0.6995208317749634,
          "year": 1980
         },
         {
          "Unnamed: 0": 58,
          "female_prop": 0.6634788179307132,
          "gender_dominant_group": "balanced",
          "job": "Laundry / Dry Cleaning",
          "total_prop_female": 0.6995208317749634,
          "year": 1990
         },
         {
          "Unnamed: 0": 59,
          "female_prop": 0.6358978381383674,
          "gender_dominant_group": "balanced",
          "job": "Laundry / Dry Cleaning",
          "total_prop_female": 0.6995208317749634,
          "year": 2000
         },
         {
          "Unnamed: 0": 60,
          "female_prop": 0.0823025402763531,
          "gender_dominant_group": "male dominant",
          "job": "Teacher",
          "total_prop_female": 0.7483293986495173,
          "year": 1850
         },
         {
          "Unnamed: 0": 61,
          "female_prop": 0.5987575129169449,
          "gender_dominant_group": "balanced",
          "job": "Teacher",
          "total_prop_female": 0.7483293986495173,
          "year": 1860
         },
         {
          "Unnamed: 0": 62,
          "female_prop": 0.6687423377089375,
          "gender_dominant_group": "female dominant",
          "job": "Teacher",
          "total_prop_female": 0.7483293986495173,
          "year": 1870
         },
         {
          "Unnamed: 0": 63,
          "female_prop": 0.675354137083088,
          "gender_dominant_group": "female dominant",
          "job": "Teacher",
          "total_prop_female": 0.7483293986495173,
          "year": 1880
         },
         {
          "Unnamed: 0": 64,
          "female_prop": 0.7457256027763142,
          "gender_dominant_group": "female dominant",
          "job": "Teacher",
          "total_prop_female": 0.7483293986495173,
          "year": 1900
         },
         {
          "Unnamed: 0": 65,
          "female_prop": 0.8035442616335119,
          "gender_dominant_group": "female dominant",
          "job": "Teacher",
          "total_prop_female": 0.7483293986495173,
          "year": 1910
         },
         {
          "Unnamed: 0": 66,
          "female_prop": 0.8372263138893884,
          "gender_dominant_group": "female dominant",
          "job": "Teacher",
          "total_prop_female": 0.7483293986495173,
          "year": 1920
         },
         {
          "Unnamed: 0": 67,
          "female_prop": 0.8014623183883082,
          "gender_dominant_group": "female dominant",
          "job": "Teacher",
          "total_prop_female": 0.7483293986495173,
          "year": 1930
         },
         {
          "Unnamed: 0": 68,
          "female_prop": 0.7474538642985986,
          "gender_dominant_group": "female dominant",
          "job": "Teacher",
          "total_prop_female": 0.7483293986495173,
          "year": 1940
         },
         {
          "Unnamed: 0": 69,
          "female_prop": 0.7446585448637436,
          "gender_dominant_group": "female dominant",
          "job": "Teacher",
          "total_prop_female": 0.7483293986495173,
          "year": 1950
         },
         {
          "Unnamed: 0": 70,
          "female_prop": 0.7670903649896879,
          "gender_dominant_group": "female dominant",
          "job": "Teacher",
          "total_prop_female": 0.7483293986495173,
          "year": 1960
         },
         {
          "Unnamed: 0": 71,
          "female_prop": 0.7414526775570964,
          "gender_dominant_group": "female dominant",
          "job": "Teacher",
          "total_prop_female": 0.7483293986495173,
          "year": 1970
         },
         {
          "Unnamed: 0": 72,
          "female_prop": 0.7161477555715916,
          "gender_dominant_group": "female dominant",
          "job": "Teacher",
          "total_prop_female": 0.7483293986495173,
          "year": 1980
         },
         {
          "Unnamed: 0": 73,
          "female_prop": 0.7439580297756162,
          "gender_dominant_group": "female dominant",
          "job": "Teacher",
          "total_prop_female": 0.7483293986495173,
          "year": 1990
         },
         {
          "Unnamed: 0": 74,
          "female_prop": 0.7608271129523845,
          "gender_dominant_group": "female dominant",
          "job": "Teacher",
          "total_prop_female": 0.7483293986495173,
          "year": 2000
         },
         {
          "Unnamed: 0": 75,
          "female_prop": 0,
          "gender_dominant_group": "only male",
          "job": "Bookkeeper",
          "total_prop_female": 0.7970515479334442,
          "year": 1850
         },
         {
          "Unnamed: 0": 76,
          "female_prop": 0.0175530674131094,
          "gender_dominant_group": "male dominant",
          "job": "Bookkeeper",
          "total_prop_female": 0.7970515479334442,
          "year": 1860
         },
         {
          "Unnamed: 0": 77,
          "female_prop": 0.03756278663463639,
          "gender_dominant_group": "male dominant",
          "job": "Bookkeeper",
          "total_prop_female": 0.7970515479334442,
          "year": 1870
         },
         {
          "Unnamed: 0": 78,
          "female_prop": 0.044016820550324534,
          "gender_dominant_group": "male dominant",
          "job": "Bookkeeper",
          "total_prop_female": 0.7970515479334442,
          "year": 1880
         },
         {
          "Unnamed: 0": 79,
          "female_prop": 0.26729355366567564,
          "gender_dominant_group": "male dominant",
          "job": "Bookkeeper",
          "total_prop_female": 0.7970515479334442,
          "year": 1900
         },
         {
          "Unnamed: 0": 80,
          "female_prop": 0.39264045581693,
          "gender_dominant_group": "balanced",
          "job": "Bookkeeper",
          "total_prop_female": 0.7970515479334442,
          "year": 1910
         },
         {
          "Unnamed: 0": 81,
          "female_prop": 0.536917423071758,
          "gender_dominant_group": "balanced",
          "job": "Bookkeeper",
          "total_prop_female": 0.7970515479334442,
          "year": 1920
         },
         {
          "Unnamed: 0": 82,
          "female_prop": 0.6220184315872255,
          "gender_dominant_group": "balanced",
          "job": "Bookkeeper",
          "total_prop_female": 0.7970515479334442,
          "year": 1930
         },
         {
          "Unnamed: 0": 83,
          "female_prop": 0.5117301784767703,
          "gender_dominant_group": "balanced",
          "job": "Bookkeeper",
          "total_prop_female": 0.7970515479334442,
          "year": 1940
         },
         {
          "Unnamed: 0": 84,
          "female_prop": 0.7709102671928576,
          "gender_dominant_group": "female dominant",
          "job": "Bookkeeper",
          "total_prop_female": 0.7970515479334442,
          "year": 1950
         },
         {
          "Unnamed: 0": 85,
          "female_prop": 0.8812632302098402,
          "gender_dominant_group": "female dominant",
          "job": "Bookkeeper",
          "total_prop_female": 0.7970515479334442,
          "year": 1960
         },
         {
          "Unnamed: 0": 86,
          "female_prop": 0.8452254503657435,
          "gender_dominant_group": "female dominant",
          "job": "Bookkeeper",
          "total_prop_female": 0.7970515479334442,
          "year": 1970
         },
         {
          "Unnamed: 0": 87,
          "female_prop": 0.9041838215310825,
          "gender_dominant_group": "female dominant",
          "job": "Bookkeeper",
          "total_prop_female": 0.7970515479334442,
          "year": 1980
         },
         {
          "Unnamed: 0": 88,
          "female_prop": 0.8982797778289188,
          "gender_dominant_group": "female dominant",
          "job": "Bookkeeper",
          "total_prop_female": 0.7970515479334442,
          "year": 1990
         },
         {
          "Unnamed: 0": 89,
          "female_prop": 0.8971596528957823,
          "gender_dominant_group": "female dominant",
          "job": "Bookkeeper",
          "total_prop_female": 0.7970515479334442,
          "year": 2000
         },
         {
          "Unnamed: 0": 90,
          "female_prop": 0.027349038721906308,
          "gender_dominant_group": "male dominant",
          "job": "Waiter / Waitress",
          "total_prop_female": 0.8190933158859155,
          "year": 1850
         },
         {
          "Unnamed: 0": 91,
          "female_prop": 0.08168230795968022,
          "gender_dominant_group": "male dominant",
          "job": "Waiter / Waitress",
          "total_prop_female": 0.8190933158859155,
          "year": 1860
         },
         {
          "Unnamed: 0": 92,
          "female_prop": 0.2887193803326387,
          "gender_dominant_group": "male dominant",
          "job": "Waiter / Waitress",
          "total_prop_female": 0.8190933158859155,
          "year": 1870
         },
         {
          "Unnamed: 0": 93,
          "female_prop": 0.21133858267716532,
          "gender_dominant_group": "male dominant",
          "job": "Waiter / Waitress",
          "total_prop_female": 0.8190933158859155,
          "year": 1880
         },
         {
          "Unnamed: 0": 94,
          "female_prop": 0.40689248950512813,
          "gender_dominant_group": "balanced",
          "job": "Waiter / Waitress",
          "total_prop_female": 0.8190933158859155,
          "year": 1900
         },
         {
          "Unnamed: 0": 95,
          "female_prop": 0.4365051707574359,
          "gender_dominant_group": "balanced",
          "job": "Waiter / Waitress",
          "total_prop_female": 0.8190933158859155,
          "year": 1910
         },
         {
          "Unnamed: 0": 96,
          "female_prop": 0.4891402714932127,
          "gender_dominant_group": "balanced",
          "job": "Waiter / Waitress",
          "total_prop_female": 0.8190933158859155,
          "year": 1920
         },
         {
          "Unnamed: 0": 97,
          "female_prop": 0.5454722331951725,
          "gender_dominant_group": "balanced",
          "job": "Waiter / Waitress",
          "total_prop_female": 0.8190933158859155,
          "year": 1930
         },
         {
          "Unnamed: 0": 98,
          "female_prop": 0.6671603883080239,
          "gender_dominant_group": "female dominant",
          "job": "Waiter / Waitress",
          "total_prop_female": 0.8190933158859155,
          "year": 1940
         },
         {
          "Unnamed: 0": 99,
          "female_prop": 0.8244811523974291,
          "gender_dominant_group": "female dominant",
          "job": "Waiter / Waitress",
          "total_prop_female": 0.8190933158859155,
          "year": 1950
         },
         {
          "Unnamed: 0": 100,
          "female_prop": 0.916475952975492,
          "gender_dominant_group": "female dominant",
          "job": "Waiter / Waitress",
          "total_prop_female": 0.8190933158859155,
          "year": 1960
         },
         {
          "Unnamed: 0": 101,
          "female_prop": 0.9152228001214424,
          "gender_dominant_group": "female dominant",
          "job": "Waiter / Waitress",
          "total_prop_female": 0.8190933158859155,
          "year": 1970
         },
         {
          "Unnamed: 0": 102,
          "female_prop": 0.9005961603086418,
          "gender_dominant_group": "female dominant",
          "job": "Waiter / Waitress",
          "total_prop_female": 0.8190933158859155,
          "year": 1980
         },
         {
          "Unnamed: 0": 103,
          "female_prop": 0.8257587042746881,
          "gender_dominant_group": "female dominant",
          "job": "Waiter / Waitress",
          "total_prop_female": 0.8190933158859155,
          "year": 1990
         },
         {
          "Unnamed: 0": 104,
          "female_prop": 0.7558666949810559,
          "gender_dominant_group": "female dominant",
          "job": "Waiter / Waitress",
          "total_prop_female": 0.8190933158859155,
          "year": 2000
         },
         {
          "Unnamed: 0": 105,
          "female_prop": 0.4370721432332807,
          "gender_dominant_group": "balanced",
          "job": "Household Worker",
          "total_prop_female": 0.9267194340261664,
          "year": 1850
         },
         {
          "Unnamed: 0": 106,
          "female_prop": 0.9438824434075848,
          "gender_dominant_group": "female dominant",
          "job": "Household Worker",
          "total_prop_female": 0.9267194340261664,
          "year": 1860
         },
         {
          "Unnamed: 0": 107,
          "female_prop": 0.9162087723865768,
          "gender_dominant_group": "female dominant",
          "job": "Household Worker",
          "total_prop_female": 0.9267194340261664,
          "year": 1870
         },
         {
          "Unnamed: 0": 108,
          "female_prop": 0.8453762162220521,
          "gender_dominant_group": "female dominant",
          "job": "Household Worker",
          "total_prop_female": 0.9267194340261664,
          "year": 1880
         },
         {
          "Unnamed: 0": 109,
          "female_prop": 0.9303472986997324,
          "gender_dominant_group": "female dominant",
          "job": "Household Worker",
          "total_prop_female": 0.9267194340261664,
          "year": 1900
         },
         {
          "Unnamed: 0": 110,
          "female_prop": 0.8760418364785733,
          "gender_dominant_group": "female dominant",
          "job": "Household Worker",
          "total_prop_female": 0.9267194340261664,
          "year": 1910
         },
         {
          "Unnamed: 0": 111,
          "female_prop": 0.931340593760976,
          "gender_dominant_group": "female dominant",
          "job": "Household Worker",
          "total_prop_female": 0.9267194340261664,
          "year": 1920
         },
         {
          "Unnamed: 0": 112,
          "female_prop": 0.9471398679153328,
          "gender_dominant_group": "female dominant",
          "job": "Household Worker",
          "total_prop_female": 0.9267194340261664,
          "year": 1930
         },
         {
          "Unnamed: 0": 113,
          "female_prop": 0.9229138822898932,
          "gender_dominant_group": "female dominant",
          "job": "Household Worker",
          "total_prop_female": 0.9267194340261664,
          "year": 1940
         },
         {
          "Unnamed: 0": 114,
          "female_prop": 0.9431126110637276,
          "gender_dominant_group": "female dominant",
          "job": "Household Worker",
          "total_prop_female": 0.9267194340261664,
          "year": 1950
         },
         {
          "Unnamed: 0": 115,
          "female_prop": 0.9602539196674696,
          "gender_dominant_group": "female dominant",
          "job": "Household Worker",
          "total_prop_female": 0.9267194340261664,
          "year": 1960
         },
         {
          "Unnamed: 0": 116,
          "female_prop": 0.9552330626493885,
          "gender_dominant_group": "female dominant",
          "job": "Household Worker",
          "total_prop_female": 0.9267194340261664,
          "year": 1970
         },
         {
          "Unnamed: 0": 117,
          "female_prop": 0.9437289797519244,
          "gender_dominant_group": "female dominant",
          "job": "Household Worker",
          "total_prop_female": 0.9267194340261664,
          "year": 1980
         },
         {
          "Unnamed: 0": 118,
          "female_prop": 0.931413485980148,
          "gender_dominant_group": "female dominant",
          "job": "Household Worker",
          "total_prop_female": 0.9267194340261664,
          "year": 1990
         },
         {
          "Unnamed: 0": 119,
          "female_prop": 0.7969904364773602,
          "gender_dominant_group": "female dominant",
          "job": "Household Worker",
          "total_prop_female": 0.9267194340261664,
          "year": 2000
         },
         {
          "Unnamed: 0": 120,
          "female_prop": 0.875,
          "gender_dominant_group": "female dominant",
          "job": "Nurse",
          "total_prop_female": 0.9295679512617332,
          "year": 1850
         },
         {
          "Unnamed: 0": 121,
          "female_prop": 0.9849925705794949,
          "gender_dominant_group": "female dominant",
          "job": "Nurse",
          "total_prop_female": 0.9295679512617332,
          "year": 1860
         },
         {
          "Unnamed: 0": 122,
          "female_prop": 0.936472346786248,
          "gender_dominant_group": "female dominant",
          "job": "Nurse",
          "total_prop_female": 0.9295679512617332,
          "year": 1870
         },
         {
          "Unnamed: 0": 123,
          "female_prop": 0.9212495708891176,
          "gender_dominant_group": "female dominant",
          "job": "Nurse",
          "total_prop_female": 0.9295679512617332,
          "year": 1880
         },
         {
          "Unnamed: 0": 124,
          "female_prop": 0.9301299928656802,
          "gender_dominant_group": "female dominant",
          "job": "Nurse",
          "total_prop_female": 0.9295679512617332,
          "year": 1900
         },
         {
          "Unnamed: 0": 125,
          "female_prop": 0.9105634314208024,
          "gender_dominant_group": "female dominant",
          "job": "Nurse",
          "total_prop_female": 0.9295679512617332,
          "year": 1910
         },
         {
          "Unnamed: 0": 126,
          "female_prop": 0.9668510580493254,
          "gender_dominant_group": "female dominant",
          "job": "Nurse",
          "total_prop_female": 0.9295679512617332,
          "year": 1920
         },
         {
          "Unnamed: 0": 127,
          "female_prop": 0.9897120074951372,
          "gender_dominant_group": "female dominant",
          "job": "Nurse",
          "total_prop_female": 0.9295679512617332,
          "year": 1930
         },
         {
          "Unnamed: 0": 128,
          "female_prop": 0.9561879892129436,
          "gender_dominant_group": "female dominant",
          "job": "Nurse",
          "total_prop_female": 0.9295679512617332,
          "year": 1940
         },
         {
          "Unnamed: 0": 129,
          "female_prop": 0.9725915772318692,
          "gender_dominant_group": "female dominant",
          "job": "Nurse",
          "total_prop_female": 0.9295679512617332,
          "year": 1950
         },
         {
          "Unnamed: 0": 130,
          "female_prop": 0.9779789193808756,
          "gender_dominant_group": "female dominant",
          "job": "Nurse",
          "total_prop_female": 0.9295679512617332,
          "year": 1960
         },
         {
          "Unnamed: 0": 131,
          "female_prop": 0.9455540909860448,
          "gender_dominant_group": "female dominant",
          "job": "Nurse",
          "total_prop_female": 0.9295679512617332,
          "year": 1970
         },
         {
          "Unnamed: 0": 132,
          "female_prop": 0.9312883277528688,
          "gender_dominant_group": "female dominant",
          "job": "Nurse",
          "total_prop_female": 0.9295679512617332,
          "year": 1980
         },
         {
          "Unnamed: 0": 133,
          "female_prop": 0.91789979668045,
          "gender_dominant_group": "female dominant",
          "job": "Nurse",
          "total_prop_female": 0.9295679512617332,
          "year": 1990
         },
         {
          "Unnamed: 0": 134,
          "female_prop": 0.8967838675815827,
          "gender_dominant_group": "female dominant",
          "job": "Nurse",
          "total_prop_female": 0.9295679512617332,
          "year": 2000
         },
         {
          "Unnamed: 0": 135,
          "female_prop": 0.9168039538714992,
          "gender_dominant_group": "female dominant",
          "job": "Dressmaker / Seamstress",
          "total_prop_female": 0.9654444242161606,
          "year": 1850
         },
         {
          "Unnamed: 0": 136,
          "female_prop": 0.985644278756539,
          "gender_dominant_group": "female dominant",
          "job": "Dressmaker / Seamstress",
          "total_prop_female": 0.9654444242161606,
          "year": 1860
         },
         {
          "Unnamed: 0": 137,
          "female_prop": 0.9878420752565564,
          "gender_dominant_group": "female dominant",
          "job": "Dressmaker / Seamstress",
          "total_prop_female": 0.9654444242161606,
          "year": 1870
         },
         {
          "Unnamed: 0": 138,
          "female_prop": 0.9957435374700916,
          "gender_dominant_group": "female dominant",
          "job": "Dressmaker / Seamstress",
          "total_prop_female": 0.9654444242161606,
          "year": 1880
         },
         {
          "Unnamed: 0": 139,
          "female_prop": 0.990789398962961,
          "gender_dominant_group": "female dominant",
          "job": "Dressmaker / Seamstress",
          "total_prop_female": 0.9654444242161606,
          "year": 1900
         },
         {
          "Unnamed: 0": 140,
          "female_prop": 0.9895062394008608,
          "gender_dominant_group": "female dominant",
          "job": "Dressmaker / Seamstress",
          "total_prop_female": 0.9654444242161606,
          "year": 1910
         },
         {
          "Unnamed: 0": 141,
          "female_prop": 0.971756938923646,
          "gender_dominant_group": "female dominant",
          "job": "Dressmaker / Seamstress",
          "total_prop_female": 0.9654444242161606,
          "year": 1920
         },
         {
          "Unnamed: 0": 142,
          "female_prop": 0.9732762860754272,
          "gender_dominant_group": "female dominant",
          "job": "Dressmaker / Seamstress",
          "total_prop_female": 0.9654444242161606,
          "year": 1930
         },
         {
          "Unnamed: 0": 143,
          "female_prop": 0.9552463910862138,
          "gender_dominant_group": "female dominant",
          "job": "Dressmaker / Seamstress",
          "total_prop_female": 0.9654444242161606,
          "year": 1940
         },
         {
          "Unnamed: 0": 144,
          "female_prop": 0.9688433718650712,
          "gender_dominant_group": "female dominant",
          "job": "Dressmaker / Seamstress",
          "total_prop_female": 0.9654444242161606,
          "year": 1950
         },
         {
          "Unnamed: 0": 145,
          "female_prop": 0.9714290183156676,
          "gender_dominant_group": "female dominant",
          "job": "Dressmaker / Seamstress",
          "total_prop_female": 0.9654444242161606,
          "year": 1960
         },
         {
          "Unnamed: 0": 146,
          "female_prop": 0.9622064052742378,
          "gender_dominant_group": "female dominant",
          "job": "Dressmaker / Seamstress",
          "total_prop_female": 0.9654444242161606,
          "year": 1970
         },
         {
          "Unnamed: 0": 147,
          "female_prop": 0.94302721655257,
          "gender_dominant_group": "female dominant",
          "job": "Dressmaker / Seamstress",
          "total_prop_female": 0.9654444242161606,
          "year": 1980
         },
         {
          "Unnamed: 0": 148,
          "female_prop": 0.9391102630298948,
          "gender_dominant_group": "female dominant",
          "job": "Dressmaker / Seamstress",
          "total_prop_female": 0.9654444242161606,
          "year": 1990
         },
         {
          "Unnamed: 0": 149,
          "female_prop": 0.7656380649014534,
          "gender_dominant_group": "female dominant",
          "job": "Dressmaker / Seamstress",
          "total_prop_female": 0.9654444242161606,
          "year": 2000
         }
        ]
       },
       "resolve": {
        "legend": {
         "color": "independent",
         "size": "independent"
        }
       },
       "vconcat": [
        {
         "layer": [
          {
           "encoding": {
            "color": {
             "field": "job",
             "title": "Job Title",
             "type": "nominal"
            },
            "x": {
             "field": "year",
             "title": "Year",
             "type": "ordinal"
            },
            "y": {
             "axis": {
              "format": "%"
             },
             "field": "female_prop",
             "scale": {
              "domain": [
               0,
               1
              ]
             },
             "title": "Proportion of Women",
             "type": "quantitative"
            }
           },
           "height": 200,
           "mark": "line",
           "transform": [
            {
             "filter": {
              "selection": "selector008"
             }
            }
           ],
           "width": 550
          },
          {
           "encoding": {
            "x": {
             "field": "year",
             "type": "ordinal"
            }
           },
           "mark": {
            "color": "#aaa",
            "type": "rule"
           },
           "transform": [
            {
             "filter": {
              "selection": "selector009"
             }
            }
           ]
          },
          {
           "encoding": {
            "color": {
             "field": "job",
             "title": "Job Title",
             "type": "nominal"
            },
            "opacity": {
             "condition": {
              "selection": "selector009",
              "value": 1
             },
             "value": 0
            },
            "x": {
             "field": "year",
             "title": "Year",
             "type": "ordinal"
            },
            "y": {
             "axis": {
              "format": "%"
             },
             "field": "female_prop",
             "scale": {
              "domain": [
               0,
               1
              ]
             },
             "title": "Proportion of Women",
             "type": "quantitative"
            }
           },
           "height": 200,
           "mark": "circle",
           "selection": {
            "selector009": {
             "empty": "none",
             "encodings": [
              "x"
             ],
             "nearest": true,
             "on": "mouseover",
             "type": "single"
            }
           },
           "transform": [
            {
             "filter": {
              "selection": "selector008"
             }
            }
           ],
           "width": 550
          },
          {
           "encoding": {
            "color": {
             "field": "job",
             "title": "Job Title",
             "type": "nominal"
            },
            "text": {
             "field": "female_prop",
             "format": ".2%",
             "type": "quantitative"
            },
            "x": {
             "field": "year",
             "title": "Year",
             "type": "ordinal"
            },
            "y": {
             "axis": {
              "format": "%"
             },
             "field": "female_prop",
             "scale": {
              "domain": [
               0,
               1
              ]
             },
             "title": "Proportion of Women",
             "type": "quantitative"
            }
           },
           "height": 200,
           "mark": {
            "align": "left",
            "dx": 5,
            "dy": -5,
            "stroke": "white",
            "strokeWidth": 2,
            "type": "text"
           },
           "transform": [
            {
             "filter": {
              "selection": "selector008"
             }
            },
            {
             "filter": {
              "selection": "selector009"
             }
            }
           ],
           "width": 550
          },
          {
           "encoding": {
            "color": {
             "field": "job",
             "title": "Job Title",
             "type": "nominal"
            },
            "text": {
             "field": "female_prop",
             "format": ".2%",
             "type": "quantitative"
            },
            "x": {
             "field": "year",
             "title": "Year",
             "type": "ordinal"
            },
            "y": {
             "axis": {
              "format": "%"
             },
             "field": "female_prop",
             "scale": {
              "domain": [
               0,
               1
              ]
             },
             "title": "Proportion of Women",
             "type": "quantitative"
            }
           },
           "height": 200,
           "mark": {
            "align": "left",
            "dx": 5,
            "dy": -5,
            "type": "text"
           },
           "transform": [
            {
             "filter": {
              "selection": "selector008"
             }
            },
            {
             "filter": {
              "selection": "selector009"
             }
            }
           ],
           "width": 550
          }
         ]
        },
        {
         "encoding": {
          "color": {
           "condition": {
            "selection": "selector008",
            "value": "steelblue"
           },
           "value": "grey"
          },
          "x": {
           "field": "job",
           "sort": {
            "field": "total_prop_female",
            "op": "sum",
            "order": "descending"
           },
           "title": "Job Title",
           "type": "nominal"
          },
          "y": {
           "axis": {
            "format": "%"
           },
           "field": "total_prop_female",
           "title": "Proportion of Women",
           "type": "quantitative"
          }
         },
         "height": 200,
         "mark": "bar",
         "selection": {
          "selector008": {
           "encodings": [
            "x"
           ],
           "type": "interval"
          }
         },
         "title": "Select a bar on the plot below to see an individual job's data on the plot above",
         "width": 550
        }
       ]
      },
      "image/png": "[encoded data removed]",
      "text/plain": [
       "<VegaLite 3 object>\n",
       "\n",
       "If you see this message, it means the renderer has not been properly enabled\n",
       "for the frontend that you are using. For more information, see\n",
       "https://altair-viz.github.io/user_guide/troubleshooting.html\n"
      ]
     },
     "execution_count": 6,
     "metadata": {},
     "output_type": "execute_result"
    }
   ],
   "source": [
    "import pandas as pd\n",
    "import altair as alt\n",
    "# READ IN SOURCE CODE HERE\n",
    "\n",
    "# EX: pd.read_csv('data/top_10_female_jobs.csv')\n",
    "\n",
    "#source = pd.read_csv('../data/top_10_female_jobs.csv')\n",
    "\n",
    "pts = alt.selection(type=\"interval\", encodings=['x'])\n",
    "\n",
    "lin = alt.Chart(source).mark_line().encode(\n",
    "    alt.X('year:O', title='Year'),\n",
    "    alt.Y('female_prop:Q',\n",
    "          title=\"Proportion of Women\",\n",
    "          axis=alt.Axis(format='%'), \n",
    "          scale=alt.Scale(domain=[0,1])),\n",
    "    alt.Color('job:N', title= \"Job Title\")\n",
    "    \n",
    ").transform_filter(\n",
    "    pts\n",
    ").properties(\n",
    "    width=550,\n",
    "    height=200\n",
    ")\n",
    "\n",
    "label = alt.selection_single(\n",
    "    encodings=['x'], # limit selection to x-axis value\n",
    "    on='mouseover',  # select on mouseover events\n",
    "    nearest=True,    # select data point nearest the cursor\n",
    "    empty='none'     # empty selection includes no data points\n",
    ")\n",
    "\n",
    "lin_w_interaction = alt.layer(\n",
    "    lin, # base line chart\n",
    "        alt.Chart().mark_rule(color='#aaa').encode(\n",
    "        x='year:O'\n",
    "    ).transform_filter(label),\n",
    "    lin.mark_circle().encode(\n",
    "        opacity=alt.condition(label, alt.value(1), alt.value(0))\n",
    "    ).add_selection(label),\n",
    "    lin.mark_text(align='left', dx=5, dy=-5, stroke='white', strokeWidth=2).encode(\n",
    "        text=alt.Text('female_prop:Q',format='.2%')\n",
    "    ).transform_filter(label),\n",
    "     lin.mark_text(align='left', dx=5, dy=-5).encode(\n",
    "        text=alt.Text('female_prop:Q',format='.2%')\n",
    "    ).transform_filter(label),\n",
    "    data = source\n",
    ")\n",
    "\n",
    "bar = alt.Chart(source).mark_bar().encode(\n",
    "    x=alt.X('job:N',\n",
    "            title='Job Title',\n",
    "            sort=alt.EncodingSortField(field=\"total_prop_female\",op=\"sum\",order=\"descending\" )),\n",
    "    y=alt.Y('total_prop_female:Q',\n",
    "            title=\"Proportion of Women\",\n",
    "            axis=alt.Axis(format='%')),\n",
    "    color=alt.condition(pts, alt.ColorValue(\"steelblue\"), alt.ColorValue(\"grey\"))\n",
    ").properties(\n",
    "    width=550,\n",
    "    height=200,\n",
    "    title=\"Select a bar on the plot below to see an individual job's data on the plot above\"\n",
    ").add_selection(pts)\n",
    "\n",
    "alt.vconcat(\n",
    "    lin_w_interaction,\n",
    "    bar\n",
    ").resolve_legend(\n",
    "    color=\"independent\",\n",
    "    size=\"independent\"\n",
    ")\n",
    "\n"
   ]
  },
  {
   "cell_type": "code",
   "execution_count": 10,
   "metadata": {},
   "outputs": [
    {
     "data": {
      "application/vnd.vegalite.v3+json": {
       "$schema": "https://vega.github.io/schema/vega-lite/v3.4.0.json",
       "config": {
        "mark": {
         "tooltip": null
        },
        "view": {
         "height": 300,
         "width": 400
        }
       },
       "data": {
        "name": "data-349627548d37a80fb78d689a17212d57"
       },
       "datasets": {
        "data-349627548d37a80fb78d689a17212d57": [
         {
          "Unnamed: 0": 0,
          "female_prop": 0,
          "gender_dominant_group": "only male",
          "job": "Designer",
          "total_prop_female": 0.5367864365918308,
          "year": 1850
         },
         {
          "Unnamed: 0": 1,
          "female_prop": 0,
          "gender_dominant_group": "only male",
          "job": "Designer",
          "total_prop_female": 0.5367864365918308,
          "year": 1860
         },
         {
          "Unnamed: 0": 2,
          "female_prop": 0,
          "gender_dominant_group": "only male",
          "job": "Designer",
          "total_prop_female": 0.5367864365918308,
          "year": 1870
         },
         {
          "Unnamed: 0": 3,
          "female_prop": 0,
          "gender_dominant_group": "only male",
          "job": "Designer",
          "total_prop_female": 0.5367864365918308,
          "year": 1880
         },
         {
          "Unnamed: 0": 4,
          "female_prop": 0.07887840670859539,
          "gender_dominant_group": "male dominant",
          "job": "Designer",
          "total_prop_female": 0.5367864365918308,
          "year": 1900
         },
         {
          "Unnamed: 0": 5,
          "female_prop": 0.2926026336173509,
          "gender_dominant_group": "male dominant",
          "job": "Designer",
          "total_prop_female": 0.5367864365918308,
          "year": 1910
         },
         {
          "Unnamed: 0": 6,
          "female_prop": 0.3233234421364985,
          "gender_dominant_group": "male dominant",
          "job": "Designer",
          "total_prop_female": 0.5367864365918308,
          "year": 1920
         },
         {
          "Unnamed: 0": 7,
          "female_prop": 0.5000898957209636,
          "gender_dominant_group": "balanced",
          "job": "Designer",
          "total_prop_female": 0.5367864365918308,
          "year": 1930
         },
         {
          "Unnamed: 0": 8,
          "female_prop": 0.3621890950336223,
          "gender_dominant_group": "balanced",
          "job": "Designer",
          "total_prop_female": 0.5367864365918308,
          "year": 1940
         },
         {
          "Unnamed: 0": 9,
          "female_prop": 0.2448454751030905,
          "gender_dominant_group": "male dominant",
          "job": "Designer",
          "total_prop_female": 0.5367864365918308,
          "year": 1950
         },
         {
          "Unnamed: 0": 10,
          "female_prop": 0.2611597531218602,
          "gender_dominant_group": "male dominant",
          "job": "Designer",
          "total_prop_female": 0.5367864365918308,
          "year": 1960
         },
         {
          "Unnamed: 0": 11,
          "female_prop": 0.3070788003528374,
          "gender_dominant_group": "male dominant",
          "job": "Designer",
          "total_prop_female": 0.5367864365918308,
          "year": 1970
         },
         {
          "Unnamed: 0": 12,
          "female_prop": 0.5467679611962512,
          "gender_dominant_group": "balanced",
          "job": "Designer",
          "total_prop_female": 0.5367864365918308,
          "year": 1980
         },
         {
          "Unnamed: 0": 13,
          "female_prop": 0.5872335949170016,
          "gender_dominant_group": "balanced",
          "job": "Designer",
          "total_prop_female": 0.5367864365918308,
          "year": 1990
         },
         {
          "Unnamed: 0": 14,
          "female_prop": 0.5827838332396229,
          "gender_dominant_group": "balanced",
          "job": "Designer",
          "total_prop_female": 0.5367864365918308,
          "year": 2000
         },
         {
          "Unnamed: 0": 15,
          "female_prop": 0,
          "gender_dominant_group": "only male",
          "job": "Ticket Agent",
          "total_prop_female": 0.5020746918348593,
          "year": 1850
         },
         {
          "Unnamed: 0": 16,
          "female_prop": 0,
          "gender_dominant_group": "only male",
          "job": "Ticket Agent",
          "total_prop_female": 0.5020746918348593,
          "year": 1860
         },
         {
          "Unnamed: 0": 17,
          "female_prop": 0.010251153254741158,
          "gender_dominant_group": "male dominant",
          "job": "Ticket Agent",
          "total_prop_female": 0.5020746918348593,
          "year": 1870
         },
         {
          "Unnamed: 0": 18,
          "female_prop": 0.01877558703119853,
          "gender_dominant_group": "male dominant",
          "job": "Ticket Agent",
          "total_prop_female": 0.5020746918348593,
          "year": 1880
         },
         {
          "Unnamed: 0": 19,
          "female_prop": 0.010983931921372448,
          "gender_dominant_group": "male dominant",
          "job": "Ticket Agent",
          "total_prop_female": 0.5020746918348593,
          "year": 1900
         },
         {
          "Unnamed: 0": 20,
          "female_prop": 0.041998865797111117,
          "gender_dominant_group": "male dominant",
          "job": "Ticket Agent",
          "total_prop_female": 0.5020746918348593,
          "year": 1910
         },
         {
          "Unnamed: 0": 21,
          "female_prop": 0.031967808640250374,
          "gender_dominant_group": "male dominant",
          "job": "Ticket Agent",
          "total_prop_female": 0.5020746918348593,
          "year": 1920
         },
         {
          "Unnamed: 0": 22,
          "female_prop": 0.009016875456635244,
          "gender_dominant_group": "male dominant",
          "job": "Ticket Agent",
          "total_prop_female": 0.5020746918348593,
          "year": 1930
         },
         {
          "Unnamed: 0": 23,
          "female_prop": 0.04847113670643082,
          "gender_dominant_group": "male dominant",
          "job": "Ticket Agent",
          "total_prop_female": 0.5020746918348593,
          "year": 1940
         },
         {
          "Unnamed: 0": 24,
          "female_prop": 0.12026995655490333,
          "gender_dominant_group": "male dominant",
          "job": "Ticket Agent",
          "total_prop_female": 0.5020746918348593,
          "year": 1950
         },
         {
          "Unnamed: 0": 25,
          "female_prop": 0.27271263405365365,
          "gender_dominant_group": "male dominant",
          "job": "Ticket Agent",
          "total_prop_female": 0.5020746918348593,
          "year": 1960
         },
         {
          "Unnamed: 0": 26,
          "female_prop": 0.4289684705487216,
          "gender_dominant_group": "balanced",
          "job": "Ticket Agent",
          "total_prop_female": 0.5020746918348593,
          "year": 1970
         },
         {
          "Unnamed: 0": 27,
          "female_prop": 0.5832409645914974,
          "gender_dominant_group": "balanced",
          "job": "Ticket Agent",
          "total_prop_female": 0.5020746918348593,
          "year": 1980
         },
         {
          "Unnamed: 0": 28,
          "female_prop": 0.7153097285045928,
          "gender_dominant_group": "female dominant",
          "job": "Ticket Agent",
          "total_prop_female": 0.5020746918348593,
          "year": 1990
         },
         {
          "Unnamed: 0": 29,
          "female_prop": 0.7461435953948885,
          "gender_dominant_group": "female dominant",
          "job": "Ticket Agent",
          "total_prop_female": 0.5020746918348593,
          "year": 2000
         },
         {
          "Unnamed: 0": 30,
          "female_prop": 0,
          "gender_dominant_group": "only male",
          "job": "Bill Collector",
          "total_prop_female": 0.5015977758037908,
          "year": 1850
         },
         {
          "Unnamed: 0": 31,
          "female_prop": 0,
          "gender_dominant_group": "only male",
          "job": "Bill Collector",
          "total_prop_female": 0.5015977758037908,
          "year": 1860
         },
         {
          "Unnamed: 0": 32,
          "female_prop": 0,
          "gender_dominant_group": "only male",
          "job": "Bill Collector",
          "total_prop_female": 0.5015977758037908,
          "year": 1870
         },
         {
          "Unnamed: 0": 33,
          "female_prop": 0.02639915522703273,
          "gender_dominant_group": "male dominant",
          "job": "Bill Collector",
          "total_prop_female": 0.5015977758037908,
          "year": 1880
         },
         {
          "Unnamed: 0": 34,
          "female_prop": 0.009387259480665048,
          "gender_dominant_group": "male dominant",
          "job": "Bill Collector",
          "total_prop_female": 0.5015977758037908,
          "year": 1900
         },
         {
          "Unnamed: 0": 35,
          "female_prop": 0.060624285800204486,
          "gender_dominant_group": "male dominant",
          "job": "Bill Collector",
          "total_prop_female": 0.5015977758037908,
          "year": 1910
         },
         {
          "Unnamed: 0": 36,
          "female_prop": 0.0984116337916527,
          "gender_dominant_group": "male dominant",
          "job": "Bill Collector",
          "total_prop_female": 0.5015977758037908,
          "year": 1920
         },
         {
          "Unnamed: 0": 37,
          "female_prop": 0.08858952850739915,
          "gender_dominant_group": "male dominant",
          "job": "Bill Collector",
          "total_prop_female": 0.5015977758037908,
          "year": 1930
         },
         {
          "Unnamed: 0": 38,
          "female_prop": 0.07989280023178329,
          "gender_dominant_group": "male dominant",
          "job": "Bill Collector",
          "total_prop_female": 0.5015977758037908,
          "year": 1940
         },
         {
          "Unnamed: 0": 39,
          "female_prop": 0.1755483052383542,
          "gender_dominant_group": "male dominant",
          "job": "Bill Collector",
          "total_prop_female": 0.5015977758037908,
          "year": 1950
         },
         {
          "Unnamed: 0": 40,
          "female_prop": 0.2288632260936225,
          "gender_dominant_group": "male dominant",
          "job": "Bill Collector",
          "total_prop_female": 0.5015977758037908,
          "year": 1960
         },
         {
          "Unnamed: 0": 41,
          "female_prop": 0.4268457319645619,
          "gender_dominant_group": "balanced",
          "job": "Bill Collector",
          "total_prop_female": 0.5015977758037908,
          "year": 1970
         },
         {
          "Unnamed: 0": 42,
          "female_prop": 0.6128643100608939,
          "gender_dominant_group": "balanced",
          "job": "Bill Collector",
          "total_prop_female": 0.5015977758037908,
          "year": 1980
         },
         {
          "Unnamed: 0": 43,
          "female_prop": 0.6690628641062094,
          "gender_dominant_group": "female dominant",
          "job": "Bill Collector",
          "total_prop_female": 0.5015977758037908,
          "year": 1990
         },
         {
          "Unnamed: 0": 44,
          "female_prop": 0.7197051884108547,
          "gender_dominant_group": "female dominant",
          "job": "Bill Collector",
          "total_prop_female": 0.5015977758037908,
          "year": 2000
         },
         {
          "Unnamed: 0": 45,
          "female_prop": 0,
          "gender_dominant_group": "only male",
          "job": "Author",
          "total_prop_female": 0.4839602706691722,
          "year": 1850
         },
         {
          "Unnamed: 0": 46,
          "female_prop": 0.400398406374502,
          "gender_dominant_group": "balanced",
          "job": "Author",
          "total_prop_female": 0.4839602706691722,
          "year": 1860
         },
         {
          "Unnamed: 0": 47,
          "female_prop": 0.39880952380952384,
          "gender_dominant_group": "balanced",
          "job": "Author",
          "total_prop_female": 0.4839602706691722,
          "year": 1870
         },
         {
          "Unnamed: 0": 48,
          "female_prop": 0.11049107142857142,
          "gender_dominant_group": "male dominant",
          "job": "Author",
          "total_prop_female": 0.4839602706691722,
          "year": 1880
         },
         {
          "Unnamed: 0": 49,
          "female_prop": 0.5789197692711064,
          "gender_dominant_group": "balanced",
          "job": "Author",
          "total_prop_female": 0.4839602706691722,
          "year": 1900
         },
         {
          "Unnamed: 0": 50,
          "female_prop": 0.375,
          "gender_dominant_group": "balanced",
          "job": "Author",
          "total_prop_female": 0.4839602706691722,
          "year": 1910
         },
         {
          "Unnamed: 0": 51,
          "female_prop": 0.4325443786982249,
          "gender_dominant_group": "balanced",
          "job": "Author",
          "total_prop_female": 0.4839602706691722,
          "year": 1920
         },
         {
          "Unnamed: 0": 52,
          "female_prop": 0.4000474833808167,
          "gender_dominant_group": "balanced",
          "job": "Author",
          "total_prop_female": 0.4839602706691722,
          "year": 1930
         },
         {
          "Unnamed: 0": 53,
          "female_prop": 0.2599396236110219,
          "gender_dominant_group": "male dominant",
          "job": "Author",
          "total_prop_female": 0.4839602706691722,
          "year": 1940
         },
         {
          "Unnamed: 0": 54,
          "female_prop": 0.3634906386252885,
          "gender_dominant_group": "balanced",
          "job": "Author",
          "total_prop_female": 0.4839602706691722,
          "year": 1950
         },
         {
          "Unnamed: 0": 55,
          "female_prop": 0.351590817559404,
          "gender_dominant_group": "balanced",
          "job": "Author",
          "total_prop_female": 0.4839602706691722,
          "year": 1960
         },
         {
          "Unnamed: 0": 56,
          "female_prop": 0.3973621578738596,
          "gender_dominant_group": "balanced",
          "job": "Author",
          "total_prop_female": 0.4839602706691722,
          "year": 1970
         },
         {
          "Unnamed: 0": 57,
          "female_prop": 0.4806477380001452,
          "gender_dominant_group": "balanced",
          "job": "Author",
          "total_prop_female": 0.4839602706691722,
          "year": 1980
         },
         {
          "Unnamed: 0": 58,
          "female_prop": 0.5043103448275862,
          "gender_dominant_group": "balanced",
          "job": "Author",
          "total_prop_female": 0.4839602706691722,
          "year": 1990
         },
         {
          "Unnamed: 0": 59,
          "female_prop": 0.5439773177647023,
          "gender_dominant_group": "balanced",
          "job": "Author",
          "total_prop_female": 0.4839602706691722,
          "year": 2000
         },
         {
          "Unnamed: 0": 60,
          "female_prop": 0,
          "gender_dominant_group": "only male",
          "job": "Editor / Reporter",
          "total_prop_female": 0.4719777674849467,
          "year": 1850
         },
         {
          "Unnamed: 0": 61,
          "female_prop": 0,
          "gender_dominant_group": "only male",
          "job": "Editor / Reporter",
          "total_prop_female": 0.4719777674849467,
          "year": 1860
         },
         {
          "Unnamed: 0": 62,
          "female_prop": 0.016852039096730706,
          "gender_dominant_group": "male dominant",
          "job": "Editor / Reporter",
          "total_prop_female": 0.4719777674849467,
          "year": 1870
         },
         {
          "Unnamed: 0": 63,
          "female_prop": 0.03259452411994785,
          "gender_dominant_group": "male dominant",
          "job": "Editor / Reporter",
          "total_prop_female": 0.4719777674849467,
          "year": 1880
         },
         {
          "Unnamed: 0": 64,
          "female_prop": 0.08788536972801245,
          "gender_dominant_group": "male dominant",
          "job": "Editor / Reporter",
          "total_prop_female": 0.4719777674849467,
          "year": 1900
         },
         {
          "Unnamed: 0": 65,
          "female_prop": 0.10063970756225724,
          "gender_dominant_group": "male dominant",
          "job": "Editor / Reporter",
          "total_prop_female": 0.4719777674849467,
          "year": 1910
         },
         {
          "Unnamed: 0": 66,
          "female_prop": 0.16761405042996647,
          "gender_dominant_group": "male dominant",
          "job": "Editor / Reporter",
          "total_prop_female": 0.4719777674849467,
          "year": 1920
         },
         {
          "Unnamed: 0": 67,
          "female_prop": 0.20489995784285112,
          "gender_dominant_group": "male dominant",
          "job": "Editor / Reporter",
          "total_prop_female": 0.4719777674849467,
          "year": 1930
         },
         {
          "Unnamed: 0": 68,
          "female_prop": 0.2410972935772475,
          "gender_dominant_group": "male dominant",
          "job": "Editor / Reporter",
          "total_prop_female": 0.4719777674849467,
          "year": 1940
         },
         {
          "Unnamed: 0": 69,
          "female_prop": 0.27695906944201504,
          "gender_dominant_group": "male dominant",
          "job": "Editor / Reporter",
          "total_prop_female": 0.4719777674849467,
          "year": 1950
         },
         {
          "Unnamed: 0": 70,
          "female_prop": 0.42478341092659794,
          "gender_dominant_group": "balanced",
          "job": "Editor / Reporter",
          "total_prop_female": 0.4719777674849467,
          "year": 1960
         },
         {
          "Unnamed: 0": 71,
          "female_prop": 0.4237956795614473,
          "gender_dominant_group": "balanced",
          "job": "Editor / Reporter",
          "total_prop_female": 0.4719777674849467,
          "year": 1970
         },
         {
          "Unnamed: 0": 72,
          "female_prop": 0.5180076569006332,
          "gender_dominant_group": "balanced",
          "job": "Editor / Reporter",
          "total_prop_female": 0.4719777674849467,
          "year": 1980
         },
         {
          "Unnamed: 0": 73,
          "female_prop": 0.5574790678886313,
          "gender_dominant_group": "balanced",
          "job": "Editor / Reporter",
          "total_prop_female": 0.4719777674849467,
          "year": 1990
         },
         {
          "Unnamed: 0": 74,
          "female_prop": 0.5711755245030787,
          "gender_dominant_group": "balanced",
          "job": "Editor / Reporter",
          "total_prop_female": 0.4719777674849467,
          "year": 2000
         },
         {
          "Unnamed: 0": 75,
          "female_prop": 0,
          "gender_dominant_group": "only male",
          "job": "Artist / Art Teacher",
          "total_prop_female": 0.464288729127476,
          "year": 1850
         },
         {
          "Unnamed: 0": 76,
          "female_prop": 0.10747912595487652,
          "gender_dominant_group": "male dominant",
          "job": "Artist / Art Teacher",
          "total_prop_female": 0.464288729127476,
          "year": 1860
         },
         {
          "Unnamed: 0": 77,
          "female_prop": 0.11901375059269795,
          "gender_dominant_group": "male dominant",
          "job": "Artist / Art Teacher",
          "total_prop_female": 0.464288729127476,
          "year": 1870
         },
         {
          "Unnamed: 0": 78,
          "female_prop": 0.3821806713223699,
          "gender_dominant_group": "balanced",
          "job": "Artist / Art Teacher",
          "total_prop_female": 0.464288729127476,
          "year": 1880
         },
         {
          "Unnamed: 0": 79,
          "female_prop": 0.4381243476964365,
          "gender_dominant_group": "balanced",
          "job": "Artist / Art Teacher",
          "total_prop_female": 0.464288729127476,
          "year": 1900
         },
         {
          "Unnamed: 0": 80,
          "female_prop": 0.43661932453589797,
          "gender_dominant_group": "balanced",
          "job": "Artist / Art Teacher",
          "total_prop_female": 0.464288729127476,
          "year": 1910
         },
         {
          "Unnamed: 0": 81,
          "female_prop": 0.4095319299070917,
          "gender_dominant_group": "balanced",
          "job": "Artist / Art Teacher",
          "total_prop_female": 0.464288729127476,
          "year": 1920
         },
         {
          "Unnamed: 0": 82,
          "female_prop": 0.3669957891679977,
          "gender_dominant_group": "balanced",
          "job": "Artist / Art Teacher",
          "total_prop_female": 0.464288729127476,
          "year": 1930
         },
         {
          "Unnamed: 0": 83,
          "female_prop": 0.3131846293263804,
          "gender_dominant_group": "male dominant",
          "job": "Artist / Art Teacher",
          "total_prop_female": 0.464288729127476,
          "year": 1940
         },
         {
          "Unnamed: 0": 84,
          "female_prop": 0.3660729452304109,
          "gender_dominant_group": "balanced",
          "job": "Artist / Art Teacher",
          "total_prop_female": 0.464288729127476,
          "year": 1950
         },
         {
          "Unnamed: 0": 85,
          "female_prop": 0.4586281855603349,
          "gender_dominant_group": "balanced",
          "job": "Artist / Art Teacher",
          "total_prop_female": 0.464288729127476,
          "year": 1960
         },
         {
          "Unnamed: 0": 86,
          "female_prop": 0.42404305238806217,
          "gender_dominant_group": "balanced",
          "job": "Artist / Art Teacher",
          "total_prop_female": 0.464288729127476,
          "year": 1970
         },
         {
          "Unnamed: 0": 87,
          "female_prop": 0.5089842948202309,
          "gender_dominant_group": "balanced",
          "job": "Artist / Art Teacher",
          "total_prop_female": 0.464288729127476,
          "year": 1980
         },
         {
          "Unnamed: 0": 88,
          "female_prop": 0.5461229625118202,
          "gender_dominant_group": "balanced",
          "job": "Artist / Art Teacher",
          "total_prop_female": 0.464288729127476,
          "year": 1990
         },
         {
          "Unnamed: 0": 89,
          "female_prop": 0.4946164360566893,
          "gender_dominant_group": "balanced",
          "job": "Artist / Art Teacher",
          "total_prop_female": 0.464288729127476,
          "year": 2000
         },
         {
          "Unnamed: 0": 90,
          "female_prop": 0.041062474590052855,
          "gender_dominant_group": "male dominant",
          "job": "Professional - Misc",
          "total_prop_female": 0.4547630893723492,
          "year": 1850
         },
         {
          "Unnamed: 0": 91,
          "female_prop": 0,
          "gender_dominant_group": "only male",
          "job": "Professional - Misc",
          "total_prop_female": 0.4547630893723492,
          "year": 1860
         },
         {
          "Unnamed: 0": 92,
          "female_prop": 0.049825610363726965,
          "gender_dominant_group": "male dominant",
          "job": "Professional - Misc",
          "total_prop_female": 0.4547630893723492,
          "year": 1870
         },
         {
          "Unnamed: 0": 93,
          "female_prop": 0.15382639958911146,
          "gender_dominant_group": "male dominant",
          "job": "Professional - Misc",
          "total_prop_female": 0.4547630893723492,
          "year": 1880
         },
         {
          "Unnamed: 0": 94,
          "female_prop": 0.17263519623801776,
          "gender_dominant_group": "male dominant",
          "job": "Professional - Misc",
          "total_prop_female": 0.4547630893723492,
          "year": 1900
         },
         {
          "Unnamed: 0": 95,
          "female_prop": 0.4772860558487842,
          "gender_dominant_group": "balanced",
          "job": "Professional - Misc",
          "total_prop_female": 0.4547630893723492,
          "year": 1910
         },
         {
          "Unnamed: 0": 96,
          "female_prop": 0.2561604584527221,
          "gender_dominant_group": "male dominant",
          "job": "Professional - Misc",
          "total_prop_female": 0.4547630893723492,
          "year": 1920
         },
         {
          "Unnamed: 0": 97,
          "female_prop": 0.07354181818181818,
          "gender_dominant_group": "male dominant",
          "job": "Professional - Misc",
          "total_prop_female": 0.4547630893723492,
          "year": 1930
         },
         {
          "Unnamed: 0": 98,
          "female_prop": 0.2197066830596294,
          "gender_dominant_group": "male dominant",
          "job": "Professional - Misc",
          "total_prop_female": 0.4547630893723492,
          "year": 1940
         },
         {
          "Unnamed: 0": 99,
          "female_prop": 0.16440083137415246,
          "gender_dominant_group": "male dominant",
          "job": "Professional - Misc",
          "total_prop_female": 0.4547630893723492,
          "year": 1950
         },
         {
          "Unnamed: 0": 100,
          "female_prop": 0.26319552273818964,
          "gender_dominant_group": "male dominant",
          "job": "Professional - Misc",
          "total_prop_female": 0.4547630893723492,
          "year": 1960
         },
         {
          "Unnamed: 0": 101,
          "female_prop": 0.4574944232137838,
          "gender_dominant_group": "balanced",
          "job": "Professional - Misc",
          "total_prop_female": 0.4547630893723492,
          "year": 1970
         },
         {
          "Unnamed: 0": 102,
          "female_prop": 0.4778533584677754,
          "gender_dominant_group": "balanced",
          "job": "Professional - Misc",
          "total_prop_female": 0.4547630893723492,
          "year": 1980
         },
         {
          "Unnamed: 0": 103,
          "female_prop": 0.4594674462203298,
          "gender_dominant_group": "balanced",
          "job": "Professional - Misc",
          "total_prop_female": 0.4547630893723492,
          "year": 1990
         },
         {
          "Unnamed: 0": 104,
          "female_prop": 0.4777300014356862,
          "gender_dominant_group": "balanced",
          "job": "Professional - Misc",
          "total_prop_female": 0.4547630893723492,
          "year": 2000
         },
         {
          "Unnamed: 0": 105,
          "female_prop": 0,
          "gender_dominant_group": "only male",
          "job": "Entertainer",
          "total_prop_female": 0.4502052575029216,
          "year": 1850
         },
         {
          "Unnamed: 0": 106,
          "female_prop": 0,
          "gender_dominant_group": "only male",
          "job": "Entertainer",
          "total_prop_female": 0.4502052575029216,
          "year": 1860
         },
         {
          "Unnamed: 0": 107,
          "female_prop": 0.14326241134751774,
          "gender_dominant_group": "male dominant",
          "job": "Entertainer",
          "total_prop_female": 0.4502052575029216,
          "year": 1870
         },
         {
          "Unnamed: 0": 108,
          "female_prop": 0.099724379854673,
          "gender_dominant_group": "male dominant",
          "job": "Entertainer",
          "total_prop_female": 0.4502052575029216,
          "year": 1880
         },
         {
          "Unnamed: 0": 109,
          "female_prop": 0.0976913730255164,
          "gender_dominant_group": "male dominant",
          "job": "Entertainer",
          "total_prop_female": 0.4502052575029216,
          "year": 1900
         },
         {
          "Unnamed: 0": 110,
          "female_prop": 0.01124146852834902,
          "gender_dominant_group": "male dominant",
          "job": "Entertainer",
          "total_prop_female": 0.4502052575029216,
          "year": 1910
         },
         {
          "Unnamed: 0": 111,
          "female_prop": 0.09987608426270136,
          "gender_dominant_group": "male dominant",
          "job": "Entertainer",
          "total_prop_female": 0.4502052575029216,
          "year": 1920
         },
         {
          "Unnamed: 0": 112,
          "female_prop": 0.13642491237530333,
          "gender_dominant_group": "male dominant",
          "job": "Entertainer",
          "total_prop_female": 0.4502052575029216,
          "year": 1930
         },
         {
          "Unnamed: 0": 113,
          "female_prop": 0.11720893767150135,
          "gender_dominant_group": "male dominant",
          "job": "Entertainer",
          "total_prop_female": 0.4502052575029216,
          "year": 1940
         },
         {
          "Unnamed: 0": 114,
          "female_prop": 0.3717486550940048,
          "gender_dominant_group": "balanced",
          "job": "Entertainer",
          "total_prop_female": 0.4502052575029216,
          "year": 1950
         },
         {
          "Unnamed: 0": 115,
          "female_prop": 0.3184813304047694,
          "gender_dominant_group": "male dominant",
          "job": "Entertainer",
          "total_prop_female": 0.4502052575029216,
          "year": 1960
         },
         {
          "Unnamed: 0": 116,
          "female_prop": 0.3182399279217854,
          "gender_dominant_group": "male dominant",
          "job": "Entertainer",
          "total_prop_female": 0.4502052575029216,
          "year": 1970
         },
         {
          "Unnamed: 0": 117,
          "female_prop": 0.4050670214199111,
          "gender_dominant_group": "balanced",
          "job": "Entertainer",
          "total_prop_female": 0.4502052575029216,
          "year": 1980
         },
         {
          "Unnamed: 0": 118,
          "female_prop": 0.506748599277587,
          "gender_dominant_group": "balanced",
          "job": "Entertainer",
          "total_prop_female": 0.4502052575029216,
          "year": 1990
         },
         {
          "Unnamed: 0": 119,
          "female_prop": 0.5910393833554137,
          "gender_dominant_group": "balanced",
          "job": "Entertainer",
          "total_prop_female": 0.4502052575029216,
          "year": 2000
         },
         {
          "Unnamed: 0": 120,
          "female_prop": 0.0038661269998854476,
          "gender_dominant_group": "male dominant",
          "job": "Salesman",
          "total_prop_female": 0.4488426852670786,
          "year": 1850
         },
         {
          "Unnamed: 0": 121,
          "female_prop": 0.026934769543170905,
          "gender_dominant_group": "male dominant",
          "job": "Salesman",
          "total_prop_female": 0.4488426852670786,
          "year": 1860
         },
         {
          "Unnamed: 0": 122,
          "female_prop": 0.055517205674248435,
          "gender_dominant_group": "male dominant",
          "job": "Salesman",
          "total_prop_female": 0.4488426852670786,
          "year": 1870
         },
         {
          "Unnamed: 0": 123,
          "female_prop": 0.08214762651692341,
          "gender_dominant_group": "male dominant",
          "job": "Salesman",
          "total_prop_female": 0.4488426852670786,
          "year": 1880
         },
         {
          "Unnamed: 0": 124,
          "female_prop": 0.1956569372080532,
          "gender_dominant_group": "male dominant",
          "job": "Salesman",
          "total_prop_female": 0.4488426852670786,
          "year": 1900
         },
         {
          "Unnamed: 0": 125,
          "female_prop": 0.24863086124435246,
          "gender_dominant_group": "male dominant",
          "job": "Salesman",
          "total_prop_female": 0.4488426852670786,
          "year": 1910
         },
         {
          "Unnamed: 0": 126,
          "female_prop": 0.2998256112521754,
          "gender_dominant_group": "male dominant",
          "job": "Salesman",
          "total_prop_female": 0.4488426852670786,
          "year": 1920
         },
         {
          "Unnamed: 0": 127,
          "female_prop": 0.27614480038921435,
          "gender_dominant_group": "male dominant",
          "job": "Salesman",
          "total_prop_female": 0.4488426852670786,
          "year": 1930
         },
         {
          "Unnamed: 0": 128,
          "female_prop": 0.3162332616486385,
          "gender_dominant_group": "male dominant",
          "job": "Salesman",
          "total_prop_female": 0.4488426852670786,
          "year": 1940
         },
         {
          "Unnamed: 0": 129,
          "female_prop": 0.3825670354839636,
          "gender_dominant_group": "balanced",
          "job": "Salesman",
          "total_prop_female": 0.4488426852670786,
          "year": 1950
         },
         {
          "Unnamed: 0": 130,
          "female_prop": 0.5559493879998834,
          "gender_dominant_group": "balanced",
          "job": "Salesman",
          "total_prop_female": 0.4488426852670786,
          "year": 1960
         },
         {
          "Unnamed: 0": 131,
          "female_prop": 0.5372724937886196,
          "gender_dominant_group": "balanced",
          "job": "Salesman",
          "total_prop_female": 0.4488426852670786,
          "year": 1970
         },
         {
          "Unnamed: 0": 132,
          "female_prop": 0.5141894815965783,
          "gender_dominant_group": "balanced",
          "job": "Salesman",
          "total_prop_female": 0.4488426852670786,
          "year": 1980
         },
         {
          "Unnamed: 0": 133,
          "female_prop": 0.4917072783987598,
          "gender_dominant_group": "balanced",
          "job": "Salesman",
          "total_prop_female": 0.4488426852670786,
          "year": 1990
         },
         {
          "Unnamed: 0": 134,
          "female_prop": 0.4847878864724831,
          "gender_dominant_group": "balanced",
          "job": "Salesman",
          "total_prop_female": 0.4488426852670786,
          "year": 2000
         },
         {
          "Unnamed: 0": 135,
          "female_prop": 0.006268263039486954,
          "gender_dominant_group": "male dominant",
          "job": "Operative",
          "total_prop_female": 0.4411504421062736,
          "year": 1850
         },
         {
          "Unnamed: 0": 136,
          "female_prop": 0.2279795651361286,
          "gender_dominant_group": "male dominant",
          "job": "Operative",
          "total_prop_female": 0.4411504421062736,
          "year": 1860
         },
         {
          "Unnamed: 0": 137,
          "female_prop": 0.2302240720103305,
          "gender_dominant_group": "male dominant",
          "job": "Operative",
          "total_prop_female": 0.4411504421062736,
          "year": 1870
         },
         {
          "Unnamed: 0": 138,
          "female_prop": 0.2348477348941383,
          "gender_dominant_group": "male dominant",
          "job": "Operative",
          "total_prop_female": 0.4411504421062736,
          "year": 1880
         },
         {
          "Unnamed: 0": 139,
          "female_prop": 0.31890747113123624,
          "gender_dominant_group": "male dominant",
          "job": "Operative",
          "total_prop_female": 0.4411504421062736,
          "year": 1900
         },
         {
          "Unnamed: 0": 140,
          "female_prop": 0.3497732674331945,
          "gender_dominant_group": "balanced",
          "job": "Operative",
          "total_prop_female": 0.4411504421062736,
          "year": 1910
         },
         {
          "Unnamed: 0": 141,
          "female_prop": 0.360577863833891,
          "gender_dominant_group": "balanced",
          "job": "Operative",
          "total_prop_female": 0.4411504421062736,
          "year": 1920
         },
         {
          "Unnamed: 0": 142,
          "female_prop": 0.37169195347754064,
          "gender_dominant_group": "balanced",
          "job": "Operative",
          "total_prop_female": 0.4411504421062736,
          "year": 1930
         },
         {
          "Unnamed: 0": 143,
          "female_prop": 0.4063791917866733,
          "gender_dominant_group": "balanced",
          "job": "Operative",
          "total_prop_female": 0.4411504421062736,
          "year": 1940
         },
         {
          "Unnamed: 0": 144,
          "female_prop": 0.38846062947501947,
          "gender_dominant_group": "balanced",
          "job": "Operative",
          "total_prop_female": 0.4411504421062736,
          "year": 1950
         },
         {
          "Unnamed: 0": 145,
          "female_prop": 0.5028881632713288,
          "gender_dominant_group": "balanced",
          "job": "Operative",
          "total_prop_female": 0.4411504421062736,
          "year": 1960
         },
         {
          "Unnamed: 0": 146,
          "female_prop": 0.5081206717502426,
          "gender_dominant_group": "balanced",
          "job": "Operative",
          "total_prop_female": 0.4411504421062736,
          "year": 1970
         },
         {
          "Unnamed: 0": 147,
          "female_prop": 0.4931863431031571,
          "gender_dominant_group": "balanced",
          "job": "Operative",
          "total_prop_female": 0.4411504421062736,
          "year": 1980
         },
         {
          "Unnamed: 0": 148,
          "female_prop": 0.4647514945978307,
          "gender_dominant_group": "balanced",
          "job": "Operative",
          "total_prop_female": 0.4411504421062736,
          "year": 1990
         },
         {
          "Unnamed: 0": 149,
          "female_prop": 0.41842302886578175,
          "gender_dominant_group": "balanced",
          "job": "Operative",
          "total_prop_female": 0.4411504421062736,
          "year": 2000
         }
        ]
       },
       "resolve": {
        "legend": {
         "color": "independent",
         "size": "independent"
        }
       },
       "vconcat": [
        {
         "layer": [
          {
           "encoding": {
            "color": {
             "field": "job",
             "title": "Job Title",
             "type": "nominal"
            },
            "x": {
             "field": "year",
             "title": "Year",
             "type": "ordinal"
            },
            "y": {
             "axis": {
              "format": "%"
             },
             "field": "female_prop",
             "scale": {
              "domain": [
               0,
               1
              ]
             },
             "title": "Proportion of Women",
             "type": "quantitative"
            }
           },
           "height": 200,
           "mark": "line",
           "transform": [
            {
             "filter": {
              "selection": "selector015"
             }
            }
           ],
           "width": 550
          },
          {
           "encoding": {
            "x": {
             "field": "year",
             "type": "ordinal"
            }
           },
           "mark": {
            "color": "#aaa",
            "type": "rule"
           },
           "transform": [
            {
             "filter": {
              "selection": "selector016"
             }
            }
           ]
          },
          {
           "encoding": {
            "color": {
             "field": "job",
             "title": "Job Title",
             "type": "nominal"
            },
            "opacity": {
             "condition": {
              "selection": "selector016",
              "value": 1
             },
             "value": 0
            },
            "x": {
             "field": "year",
             "title": "Year",
             "type": "ordinal"
            },
            "y": {
             "axis": {
              "format": "%"
             },
             "field": "female_prop",
             "scale": {
              "domain": [
               0,
               1
              ]
             },
             "title": "Proportion of Women",
             "type": "quantitative"
            }
           },
           "height": 200,
           "mark": "circle",
           "selection": {
            "selector016": {
             "empty": "none",
             "encodings": [
              "x"
             ],
             "nearest": true,
             "on": "mouseover",
             "type": "single"
            }
           },
           "transform": [
            {
             "filter": {
              "selection": "selector015"
             }
            }
           ],
           "width": 550
          },
          {
           "encoding": {
            "color": {
             "field": "job",
             "title": "Job Title",
             "type": "nominal"
            },
            "text": {
             "field": "female_prop",
             "format": ".2%",
             "type": "quantitative"
            },
            "x": {
             "field": "year",
             "title": "Year",
             "type": "ordinal"
            },
            "y": {
             "axis": {
              "format": "%"
             },
             "field": "female_prop",
             "scale": {
              "domain": [
               0,
               1
              ]
             },
             "title": "Proportion of Women",
             "type": "quantitative"
            }
           },
           "height": 200,
           "mark": {
            "align": "left",
            "dx": 5,
            "dy": -5,
            "stroke": "white",
            "strokeWidth": 2,
            "type": "text"
           },
           "transform": [
            {
             "filter": {
              "selection": "selector015"
             }
            },
            {
             "filter": {
              "selection": "selector016"
             }
            }
           ],
           "width": 550
          },
          {
           "encoding": {
            "color": {
             "field": "job",
             "title": "Job Title",
             "type": "nominal"
            },
            "text": {
             "field": "female_prop",
             "format": ".2%",
             "type": "quantitative"
            },
            "x": {
             "field": "year",
             "title": "Year",
             "type": "ordinal"
            },
            "y": {
             "axis": {
              "format": "%"
             },
             "field": "female_prop",
             "scale": {
              "domain": [
               0,
               1
              ]
             },
             "title": "Proportion of Women",
             "type": "quantitative"
            }
           },
           "height": 200,
           "mark": {
            "align": "left",
            "dx": 5,
            "dy": -5,
            "type": "text"
           },
           "transform": [
            {
             "filter": {
              "selection": "selector015"
             }
            },
            {
             "filter": {
              "selection": "selector016"
             }
            }
           ],
           "width": 550
          }
         ]
        },
        {
         "encoding": {
          "color": {
           "condition": {
            "selection": "selector015",
            "value": "steelblue"
           },
           "value": "grey"
          },
          "x": {
           "field": "job",
           "sort": {
            "field": "total_prop_female",
            "op": "sum",
            "order": "descending"
           },
           "title": "Job Title",
           "type": "nominal"
          },
          "y": {
           "axis": {
            "format": "%"
           },
           "field": "total_prop_female",
           "title": "Proportion of Women",
           "type": "quantitative"
          }
         },
         "height": 200,
         "mark": "bar",
         "selection": {
          "selector015": {
           "encodings": [
            "x"
           ],
           "type": "single"
          }
         },
         "title": "Select a bar on the plot below to see an individual job's data on the plot above",
         "width": 550
        }
       ]
      },
      "image/png": "[encoded data removed]",
      "text/plain": [
       "<VegaLite 3 object>\n",
       "\n",
       "If you see this message, it means the renderer has not been properly enabled\n",
       "for the frontend that you are using. For more information, see\n",
       "https://altair-viz.github.io/user_guide/troubleshooting.html\n"
      ]
     },
     "execution_count": 10,
     "metadata": {},
     "output_type": "execute_result"
    }
   ],
   "source": []
  },
  {
   "cell_type": "code",
   "execution_count": null,
   "metadata": {},
   "outputs": [],
   "source": []
  }
 ],
 "metadata": {
  "kernelspec": {
   "display_name": "Python 3",
   "language": "python",
   "name": "python3"
  },
  "language_info": {
   "codemirror_mode": {
    "name": "ipython",
    "version": 3
   },
   "file_extension": ".py",
   "mimetype": "text/x-python",
   "name": "python",
   "nbconvert_exporter": "python",
   "pygments_lexer": "ipython3",
   "version": "3.7.3"
  }
 },
 "nbformat": 4,
 "nbformat_minor": 4
}
