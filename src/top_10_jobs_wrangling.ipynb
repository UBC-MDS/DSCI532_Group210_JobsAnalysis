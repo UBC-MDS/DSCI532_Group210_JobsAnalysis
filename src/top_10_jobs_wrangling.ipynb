{
 "cells": [
  {
   "cell_type": "code",
   "execution_count": 1,
   "metadata": {},
   "outputs": [
    {
     "data": {
      "text/plain": [
       "DataTransformerRegistry.enable('json')"
      ]
     },
     "execution_count": 1,
     "metadata": {},
     "output_type": "execute_result"
    }
   ],
   "source": [
    "# Load packages\n",
    "\n",
    "import pandas as pd\n",
    "import altair as alt\n",
    "from vega_datasets import data \n",
    "import numpy\n",
    "\n",
    "# Need to enable this to allow work with larger datasets (https://altair-viz.github.io/user_guide/faq.html)\n",
    "alt.data_transformers.enable('json')"
   ]
  },
  {
   "cell_type": "code",
   "execution_count": 2,
   "metadata": {},
   "outputs": [
    {
     "data": {
      "text/html": [
       "<div>\n",
       "<style scoped>\n",
       "    .dataframe tbody tr th:only-of-type {\n",
       "        vertical-align: middle;\n",
       "    }\n",
       "\n",
       "    .dataframe tbody tr th {\n",
       "        vertical-align: top;\n",
       "    }\n",
       "\n",
       "    .dataframe thead tr th {\n",
       "        text-align: left;\n",
       "    }\n",
       "\n",
       "    .dataframe thead tr:last-of-type th {\n",
       "        text-align: right;\n",
       "    }\n",
       "</style>\n",
       "<table border=\"1\" class=\"dataframe\">\n",
       "  <thead>\n",
       "    <tr>\n",
       "      <th></th>\n",
       "      <th></th>\n",
       "      <th colspan=\"2\" halign=\"left\">count</th>\n",
       "    </tr>\n",
       "    <tr>\n",
       "      <th></th>\n",
       "      <th>sex</th>\n",
       "      <th>men</th>\n",
       "      <th>women</th>\n",
       "    </tr>\n",
       "    <tr>\n",
       "      <th>year</th>\n",
       "      <th>job</th>\n",
       "      <th></th>\n",
       "      <th></th>\n",
       "    </tr>\n",
       "  </thead>\n",
       "  <tbody>\n",
       "    <tr>\n",
       "      <th rowspan=\"5\" valign=\"top\">1850</th>\n",
       "      <th>Accountant / Auditor</th>\n",
       "      <td>708</td>\n",
       "      <td>0</td>\n",
       "    </tr>\n",
       "    <tr>\n",
       "      <th>Actor</th>\n",
       "      <td>506</td>\n",
       "      <td>0</td>\n",
       "    </tr>\n",
       "    <tr>\n",
       "      <th>Advertising Agent</th>\n",
       "      <td>0</td>\n",
       "      <td>0</td>\n",
       "    </tr>\n",
       "    <tr>\n",
       "      <th>Agent</th>\n",
       "      <td>2528</td>\n",
       "      <td>0</td>\n",
       "    </tr>\n",
       "    <tr>\n",
       "      <th>Apprentice</th>\n",
       "      <td>3134</td>\n",
       "      <td>101</td>\n",
       "    </tr>\n",
       "  </tbody>\n",
       "</table>\n",
       "</div>"
      ],
      "text/plain": [
       "                          count      \n",
       "sex                         men women\n",
       "year job                             \n",
       "1850 Accountant / Auditor   708     0\n",
       "     Actor                  506     0\n",
       "     Advertising Agent        0     0\n",
       "     Agent                 2528     0\n",
       "     Apprentice            3134   101"
      ]
     },
     "execution_count": 2,
     "metadata": {},
     "output_type": "execute_result"
    }
   ],
   "source": [
    "#reassigning for easier debugging\n",
    "df = data.jobs()\n",
    "# remove `perc` column\n",
    "df = df.drop(columns = 'perc')\n",
    "\n",
    "grouped_jobs = df.pivot_table(\n",
    "  columns=['sex'], \n",
    "  values=['count'], \n",
    "  index=['year', 'job']\n",
    ")\n",
    "\n",
    "# Categorize each row into a gender dominant group \n",
    "# based on its male to female ratio of that year\n",
    "def categorize_gender_dominant_group(row):  \n",
    "    male_count = row['count']['men']\n",
    "    female_count = row['count']['women']\n",
    "    if male_count == 0 and female_count == 0:\n",
    "        return 'no job'\n",
    "    elif row['count']['women'] == 0:\n",
    "        return 'only male'\n",
    "    elif row['count']['men'] == 0:\n",
    "        return 'only female'\n",
    "    elif (male_count/female_count) >= 2:\n",
    "        return 'male dominant'\n",
    "    elif (male_count/female_count) <= 0.5:\n",
    "        return 'female dominant'\n",
    "    else:\n",
    "        return 'balanced'\n",
    "\n",
    "# Compute the difference in proportion of men and women by job by year\n",
    "def compute_gender_prop_diff(row):  \n",
    "    male_count = row['count']['men']\n",
    "    female_count = row['count']['women']\n",
    "    \n",
    "    if male_count+female_count == 0:\n",
    "        return float('NaN')\n",
    "    else:\n",
    "        return (male_count-female_count)/(male_count+female_count)\n",
    "\n",
    "grouped_jobs.head()"
   ]
  },
  {
   "cell_type": "code",
   "execution_count": 3,
   "metadata": {},
   "outputs": [],
   "source": [
    "# Compute the difference in proportion of men and women by job by year\n",
    "def compute_total_gender_prop_diff(row):  \n",
    "    male_total = row['count']['men']\n",
    "    female_total = row['count']['women']\n",
    "    return (male_total-female_total)/(male_total+female_total)\n",
    "\n",
    "total_gender_prop_diffs_df = pd.DataFrame({'total_gender_prop_diff':grouped_jobs.groupby(['job']).sum().apply(compute_total_gender_prop_diff, axis=1)}).reset_index()\n"
   ]
  },
  {
   "cell_type": "code",
   "execution_count": 4,
   "metadata": {},
   "outputs": [
    {
     "data": {
      "text/html": [
       "<div>\n",
       "<style scoped>\n",
       "    .dataframe tbody tr th:only-of-type {\n",
       "        vertical-align: middle;\n",
       "    }\n",
       "\n",
       "    .dataframe tbody tr th {\n",
       "        vertical-align: top;\n",
       "    }\n",
       "\n",
       "    .dataframe thead tr th {\n",
       "        text-align: left;\n",
       "    }\n",
       "\n",
       "    .dataframe thead tr:last-of-type th {\n",
       "        text-align: right;\n",
       "    }\n",
       "</style>\n",
       "<table border=\"1\" class=\"dataframe\">\n",
       "  <thead>\n",
       "    <tr>\n",
       "      <th></th>\n",
       "      <th></th>\n",
       "      <th colspan=\"2\" halign=\"left\">count</th>\n",
       "      <th>gender_dominant_group</th>\n",
       "      <th>gender_prop_diff</th>\n",
       "    </tr>\n",
       "    <tr>\n",
       "      <th></th>\n",
       "      <th>sex</th>\n",
       "      <th>men</th>\n",
       "      <th>women</th>\n",
       "      <th></th>\n",
       "      <th></th>\n",
       "    </tr>\n",
       "    <tr>\n",
       "      <th>year</th>\n",
       "      <th>job</th>\n",
       "      <th></th>\n",
       "      <th></th>\n",
       "      <th></th>\n",
       "      <th></th>\n",
       "    </tr>\n",
       "  </thead>\n",
       "  <tbody>\n",
       "    <tr>\n",
       "      <th rowspan=\"5\" valign=\"top\">1850</th>\n",
       "      <th>Accountant / Auditor</th>\n",
       "      <td>708</td>\n",
       "      <td>0</td>\n",
       "      <td>only male</td>\n",
       "      <td>1.000000</td>\n",
       "    </tr>\n",
       "    <tr>\n",
       "      <th>Actor</th>\n",
       "      <td>506</td>\n",
       "      <td>0</td>\n",
       "      <td>only male</td>\n",
       "      <td>1.000000</td>\n",
       "    </tr>\n",
       "    <tr>\n",
       "      <th>Advertising Agent</th>\n",
       "      <td>0</td>\n",
       "      <td>0</td>\n",
       "      <td>no job</td>\n",
       "      <td>NaN</td>\n",
       "    </tr>\n",
       "    <tr>\n",
       "      <th>Agent</th>\n",
       "      <td>2528</td>\n",
       "      <td>0</td>\n",
       "      <td>only male</td>\n",
       "      <td>1.000000</td>\n",
       "    </tr>\n",
       "    <tr>\n",
       "      <th>Apprentice</th>\n",
       "      <td>3134</td>\n",
       "      <td>101</td>\n",
       "      <td>male dominant</td>\n",
       "      <td>0.937558</td>\n",
       "    </tr>\n",
       "  </tbody>\n",
       "</table>\n",
       "</div>"
      ],
      "text/plain": [
       "                          count       gender_dominant_group gender_prop_diff\n",
       "sex                         men women                                       \n",
       "year job                                                                    \n",
       "1850 Accountant / Auditor   708     0             only male         1.000000\n",
       "     Actor                  506     0             only male         1.000000\n",
       "     Advertising Agent        0     0                no job              NaN\n",
       "     Agent                 2528     0             only male         1.000000\n",
       "     Apprentice            3134   101         male dominant         0.937558"
      ]
     },
     "execution_count": 4,
     "metadata": {},
     "output_type": "execute_result"
    }
   ],
   "source": [
    "grouped_jobs['gender_dominant_group'] = grouped_jobs.apply(categorize_gender_dominant_group, axis=1)\n",
    "grouped_jobs['gender_prop_diff'] = grouped_jobs.apply(compute_gender_prop_diff, axis=1)\n",
    "\n",
    "grouped_jobs.head()\n"
   ]
  },
  {
   "cell_type": "code",
   "execution_count": 5,
   "metadata": {},
   "outputs": [],
   "source": [
    "jobs_tidy = grouped_jobs.drop(['count'], axis=1)\n",
    "jobs_tidy = jobs_tidy.reset_index()\n",
    "jobs_tidy.columns=jobs_tidy.columns.droplevel(1)\n",
    "# remove any rows with no observations (the next chunk will then remove these jobs completely)\n",
    "jobs_tidy = jobs_tidy.query(\"gender_dominant_group != 'no job'\")\n",
    "# remove jobs that do not have data for both genders for all 15 years\n",
    "full_year_data = jobs_tidy.groupby([\"job\"]).count().query(\"year == 15\").reset_index()[[\"job\"]]\n",
    "jobs_tidy = jobs_tidy[jobs_tidy[\"job\"].isin(full_year_data[\"job\"])]\n",
    "total_gender_prop_diffs_df = total_gender_prop_diffs_df[total_gender_prop_diffs_df[\"job\"].isin(full_year_data[\"job\"])]\n"
   ]
  },
  {
   "cell_type": "code",
   "execution_count": 6,
   "metadata": {},
   "outputs": [
    {
     "data": {
      "text/html": [
       "<div>\n",
       "<style scoped>\n",
       "    .dataframe tbody tr th:only-of-type {\n",
       "        vertical-align: middle;\n",
       "    }\n",
       "\n",
       "    .dataframe tbody tr th {\n",
       "        vertical-align: top;\n",
       "    }\n",
       "\n",
       "    .dataframe thead th {\n",
       "        text-align: right;\n",
       "    }\n",
       "</style>\n",
       "<table border=\"1\" class=\"dataframe\">\n",
       "  <thead>\n",
       "    <tr style=\"text-align: right;\">\n",
       "      <th></th>\n",
       "      <th>year</th>\n",
       "      <th>job</th>\n",
       "      <th>gender_dominant_group</th>\n",
       "      <th>gender_prop_diff</th>\n",
       "      <th>total_gender_prop_diff</th>\n",
       "      <th>sex</th>\n",
       "      <th>count</th>\n",
       "    </tr>\n",
       "  </thead>\n",
       "  <tbody>\n",
       "    <tr>\n",
       "      <th>0</th>\n",
       "      <td>1850</td>\n",
       "      <td>Architect</td>\n",
       "      <td>only male</td>\n",
       "      <td>1.0</td>\n",
       "      <td>0.751027</td>\n",
       "      <td>men</td>\n",
       "      <td>405</td>\n",
       "    </tr>\n",
       "    <tr>\n",
       "      <th>1</th>\n",
       "      <td>1850</td>\n",
       "      <td>Architect</td>\n",
       "      <td>only male</td>\n",
       "      <td>1.0</td>\n",
       "      <td>0.751027</td>\n",
       "      <td>women</td>\n",
       "      <td>0</td>\n",
       "    </tr>\n",
       "    <tr>\n",
       "      <th>2</th>\n",
       "      <td>1860</td>\n",
       "      <td>Architect</td>\n",
       "      <td>only male</td>\n",
       "      <td>1.0</td>\n",
       "      <td>0.751027</td>\n",
       "      <td>men</td>\n",
       "      <td>1707</td>\n",
       "    </tr>\n",
       "    <tr>\n",
       "      <th>3</th>\n",
       "      <td>1860</td>\n",
       "      <td>Architect</td>\n",
       "      <td>only male</td>\n",
       "      <td>1.0</td>\n",
       "      <td>0.751027</td>\n",
       "      <td>women</td>\n",
       "      <td>0</td>\n",
       "    </tr>\n",
       "    <tr>\n",
       "      <th>4</th>\n",
       "      <td>1870</td>\n",
       "      <td>Architect</td>\n",
       "      <td>only male</td>\n",
       "      <td>1.0</td>\n",
       "      <td>0.751027</td>\n",
       "      <td>men</td>\n",
       "      <td>1914</td>\n",
       "    </tr>\n",
       "  </tbody>\n",
       "</table>\n",
       "</div>"
      ],
      "text/plain": [
       "   year        job gender_dominant_group  gender_prop_diff  \\\n",
       "0  1850  Architect             only male               1.0   \n",
       "1  1850  Architect             only male               1.0   \n",
       "2  1860  Architect             only male               1.0   \n",
       "3  1860  Architect             only male               1.0   \n",
       "4  1870  Architect             only male               1.0   \n",
       "\n",
       "   total_gender_prop_diff    sex  count  \n",
       "0                0.751027    men    405  \n",
       "1                0.751027  women      0  \n",
       "2                0.751027    men   1707  \n",
       "3                0.751027  women      0  \n",
       "4                0.751027    men   1914  "
      ]
     },
     "execution_count": 6,
     "metadata": {},
     "output_type": "execute_result"
    }
   ],
   "source": [
    "jobs_tidy_complete = jobs_tidy.merge(total_gender_prop_diffs_df, how = \"inner\", on = [\"job\"]).merge(df, how = \"inner\", on = [\"year\",\"job\"])\n",
    "jobs_tidy_complete.head()\n"
   ]
  },
  {
   "cell_type": "code",
   "execution_count": 7,
   "metadata": {},
   "outputs": [
    {
     "data": {
      "text/html": [
       "<div>\n",
       "<style scoped>\n",
       "    .dataframe tbody tr th:only-of-type {\n",
       "        vertical-align: middle;\n",
       "    }\n",
       "\n",
       "    .dataframe tbody tr th {\n",
       "        vertical-align: top;\n",
       "    }\n",
       "\n",
       "    .dataframe thead th {\n",
       "        text-align: right;\n",
       "    }\n",
       "</style>\n",
       "<table border=\"1\" class=\"dataframe\">\n",
       "  <thead>\n",
       "    <tr style=\"text-align: right;\">\n",
       "      <th></th>\n",
       "      <th>job</th>\n",
       "      <th>only male</th>\n",
       "      <th>male dominant</th>\n",
       "      <th>balanced</th>\n",
       "      <th>female dominant</th>\n",
       "      <th>only female</th>\n",
       "    </tr>\n",
       "  </thead>\n",
       "  <tbody>\n",
       "    <tr>\n",
       "      <th>0</th>\n",
       "      <td>Architect</td>\n",
       "      <td>6</td>\n",
       "      <td>9</td>\n",
       "      <td>0</td>\n",
       "      <td>0</td>\n",
       "      <td>0</td>\n",
       "    </tr>\n",
       "    <tr>\n",
       "      <th>1</th>\n",
       "      <td>Artist / Art Teacher</td>\n",
       "      <td>1</td>\n",
       "      <td>3</td>\n",
       "      <td>11</td>\n",
       "      <td>0</td>\n",
       "      <td>0</td>\n",
       "    </tr>\n",
       "    <tr>\n",
       "      <th>2</th>\n",
       "      <td>Author</td>\n",
       "      <td>1</td>\n",
       "      <td>2</td>\n",
       "      <td>12</td>\n",
       "      <td>0</td>\n",
       "      <td>0</td>\n",
       "    </tr>\n",
       "    <tr>\n",
       "      <th>3</th>\n",
       "      <td>Baker</td>\n",
       "      <td>0</td>\n",
       "      <td>11</td>\n",
       "      <td>4</td>\n",
       "      <td>0</td>\n",
       "      <td>0</td>\n",
       "    </tr>\n",
       "    <tr>\n",
       "      <th>4</th>\n",
       "      <td>Barber / Beautician</td>\n",
       "      <td>0</td>\n",
       "      <td>8</td>\n",
       "      <td>3</td>\n",
       "      <td>4</td>\n",
       "      <td>0</td>\n",
       "    </tr>\n",
       "  </tbody>\n",
       "</table>\n",
       "</div>"
      ],
      "text/plain": [
       "                    job  only male  male dominant  balanced  female dominant  \\\n",
       "0             Architect          6              9         0                0   \n",
       "1  Artist / Art Teacher          1              3        11                0   \n",
       "2                Author          1              2        12                0   \n",
       "3                 Baker          0             11         4                0   \n",
       "4   Barber / Beautician          0              8         3                4   \n",
       "\n",
       "   only female  \n",
       "0            0  \n",
       "1            0  \n",
       "2            0  \n",
       "3            0  \n",
       "4            0  "
      ]
     },
     "execution_count": 7,
     "metadata": {},
     "output_type": "execute_result"
    }
   ],
   "source": [
    "# Count the group\n",
    "gender_dominant_group_count_df = (\n",
    "    jobs_tidy.groupby(['job', 'gender_dominant_group']).size().unstack(fill_value = 0)\n",
    ")\n",
    "# Reset the index\n",
    "gender_dominant_group_count_df = gender_dominant_group_count_df.reset_index()\n",
    "gender_dominant_group_count_df.columns.name = ''\n",
    "# Set the total column\n",
    "\n",
    "\n",
    "gender_dominant_group_count_df = gender_dominant_group_count_df[['job','only male','male dominant','balanced', 'female dominant', 'only female']]\n",
    "\n",
    "gender_dominant_group_count_df.head()\n",
    "\n"
   ]
  },
  {
   "cell_type": "code",
   "execution_count": 8,
   "metadata": {},
   "outputs": [
    {
     "data": {
      "text/html": [
       "<div>\n",
       "<style scoped>\n",
       "    .dataframe tbody tr th:only-of-type {\n",
       "        vertical-align: middle;\n",
       "    }\n",
       "\n",
       "    .dataframe tbody tr th {\n",
       "        vertical-align: top;\n",
       "    }\n",
       "\n",
       "    .dataframe thead th {\n",
       "        text-align: right;\n",
       "    }\n",
       "</style>\n",
       "<table border=\"1\" class=\"dataframe\">\n",
       "  <thead>\n",
       "    <tr style=\"text-align: right;\">\n",
       "      <th></th>\n",
       "      <th>job</th>\n",
       "      <th>only male</th>\n",
       "      <th>male dominant</th>\n",
       "      <th>balanced</th>\n",
       "      <th>female dominant</th>\n",
       "      <th>only female</th>\n",
       "    </tr>\n",
       "  </thead>\n",
       "  <tbody>\n",
       "    <tr>\n",
       "      <th>0</th>\n",
       "      <td>Architect</td>\n",
       "      <td>12</td>\n",
       "      <td>9</td>\n",
       "      <td>0</td>\n",
       "      <td>0</td>\n",
       "      <td>0</td>\n",
       "    </tr>\n",
       "    <tr>\n",
       "      <th>1</th>\n",
       "      <td>Artist / Art Teacher</td>\n",
       "      <td>2</td>\n",
       "      <td>3</td>\n",
       "      <td>0</td>\n",
       "      <td>0</td>\n",
       "      <td>0</td>\n",
       "    </tr>\n",
       "    <tr>\n",
       "      <th>2</th>\n",
       "      <td>Author</td>\n",
       "      <td>2</td>\n",
       "      <td>2</td>\n",
       "      <td>0</td>\n",
       "      <td>0</td>\n",
       "      <td>0</td>\n",
       "    </tr>\n",
       "    <tr>\n",
       "      <th>3</th>\n",
       "      <td>Baker</td>\n",
       "      <td>0</td>\n",
       "      <td>11</td>\n",
       "      <td>0</td>\n",
       "      <td>0</td>\n",
       "      <td>0</td>\n",
       "    </tr>\n",
       "    <tr>\n",
       "      <th>4</th>\n",
       "      <td>Barber / Beautician</td>\n",
       "      <td>0</td>\n",
       "      <td>8</td>\n",
       "      <td>0</td>\n",
       "      <td>-4</td>\n",
       "      <td>0</td>\n",
       "    </tr>\n",
       "  </tbody>\n",
       "</table>\n",
       "</div>"
      ],
      "text/plain": [
       "                    job  only male  male dominant  balanced  female dominant  \\\n",
       "0             Architect         12              9         0                0   \n",
       "1  Artist / Art Teacher          2              3         0                0   \n",
       "2                Author          2              2         0                0   \n",
       "3                 Baker          0             11         0                0   \n",
       "4   Barber / Beautician          0              8         0               -4   \n",
       "\n",
       "   only female  \n",
       "0            0  \n",
       "1            0  \n",
       "2            0  \n",
       "3            0  \n",
       "4            0  "
      ]
     },
     "execution_count": 8,
     "metadata": {},
     "output_type": "execute_result"
    }
   ],
   "source": [
    "gender_dominant_group_count_df['only male'] = gender_dominant_group_count_df['only male']*2\n",
    "gender_dominant_group_count_df['male dominant'] = gender_dominant_group_count_df['male dominant']*1\n",
    "gender_dominant_group_count_df['balanced'] = gender_dominant_group_count_df['balanced']*0\n",
    "gender_dominant_group_count_df['female dominant'] = gender_dominant_group_count_df['female dominant']*(-1)\n",
    "gender_dominant_group_count_df['only female'] = gender_dominant_group_count_df['only female']*(-2)\n",
    "\n",
    "gender_dominant_group_count_df.head()"
   ]
  },
  {
   "cell_type": "code",
   "execution_count": 9,
   "metadata": {},
   "outputs": [
    {
     "data": {
      "text/html": [
       "<div>\n",
       "<style scoped>\n",
       "    .dataframe tbody tr th:only-of-type {\n",
       "        vertical-align: middle;\n",
       "    }\n",
       "\n",
       "    .dataframe tbody tr th {\n",
       "        vertical-align: top;\n",
       "    }\n",
       "\n",
       "    .dataframe thead th {\n",
       "        text-align: right;\n",
       "    }\n",
       "</style>\n",
       "<table border=\"1\" class=\"dataframe\">\n",
       "  <thead>\n",
       "    <tr style=\"text-align: right;\">\n",
       "      <th></th>\n",
       "      <th>job</th>\n",
       "      <th>only male</th>\n",
       "      <th>male dominant</th>\n",
       "      <th>balanced</th>\n",
       "      <th>female dominant</th>\n",
       "      <th>only female</th>\n",
       "      <th>total</th>\n",
       "    </tr>\n",
       "  </thead>\n",
       "  <tbody>\n",
       "    <tr>\n",
       "      <th>0</th>\n",
       "      <td>Architect</td>\n",
       "      <td>12</td>\n",
       "      <td>9</td>\n",
       "      <td>0</td>\n",
       "      <td>0</td>\n",
       "      <td>0</td>\n",
       "      <td>21</td>\n",
       "    </tr>\n",
       "    <tr>\n",
       "      <th>1</th>\n",
       "      <td>Artist / Art Teacher</td>\n",
       "      <td>2</td>\n",
       "      <td>3</td>\n",
       "      <td>0</td>\n",
       "      <td>0</td>\n",
       "      <td>0</td>\n",
       "      <td>5</td>\n",
       "    </tr>\n",
       "    <tr>\n",
       "      <th>2</th>\n",
       "      <td>Author</td>\n",
       "      <td>2</td>\n",
       "      <td>2</td>\n",
       "      <td>0</td>\n",
       "      <td>0</td>\n",
       "      <td>0</td>\n",
       "      <td>4</td>\n",
       "    </tr>\n",
       "    <tr>\n",
       "      <th>3</th>\n",
       "      <td>Baker</td>\n",
       "      <td>0</td>\n",
       "      <td>11</td>\n",
       "      <td>0</td>\n",
       "      <td>0</td>\n",
       "      <td>0</td>\n",
       "      <td>11</td>\n",
       "    </tr>\n",
       "    <tr>\n",
       "      <th>4</th>\n",
       "      <td>Barber / Beautician</td>\n",
       "      <td>0</td>\n",
       "      <td>8</td>\n",
       "      <td>0</td>\n",
       "      <td>-4</td>\n",
       "      <td>0</td>\n",
       "      <td>4</td>\n",
       "    </tr>\n",
       "  </tbody>\n",
       "</table>\n",
       "</div>"
      ],
      "text/plain": [
       "                    job  only male  male dominant  balanced  female dominant  \\\n",
       "0             Architect         12              9         0                0   \n",
       "1  Artist / Art Teacher          2              3         0                0   \n",
       "2                Author          2              2         0                0   \n",
       "3                 Baker          0             11         0                0   \n",
       "4   Barber / Beautician          0              8         0               -4   \n",
       "\n",
       "   only female  total  \n",
       "0            0     21  \n",
       "1            0      5  \n",
       "2            0      4  \n",
       "3            0     11  \n",
       "4            0      4  "
      ]
     },
     "execution_count": 9,
     "metadata": {},
     "output_type": "execute_result"
    }
   ],
   "source": [
    "gender_dominant_group_count_df['total'] = gender_dominant_group_count_df.loc[\n",
    "  :, gender_dominant_group_count_df.columns != 'job'\n",
    "].apply(sum, axis = 1)\n",
    "\n",
    "gender_dominant_group_count_df.head()\n",
    "\n"
   ]
  },
  {
   "cell_type": "code",
   "execution_count": 10,
   "metadata": {},
   "outputs": [
    {
     "data": {
      "text/html": [
       "<div>\n",
       "<style scoped>\n",
       "    .dataframe tbody tr th:only-of-type {\n",
       "        vertical-align: middle;\n",
       "    }\n",
       "\n",
       "    .dataframe tbody tr th {\n",
       "        vertical-align: top;\n",
       "    }\n",
       "\n",
       "    .dataframe thead th {\n",
       "        text-align: right;\n",
       "    }\n",
       "</style>\n",
       "<table border=\"1\" class=\"dataframe\">\n",
       "  <thead>\n",
       "    <tr style=\"text-align: right;\">\n",
       "      <th></th>\n",
       "      <th>year</th>\n",
       "      <th>job</th>\n",
       "      <th>gender_dominant_group</th>\n",
       "      <th>gender_prop_diff</th>\n",
       "    </tr>\n",
       "  </thead>\n",
       "  <tbody>\n",
       "    <tr>\n",
       "      <th>15</th>\n",
       "      <td>1850</td>\n",
       "      <td>Architect</td>\n",
       "      <td>only male</td>\n",
       "      <td>1.000000</td>\n",
       "    </tr>\n",
       "    <tr>\n",
       "      <th>16</th>\n",
       "      <td>1850</td>\n",
       "      <td>Artist / Art Teacher</td>\n",
       "      <td>only male</td>\n",
       "      <td>1.000000</td>\n",
       "    </tr>\n",
       "    <tr>\n",
       "      <th>19</th>\n",
       "      <td>1850</td>\n",
       "      <td>Author</td>\n",
       "      <td>only male</td>\n",
       "      <td>1.000000</td>\n",
       "    </tr>\n",
       "    <tr>\n",
       "      <th>21</th>\n",
       "      <td>1850</td>\n",
       "      <td>Baker</td>\n",
       "      <td>male dominant</td>\n",
       "      <td>0.986219</td>\n",
       "    </tr>\n",
       "    <tr>\n",
       "      <th>23</th>\n",
       "      <td>1850</td>\n",
       "      <td>Barber / Beautician</td>\n",
       "      <td>male dominant</td>\n",
       "      <td>0.948776</td>\n",
       "    </tr>\n",
       "  </tbody>\n",
       "</table>\n",
       "</div>"
      ],
      "text/plain": [
       "    year                   job gender_dominant_group  gender_prop_diff\n",
       "15  1850             Architect             only male          1.000000\n",
       "16  1850  Artist / Art Teacher             only male          1.000000\n",
       "19  1850                Author             only male          1.000000\n",
       "21  1850                 Baker         male dominant          0.986219\n",
       "23  1850   Barber / Beautician         male dominant          0.948776"
      ]
     },
     "execution_count": 10,
     "metadata": {},
     "output_type": "execute_result"
    }
   ],
   "source": [
    "jobs_tidy.to_csv('jobs_tidy.csv')\n",
    "jobs_tidy.head()\n"
   ]
  },
  {
   "cell_type": "code",
   "execution_count": 11,
   "metadata": {},
   "outputs": [
    {
     "data": {
      "text/html": [
       "<div>\n",
       "<style scoped>\n",
       "    .dataframe tbody tr th:only-of-type {\n",
       "        vertical-align: middle;\n",
       "    }\n",
       "\n",
       "    .dataframe tbody tr th {\n",
       "        vertical-align: top;\n",
       "    }\n",
       "\n",
       "    .dataframe thead th {\n",
       "        text-align: right;\n",
       "    }\n",
       "</style>\n",
       "<table border=\"1\" class=\"dataframe\">\n",
       "  <thead>\n",
       "    <tr style=\"text-align: right;\">\n",
       "      <th></th>\n",
       "      <th>job</th>\n",
       "      <th>total_gender_prop_diff</th>\n",
       "    </tr>\n",
       "  </thead>\n",
       "  <tbody>\n",
       "    <tr>\n",
       "      <th>15</th>\n",
       "      <td>Architect</td>\n",
       "      <td>0.751027</td>\n",
       "    </tr>\n",
       "    <tr>\n",
       "      <th>16</th>\n",
       "      <td>Artist / Art Teacher</td>\n",
       "      <td>0.071423</td>\n",
       "    </tr>\n",
       "    <tr>\n",
       "      <th>19</th>\n",
       "      <td>Author</td>\n",
       "      <td>0.032079</td>\n",
       "    </tr>\n",
       "    <tr>\n",
       "      <th>21</th>\n",
       "      <td>Baker</td>\n",
       "      <td>0.496128</td>\n",
       "    </tr>\n",
       "    <tr>\n",
       "      <th>23</th>\n",
       "      <td>Barber / Beautician</td>\n",
       "      <td>-0.279207</td>\n",
       "    </tr>\n",
       "  </tbody>\n",
       "</table>\n",
       "</div>"
      ],
      "text/plain": [
       "                     job  total_gender_prop_diff\n",
       "15             Architect                0.751027\n",
       "16  Artist / Art Teacher                0.071423\n",
       "19                Author                0.032079\n",
       "21                 Baker                0.496128\n",
       "23   Barber / Beautician               -0.279207"
      ]
     },
     "execution_count": 11,
     "metadata": {},
     "output_type": "execute_result"
    }
   ],
   "source": [
    "total_gender_prop_diffs_df.to_csv('job_prop_diffs.csv')\n",
    "total_gender_prop_diffs_df.head()\n"
   ]
  },
  {
   "cell_type": "code",
   "execution_count": 12,
   "metadata": {},
   "outputs": [
    {
     "data": {
      "application/vnd.vegalite.v3+json": {
       "$schema": "https://vega.github.io/schema/vega-lite/v3.4.0.json",
       "config": {
        "mark": {
         "tooltip": null
        },
        "view": {
         "height": 300,
         "width": 400
        }
       },
       "data": {
        "format": {
         "type": "json"
        },
        "url": "altair-data-900cccbb00bf9c24210acf974993c24c.json"
       },
       "resolve": {
        "legend": {
         "color": "independent",
         "size": "independent"
        }
       },
       "vconcat": [
        {
         "layer": [
          {
           "encoding": {
            "color": {
             "field": "job",
             "title": "Job Title",
             "type": "nominal"
            },
            "x": {
             "field": "year",
             "title": "Year",
             "type": "ordinal"
            },
            "y": {
             "axis": {
              "format": "%"
             },
             "field": "gender_prop_diff",
             "scale": {
              "domain": [
               -1,
               1
              ]
             },
             "title": "Difference in gender proportion (Men - Women)",
             "type": "quantitative"
            }
           },
           "height": 200,
           "mark": "line",
           "transform": [
            {
             "filter": {
              "selection": "selector001"
             }
            }
           ],
           "width": 550
          },
          {
           "encoding": {
            "x": {
             "field": "year",
             "type": "ordinal"
            }
           },
           "mark": {
            "color": "#aaa",
            "type": "rule"
           },
           "transform": [
            {
             "filter": {
              "selection": "selector002"
             }
            }
           ]
          },
          {
           "encoding": {
            "color": {
             "field": "job",
             "title": "Job Title",
             "type": "nominal"
            },
            "opacity": {
             "condition": {
              "selection": "selector002",
              "value": 1
             },
             "value": 0
            },
            "x": {
             "field": "year",
             "title": "Year",
             "type": "ordinal"
            },
            "y": {
             "axis": {
              "format": "%"
             },
             "field": "gender_prop_diff",
             "scale": {
              "domain": [
               -1,
               1
              ]
             },
             "title": "Difference in gender proportion (Men - Women)",
             "type": "quantitative"
            }
           },
           "height": 200,
           "mark": "circle",
           "selection": {
            "selector002": {
             "empty": "none",
             "encodings": [
              "x"
             ],
             "nearest": true,
             "on": "mouseover",
             "type": "single"
            }
           },
           "transform": [
            {
             "filter": {
              "selection": "selector001"
             }
            }
           ],
           "width": 550
          },
          {
           "encoding": {
            "color": {
             "field": "job",
             "title": "Job Title",
             "type": "nominal"
            },
            "text": {
             "field": "gender_prop_diff",
             "format": ".2%",
             "type": "quantitative"
            },
            "x": {
             "field": "year",
             "title": "Year",
             "type": "ordinal"
            },
            "y": {
             "axis": {
              "format": "%"
             },
             "field": "gender_prop_diff",
             "scale": {
              "domain": [
               -1,
               1
              ]
             },
             "title": "Difference in gender proportion (Men - Women)",
             "type": "quantitative"
            }
           },
           "height": 200,
           "mark": {
            "align": "left",
            "dx": 5,
            "dy": -5,
            "stroke": "white",
            "strokeWidth": 2,
            "type": "text"
           },
           "transform": [
            {
             "filter": {
              "selection": "selector001"
             }
            },
            {
             "filter": {
              "selection": "selector002"
             }
            }
           ],
           "width": 550
          },
          {
           "encoding": {
            "color": {
             "field": "job",
             "title": "Job Title",
             "type": "nominal"
            },
            "text": {
             "field": "gender_prop_diff",
             "format": ".2%",
             "type": "quantitative"
            },
            "x": {
             "field": "year",
             "title": "Year",
             "type": "ordinal"
            },
            "y": {
             "axis": {
              "format": "%"
             },
             "field": "gender_prop_diff",
             "scale": {
              "domain": [
               -1,
               1
              ]
             },
             "title": "Difference in gender proportion (Men - Women)",
             "type": "quantitative"
            }
           },
           "height": 200,
           "mark": {
            "align": "left",
            "dx": 5,
            "dy": -5,
            "type": "text"
           },
           "transform": [
            {
             "filter": {
              "selection": "selector001"
             }
            },
            {
             "filter": {
              "selection": "selector002"
             }
            }
           ],
           "width": 550
          }
         ]
        },
        {
         "encoding": {
          "color": {
           "condition": {
            "selection": "selector001",
            "value": "steelblue"
           },
           "value": "grey"
          },
          "x": {
           "field": "job",
           "sort": {
            "field": "total_gender_prop_diff",
            "op": "sum",
            "order": "descending"
           },
           "title": "Job Title",
           "type": "nominal"
          },
          "y": {
           "axis": {
            "format": "%"
           },
           "field": "total_gender_prop_diff",
           "title": "Difference in gender proportion (Men - Women)",
           "type": "quantitative"
          }
         },
         "height": 200,
         "mark": "bar",
         "selection": {
          "selector001": {
           "encodings": [
            "x"
           ],
           "type": "single"
          }
         },
         "title": "Select a bar on the plot below to see an individual job's data on the plot above",
         "width": 550
        }
       ]
      },
      "image/png": "[encoded data removed]",
      "text/plain": [
       "<VegaLite 3 object>\n",
       "\n",
       "If you see this message, it means the renderer has not been properly enabled\n",
       "for the frontend that you are using. For more information, see\n",
       "https://altair-viz.github.io/user_guide/troubleshooting.html\n"
      ]
     },
     "execution_count": 12,
     "metadata": {},
     "output_type": "execute_result"
    }
   ],
   "source": [
    "top_10_male_dominated_jobs = total_gender_prop_diffs_df.sort_values(by = 'total_gender_prop_diff', ascending = False).head(10)\n",
    "source = top_10_male_dominated_jobs.merge(jobs_tidy, how = 'inner', on = 'job')\n",
    "\n",
    "pts = alt.selection(type=\"single\", encodings=['x'])\n",
    "\n",
    "lin = alt.Chart(source).mark_line().encode(\n",
    "    alt.X('year:O', title='Year'),\n",
    "    alt.Y('gender_prop_diff:Q',\n",
    "          title=\"Difference in gender proportion (Men - Women)\",\n",
    "          axis=alt.Axis(format='%'), \n",
    "          scale=alt.Scale(domain=[-1,1])),\n",
    "    alt.Color('job:N', title= \"Job Title\")\n",
    "    \n",
    ").transform_filter(\n",
    "    pts\n",
    ").properties(\n",
    "    width=550,\n",
    "    height=200\n",
    ")\n",
    "\n",
    "label = alt.selection_single(\n",
    "    encodings=['x'], # limit selection to x-axis value\n",
    "    on='mouseover',  # select on mouseover events\n",
    "    nearest=True,    # select data point nearest the cursor\n",
    "    empty='none'     # empty selection includes no data points\n",
    ")\n",
    "\n",
    "lin_w_interaction = alt.layer(\n",
    "    lin, # base line chart\n",
    "        alt.Chart().mark_rule(color='#aaa').encode(\n",
    "        x='year:O'\n",
    "    ).transform_filter(label),\n",
    "    lin.mark_circle().encode(\n",
    "        opacity=alt.condition(label, alt.value(1), alt.value(0))\n",
    "    ).add_selection(label),\n",
    "    lin.mark_text(align='left', dx=5, dy=-5, stroke='white', strokeWidth=2).encode(\n",
    "        text=alt.Text('gender_prop_diff:Q',format='.2%')\n",
    "    ).transform_filter(label),\n",
    "     lin.mark_text(align='left', dx=5, dy=-5).encode(\n",
    "        text=alt.Text('gender_prop_diff:Q',format='.2%')\n",
    "    ).transform_filter(label),\n",
    "    data = source\n",
    ")\n",
    "\n",
    "bar = alt.Chart(source).mark_bar().encode(\n",
    "    x=alt.X('job:N',\n",
    "            title='Job Title',\n",
    "            sort=alt.EncodingSortField(field=\"total_gender_prop_diff\",op=\"sum\",order=\"descending\" )),\n",
    "    y=alt.Y('total_gender_prop_diff:Q',\n",
    "            title=\"Difference in gender proportion (Men - Women)\",\n",
    "            axis=alt.Axis(format='%')),\n",
    "    color=alt.condition(pts, alt.ColorValue(\"steelblue\"), alt.ColorValue(\"grey\"))\n",
    ").properties(\n",
    "    width=550,\n",
    "    height=200,\n",
    "    title=\"Select a bar on the plot below to see an individual job's data on the plot above\"\n",
    ").add_selection(pts)\n",
    "\n",
    "alt.vconcat(\n",
    "    lin_w_interaction,\n",
    "    bar\n",
    ").resolve_legend(\n",
    "    color=\"independent\",\n",
    "    size=\"independent\"\n",
    ")"
   ]
  },
  {
   "cell_type": "code",
   "execution_count": 13,
   "metadata": {},
   "outputs": [
    {
     "data": {
      "application/vnd.vegalite.v3+json": {
       "$schema": "https://vega.github.io/schema/vega-lite/v3.4.0.json",
       "config": {
        "mark": {
         "tooltip": null
        },
        "view": {
         "height": 300,
         "width": 400
        }
       },
       "data": {
        "format": {
         "type": "json"
        },
        "url": "altair-data-13f8983d56c2838e2de24ff2835c9588.json"
       },
       "resolve": {
        "legend": {
         "color": "independent",
         "size": "independent"
        }
       },
       "vconcat": [
        {
         "layer": [
          {
           "encoding": {
            "color": {
             "field": "job",
             "title": "Job Title",
             "type": "nominal"
            },
            "x": {
             "field": "year",
             "title": "Year",
             "type": "ordinal"
            },
            "y": {
             "axis": {
              "format": "%"
             },
             "field": "gender_prop_diff",
             "scale": {
              "domain": [
               -1,
               1
              ]
             },
             "title": "Difference in gender proportion (Men - Women)",
             "type": "quantitative"
            }
           },
           "height": 200,
           "mark": "line",
           "transform": [
            {
             "filter": {
              "selection": "selector003"
             }
            }
           ],
           "width": 550
          },
          {
           "encoding": {
            "x": {
             "field": "year",
             "type": "ordinal"
            }
           },
           "mark": {
            "color": "#aaa",
            "type": "rule"
           },
           "transform": [
            {
             "filter": {
              "selection": "selector004"
             }
            }
           ]
          },
          {
           "encoding": {
            "color": {
             "field": "job",
             "title": "Job Title",
             "type": "nominal"
            },
            "opacity": {
             "condition": {
              "selection": "selector004",
              "value": 1
             },
             "value": 0
            },
            "x": {
             "field": "year",
             "title": "Year",
             "type": "ordinal"
            },
            "y": {
             "axis": {
              "format": "%"
             },
             "field": "gender_prop_diff",
             "scale": {
              "domain": [
               -1,
               1
              ]
             },
             "title": "Difference in gender proportion (Men - Women)",
             "type": "quantitative"
            }
           },
           "height": 200,
           "mark": "circle",
           "selection": {
            "selector004": {
             "empty": "none",
             "encodings": [
              "x"
             ],
             "nearest": true,
             "on": "mouseover",
             "type": "single"
            }
           },
           "transform": [
            {
             "filter": {
              "selection": "selector003"
             }
            }
           ],
           "width": 550
          },
          {
           "encoding": {
            "color": {
             "field": "job",
             "title": "Job Title",
             "type": "nominal"
            },
            "text": {
             "field": "gender_prop_diff",
             "format": ".2%",
             "type": "quantitative"
            },
            "x": {
             "field": "year",
             "title": "Year",
             "type": "ordinal"
            },
            "y": {
             "axis": {
              "format": "%"
             },
             "field": "gender_prop_diff",
             "scale": {
              "domain": [
               -1,
               1
              ]
             },
             "title": "Difference in gender proportion (Men - Women)",
             "type": "quantitative"
            }
           },
           "height": 200,
           "mark": {
            "align": "left",
            "dx": 5,
            "dy": -5,
            "stroke": "white",
            "strokeWidth": 2,
            "type": "text"
           },
           "transform": [
            {
             "filter": {
              "selection": "selector003"
             }
            },
            {
             "filter": {
              "selection": "selector004"
             }
            }
           ],
           "width": 550
          },
          {
           "encoding": {
            "color": {
             "field": "job",
             "title": "Job Title",
             "type": "nominal"
            },
            "text": {
             "field": "gender_prop_diff",
             "format": ".2%",
             "type": "quantitative"
            },
            "x": {
             "field": "year",
             "title": "Year",
             "type": "ordinal"
            },
            "y": {
             "axis": {
              "format": "%"
             },
             "field": "gender_prop_diff",
             "scale": {
              "domain": [
               -1,
               1
              ]
             },
             "title": "Difference in gender proportion (Men - Women)",
             "type": "quantitative"
            }
           },
           "height": 200,
           "mark": {
            "align": "left",
            "dx": 5,
            "dy": -5,
            "type": "text"
           },
           "transform": [
            {
             "filter": {
              "selection": "selector003"
             }
            },
            {
             "filter": {
              "selection": "selector004"
             }
            }
           ],
           "width": 550
          }
         ]
        },
        {
         "encoding": {
          "color": {
           "condition": {
            "selection": "selector003",
            "value": "steelblue"
           },
           "value": "grey"
          },
          "x": {
           "field": "job",
           "sort": {
            "field": "total_gender_prop_diff",
            "op": "sum",
            "order": "descending"
           },
           "title": "Job Title",
           "type": "nominal"
          },
          "y": {
           "axis": {
            "format": "%"
           },
           "field": "total_gender_prop_diff",
           "scale": {
            "domain": [
             -0.13,
             0.13
            ]
           },
           "title": "Difference in gender proportion (Men - Women)",
           "type": "quantitative"
          }
         },
         "height": 200,
         "mark": "bar",
         "selection": {
          "selector003": {
           "encodings": [
            "x"
           ],
           "type": "single"
          }
         },
         "title": "Select a bar on the plot below to see an individual job's data on the plot above",
         "width": 550
        }
       ]
      },
      "image/png": "[encoded data removed]",
      "text/plain": [
       "<VegaLite 3 object>\n",
       "\n",
       "If you see this message, it means the renderer has not been properly enabled\n",
       "for the frontend that you are using. For more information, see\n",
       "https://altair-viz.github.io/user_guide/troubleshooting.html\n"
      ]
     },
     "execution_count": 13,
     "metadata": {},
     "output_type": "execute_result"
    }
   ],
   "source": [
    "top_9_balanced_jobs = total_gender_prop_diffs_df.sort_values(by = 'total_gender_prop_diff', ascending = False).query(\"total_gender_prop_diff < 0.15 and total_gender_prop_diff > -0.15\")\n",
    "source = top_9_balanced_jobs.merge(jobs_tidy, how = 'inner', on = 'job')\n",
    "\n",
    "pts = alt.selection(type=\"single\", encodings=['x'])\n",
    "\n",
    "lin = alt.Chart(source).mark_line().encode(\n",
    "    alt.X('year:O', title='Year'),\n",
    "    alt.Y('gender_prop_diff:Q',\n",
    "          title=\"Difference in gender proportion (Men - Women)\", \n",
    "          scale=alt.Scale(domain=[-1,1]),\n",
    "          axis=alt.Axis(format='%')),\n",
    "    alt.Color('job:N', title= \"Job Title\")\n",
    "    \n",
    ").transform_filter(\n",
    "    pts\n",
    ").properties(\n",
    "    width=550,\n",
    "    height=200\n",
    ")\n",
    "\n",
    "label = alt.selection_single(\n",
    "    encodings=['x'], # limit selection to x-axis value\n",
    "    on='mouseover',  # select on mouseover events\n",
    "    nearest=True,    # select data point nearest the cursor\n",
    "    empty='none'     # empty selection includes no data points\n",
    ")\n",
    "\n",
    "lin_w_interaction = alt.layer(\n",
    "    lin, # base line chart\n",
    "        alt.Chart().mark_rule(color='#aaa').encode(\n",
    "        x='year:O'\n",
    "    ).transform_filter(label),\n",
    "    lin.mark_circle().encode(\n",
    "        opacity=alt.condition(label, alt.value(1), alt.value(0))\n",
    "    ).add_selection(label),\n",
    "    lin.mark_text(align='left', dx=5, dy=-5, stroke='white', strokeWidth=2).encode(\n",
    "        text=alt.Text('gender_prop_diff:Q',format='.2%')\n",
    "    ).transform_filter(label),\n",
    "     lin.mark_text(align='left', dx=5, dy=-5).encode(\n",
    "        text=alt.Text('gender_prop_diff:Q',format='.2%')\n",
    "    ).transform_filter(label),\n",
    "    data = source\n",
    ")\n",
    "\n",
    "bar = alt.Chart(source).mark_bar().encode(\n",
    "    x=alt.X('job:N',\n",
    "            title='Job Title',\n",
    "            sort=alt.EncodingSortField(field=\"total_gender_prop_diff\",op=\"sum\",order=\"descending\" )),\n",
    "    y=alt.Y('total_gender_prop_diff:Q',\n",
    "            title=\"Difference in gender proportion (Men - Women)\",\n",
    "            axis=alt.Axis(format='%'), \n",
    "          scale=alt.Scale(domain=[-0.13,0.13])),\n",
    "    color=alt.condition(pts, alt.ColorValue(\"steelblue\"), alt.ColorValue(\"grey\"))\n",
    ").properties(\n",
    "    width=550,\n",
    "    height=200,\n",
    "    title=\"Select a bar on the plot below to see an individual job's data on the plot above\"\n",
    ").add_selection(pts)\n",
    "\n",
    "alt.vconcat(\n",
    "    lin_w_interaction,\n",
    "    bar\n",
    ").resolve_legend(\n",
    "    color=\"independent\",\n",
    "    size=\"independent\"\n",
    ")"
   ]
  },
  {
   "cell_type": "code",
   "execution_count": 14,
   "metadata": {},
   "outputs": [
    {
     "data": {
      "application/vnd.vegalite.v3+json": {
       "$schema": "https://vega.github.io/schema/vega-lite/v3.4.0.json",
       "config": {
        "mark": {
         "tooltip": null
        },
        "view": {
         "height": 300,
         "width": 400
        }
       },
       "data": {
        "format": {
         "type": "json"
        },
        "url": "altair-data-8c995005e4b55968cefdcb394ef2747c.json"
       },
       "resolve": {
        "legend": {
         "color": "independent",
         "size": "independent"
        }
       },
       "vconcat": [
        {
         "layer": [
          {
           "encoding": {
            "color": {
             "field": "job",
             "title": "Job Title",
             "type": "nominal"
            },
            "x": {
             "field": "year",
             "title": "Year",
             "type": "ordinal"
            },
            "y": {
             "axis": {
              "format": "%"
             },
             "field": "gender_prop_diff",
             "scale": {
              "domain": [
               -1,
               1
              ]
             },
             "title": "Difference in gender proportion (Men - Women)",
             "type": "quantitative"
            }
           },
           "height": 200,
           "mark": "line",
           "transform": [
            {
             "filter": {
              "selection": "selector005"
             }
            }
           ],
           "width": 550
          },
          {
           "encoding": {
            "x": {
             "field": "year",
             "type": "ordinal"
            }
           },
           "mark": {
            "color": "#aaa",
            "type": "rule"
           },
           "transform": [
            {
             "filter": {
              "selection": "selector006"
             }
            }
           ]
          },
          {
           "encoding": {
            "color": {
             "field": "job",
             "title": "Job Title",
             "type": "nominal"
            },
            "opacity": {
             "condition": {
              "selection": "selector006",
              "value": 1
             },
             "value": 0
            },
            "x": {
             "field": "year",
             "title": "Year",
             "type": "ordinal"
            },
            "y": {
             "axis": {
              "format": "%"
             },
             "field": "gender_prop_diff",
             "scale": {
              "domain": [
               -1,
               1
              ]
             },
             "title": "Difference in gender proportion (Men - Women)",
             "type": "quantitative"
            }
           },
           "height": 200,
           "mark": "circle",
           "selection": {
            "selector006": {
             "empty": "none",
             "encodings": [
              "x"
             ],
             "nearest": true,
             "on": "mouseover",
             "type": "single"
            }
           },
           "transform": [
            {
             "filter": {
              "selection": "selector005"
             }
            }
           ],
           "width": 550
          },
          {
           "encoding": {
            "color": {
             "field": "job",
             "title": "Job Title",
             "type": "nominal"
            },
            "text": {
             "field": "gender_prop_diff",
             "format": ".2%",
             "type": "quantitative"
            },
            "x": {
             "field": "year",
             "title": "Year",
             "type": "ordinal"
            },
            "y": {
             "axis": {
              "format": "%"
             },
             "field": "gender_prop_diff",
             "scale": {
              "domain": [
               -1,
               1
              ]
             },
             "title": "Difference in gender proportion (Men - Women)",
             "type": "quantitative"
            }
           },
           "height": 200,
           "mark": {
            "align": "left",
            "dx": 5,
            "dy": -5,
            "stroke": "white",
            "strokeWidth": 2,
            "type": "text"
           },
           "transform": [
            {
             "filter": {
              "selection": "selector005"
             }
            },
            {
             "filter": {
              "selection": "selector006"
             }
            }
           ],
           "width": 550
          },
          {
           "encoding": {
            "color": {
             "field": "job",
             "title": "Job Title",
             "type": "nominal"
            },
            "text": {
             "field": "gender_prop_diff",
             "format": ".2%",
             "type": "quantitative"
            },
            "x": {
             "field": "year",
             "title": "Year",
             "type": "ordinal"
            },
            "y": {
             "axis": {
              "format": "%"
             },
             "field": "gender_prop_diff",
             "scale": {
              "domain": [
               -1,
               1
              ]
             },
             "title": "Difference in gender proportion (Men - Women)",
             "type": "quantitative"
            }
           },
           "height": 200,
           "mark": {
            "align": "left",
            "dx": 5,
            "dy": -5,
            "type": "text"
           },
           "transform": [
            {
             "filter": {
              "selection": "selector005"
             }
            },
            {
             "filter": {
              "selection": "selector006"
             }
            }
           ],
           "width": 550
          }
         ]
        },
        {
         "encoding": {
          "color": {
           "condition": {
            "selection": "selector005",
            "value": "steelblue"
           },
           "value": "grey"
          },
          "x": {
           "field": "job",
           "sort": {
            "field": "total_gender_prop_diff",
            "op": "sum",
            "order": "descending"
           },
           "title": "Job Title",
           "type": "nominal"
          },
          "y": {
           "axis": {
            "format": "%"
           },
           "field": "total_gender_prop_diff",
           "title": "Difference in gender proportion (Men - Women)",
           "type": "quantitative"
          }
         },
         "height": 200,
         "mark": "bar",
         "selection": {
          "selector005": {
           "encodings": [
            "x"
           ],
           "type": "single"
          }
         },
         "title": "Select a bar on the plot below to see an individual job's data on the plot above",
         "width": 550
        }
       ]
      },
      "image/png": "[encoded data removed]",
      "text/plain": [
       "<VegaLite 3 object>\n",
       "\n",
       "If you see this message, it means the renderer has not been properly enabled\n",
       "for the frontend that you are using. For more information, see\n",
       "https://altair-viz.github.io/user_guide/troubleshooting.html\n"
      ]
     },
     "execution_count": 14,
     "metadata": {},
     "output_type": "execute_result"
    }
   ],
   "source": [
    "top_10_female_dominated_jobs = total_gender_prop_diffs_df.sort_values(by = 'total_gender_prop_diff', ascending = False).tail(10)\n",
    "source = top_10_female_dominated_jobs.merge(jobs_tidy, how = 'inner', on = 'job')\n",
    "\n",
    "pts = alt.selection(type=\"single\", encodings=['x'])\n",
    "\n",
    "lin = alt.Chart(source).mark_line().encode(\n",
    "    alt.X('year:O', title='Year'),\n",
    "    alt.Y('gender_prop_diff:Q',\n",
    "          title=\"Difference in gender proportion (Men - Women)\",\n",
    "          axis=alt.Axis(format='%'), \n",
    "          scale=alt.Scale(domain=[-1,1])),\n",
    "    alt.Color('job:N', title= \"Job Title\")\n",
    "    \n",
    ").transform_filter(\n",
    "    pts\n",
    ").properties(\n",
    "    width=550,\n",
    "    height=200\n",
    ")\n",
    "\n",
    "label = alt.selection_single(\n",
    "    encodings=['x'], # limit selection to x-axis value\n",
    "    on='mouseover',  # select on mouseover events\n",
    "    nearest=True,    # select data point nearest the cursor\n",
    "    empty='none'     # empty selection includes no data points\n",
    ")\n",
    "\n",
    "lin_w_interaction = alt.layer(\n",
    "    lin, # base line chart\n",
    "        alt.Chart().mark_rule(color='#aaa').encode(\n",
    "        x='year:O'\n",
    "    ).transform_filter(label),\n",
    "    lin.mark_circle().encode(\n",
    "        opacity=alt.condition(label, alt.value(1), alt.value(0))\n",
    "    ).add_selection(label),\n",
    "    lin.mark_text(align='left', dx=5, dy=-5, stroke='white', strokeWidth=2).encode(\n",
    "        text=alt.Text('gender_prop_diff:Q',format='.2%')\n",
    "    ).transform_filter(label),\n",
    "     lin.mark_text(align='left', dx=5, dy=-5).encode(\n",
    "        text=alt.Text('gender_prop_diff:Q',format='.2%')\n",
    "    ).transform_filter(label),\n",
    "    data = source\n",
    ")\n",
    "\n",
    "bar = alt.Chart(source).mark_bar().encode(\n",
    "    x=alt.X('job:N',\n",
    "            title='Job Title',\n",
    "            sort=alt.EncodingSortField(field=\"total_gender_prop_diff\",op=\"sum\",order=\"descending\" )),\n",
    "    y=alt.Y('total_gender_prop_diff:Q',\n",
    "            title=\"Difference in gender proportion (Men - Women)\",\n",
    "            axis=alt.Axis(format='%')),\n",
    "    color=alt.condition(pts, alt.ColorValue(\"steelblue\"), alt.ColorValue(\"grey\"))\n",
    ").properties(\n",
    "    width=550,\n",
    "    height=200,\n",
    "    title=\"Select a bar on the plot below to see an individual job's data on the plot above\"\n",
    ").add_selection(pts)\n",
    "\n",
    "alt.vconcat(\n",
    "    lin_w_interaction,\n",
    "    bar\n",
    ").resolve_legend(\n",
    "    color=\"independent\",\n",
    "    size=\"independent\"\n",
    ")"
   ]
  },
  {
   "cell_type": "code",
   "execution_count": null,
   "metadata": {},
   "outputs": [],
   "source": []
  }
 ],
 "metadata": {
  "kernelspec": {
   "display_name": "Python 3",
   "language": "python",
   "name": "python3"
  },
  "language_info": {
   "codemirror_mode": {
    "name": "ipython",
    "version": 3
   },
   "file_extension": ".py",
   "mimetype": "text/x-python",
   "name": "python",
   "nbconvert_exporter": "python",
   "pygments_lexer": "ipython3",
   "version": "3.7.5"
  }
 },
 "nbformat": 4,
 "nbformat_minor": 4
}
