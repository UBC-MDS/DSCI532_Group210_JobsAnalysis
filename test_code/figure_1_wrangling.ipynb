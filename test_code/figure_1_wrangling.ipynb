{
 "cells": [
  {
   "cell_type": "code",
   "execution_count": 1,
   "metadata": {},
   "outputs": [],
   "source": [
    "# Load packages\n",
    "\n",
    "import pandas as pd\n",
    "import altair as alt\n",
    "import numpy as np\n",
    "\n",
    "# Need to enable this to allow work with larger datasets (https://altair-viz.github.io/user_guide/faq.html)\n",
    "alt.data_transformers.enable('json')\n",
    "\n",
    "from vega_datasets import data"
   ]
  },
  {
   "cell_type": "code",
   "execution_count": 2,
   "metadata": {},
   "outputs": [],
   "source": [
    "jobs = data.jobs()\n"
   ]
  },
  {
   "cell_type": "code",
   "execution_count": 3,
   "metadata": {},
   "outputs": [],
   "source": [
    "grouped_jobs = jobs.pivot_table(\n",
    "  columns=['sex'], \n",
    "  values=['count', 'perc'], \n",
    "  index=['year', 'job']\n",
    ")"
   ]
  },
  {
   "cell_type": "code",
   "execution_count": 4,
   "metadata": {},
   "outputs": [],
   "source": [
    "# Categorize each row into a gender dominant group \n",
    "# based on its male to female ratio of that year\n",
    "def categorize_gender_dominant_group(row):  \n",
    "  male_count = row['count']['men']\n",
    "  female_count = row['count']['women']\n",
    "  \n",
    "  if male_count == 0 and female_count == 0:\n",
    "    return 'no job'\n",
    "  elif row['count']['women'] == 0:\n",
    "    return 'only male'\n",
    "  elif row['count']['men'] == 0:\n",
    "    return 'only female'\n",
    "  elif (male_count/female_count) >= 2:\n",
    "    return 'male dominant'\n",
    "  elif (male_count/female_count) <= 0.5:\n",
    "    return 'female dominant'\n",
    "  else:\n",
    "    return 'balanced'"
   ]
  },
  {
   "cell_type": "code",
   "execution_count": 5,
   "metadata": {},
   "outputs": [],
   "source": [
    "grouped_jobs['gender_dominant_group'] = grouped_jobs.apply(categorize_gender_dominant_group, axis=1)"
   ]
  },
  {
   "cell_type": "code",
   "execution_count": 6,
   "metadata": {},
   "outputs": [],
   "source": [
    "grouped_jobs = grouped_jobs[grouped_jobs['gender_dominant_group'] != 'no job']\n",
    "\n"
   ]
  },
  {
   "cell_type": "code",
   "execution_count": 7,
   "metadata": {},
   "outputs": [],
   "source": [
    "gender_dominant_group_count_df = (\n",
    "  grouped_jobs.groupby(['year', 'gender_dominant_group']).size().unstack(fill_value = 0)\n",
    ")"
   ]
  },
  {
   "cell_type": "code",
   "execution_count": 8,
   "metadata": {},
   "outputs": [],
   "source": [
    "gender_dominant_group_count_df = gender_dominant_group_count_df.reset_index()"
   ]
  },
  {
   "cell_type": "code",
   "execution_count": 9,
   "metadata": {},
   "outputs": [],
   "source": [
    "gender_dominant_group_count_df.columns.name = ''"
   ]
  },
  {
   "cell_type": "code",
   "execution_count": 10,
   "metadata": {},
   "outputs": [],
   "source": [
    "# Set the total column\n",
    "gender_dominant_group_count_df['total'] = gender_dominant_group_count_df.loc[\n",
    "  :, gender_dominant_group_count_df.columns != 'year'\n",
    "].apply(sum, axis = 1)\n",
    "\n",
    "gender_dominant_group_count_df = gender_dominant_group_count_df[['year','only male','male dominant','balanced', 'female dominant', 'only female', 'total']]"
   ]
  },
  {
   "cell_type": "code",
   "execution_count": 11,
   "metadata": {},
   "outputs": [
    {
     "data": {
      "text/html": [
       "<div>\n",
       "<style scoped>\n",
       "    .dataframe tbody tr th:only-of-type {\n",
       "        vertical-align: middle;\n",
       "    }\n",
       "\n",
       "    .dataframe tbody tr th {\n",
       "        vertical-align: top;\n",
       "    }\n",
       "\n",
       "    .dataframe thead th {\n",
       "        text-align: right;\n",
       "    }\n",
       "</style>\n",
       "<table border=\"1\" class=\"dataframe\">\n",
       "  <thead>\n",
       "    <tr style=\"text-align: right;\">\n",
       "      <th></th>\n",
       "      <th>year</th>\n",
       "      <th>only male</th>\n",
       "      <th>male dominant</th>\n",
       "      <th>balanced</th>\n",
       "      <th>female dominant</th>\n",
       "      <th>only female</th>\n",
       "      <th>total</th>\n",
       "    </tr>\n",
       "  </thead>\n",
       "  <tbody>\n",
       "    <tr>\n",
       "      <th>0</th>\n",
       "      <td>1850</td>\n",
       "      <td>112</td>\n",
       "      <td>38</td>\n",
       "      <td>2</td>\n",
       "      <td>3</td>\n",
       "      <td>1</td>\n",
       "      <td>156</td>\n",
       "    </tr>\n",
       "    <tr>\n",
       "      <th>1</th>\n",
       "      <td>1860</td>\n",
       "      <td>92</td>\n",
       "      <td>63</td>\n",
       "      <td>12</td>\n",
       "      <td>8</td>\n",
       "      <td>2</td>\n",
       "      <td>177</td>\n",
       "    </tr>\n",
       "    <tr>\n",
       "      <th>2</th>\n",
       "      <td>1870</td>\n",
       "      <td>94</td>\n",
       "      <td>71</td>\n",
       "      <td>13</td>\n",
       "      <td>9</td>\n",
       "      <td>2</td>\n",
       "      <td>189</td>\n",
       "    </tr>\n",
       "    <tr>\n",
       "      <th>3</th>\n",
       "      <td>1880</td>\n",
       "      <td>88</td>\n",
       "      <td>78</td>\n",
       "      <td>12</td>\n",
       "      <td>10</td>\n",
       "      <td>1</td>\n",
       "      <td>189</td>\n",
       "    </tr>\n",
       "    <tr>\n",
       "      <th>4</th>\n",
       "      <td>1900</td>\n",
       "      <td>64</td>\n",
       "      <td>123</td>\n",
       "      <td>20</td>\n",
       "      <td>15</td>\n",
       "      <td>2</td>\n",
       "      <td>224</td>\n",
       "    </tr>\n",
       "  </tbody>\n",
       "</table>\n",
       "</div>"
      ],
      "text/plain": [
       "   year  only male  male dominant  balanced  female dominant  only female  \\\n",
       "0  1850        112             38         2                3            1   \n",
       "1  1860         92             63        12                8            2   \n",
       "2  1870         94             71        13                9            2   \n",
       "3  1880         88             78        12               10            1   \n",
       "4  1900         64            123        20               15            2   \n",
       "\n",
       "   total  \n",
       "0    156  \n",
       "1    177  \n",
       "2    189  \n",
       "3    189  \n",
       "4    224  "
      ]
     },
     "execution_count": 11,
     "metadata": {},
     "output_type": "execute_result"
    }
   ],
   "source": [
    "gender_dominant_group_count_df.head()"
   ]
  },
  {
   "cell_type": "code",
   "execution_count": 12,
   "metadata": {},
   "outputs": [],
   "source": [
    "gender_dominant_group_count_df = gender_dominant_group_count_df.drop('total', axis=1)"
   ]
  },
  {
   "cell_type": "code",
   "execution_count": 13,
   "metadata": {},
   "outputs": [],
   "source": [
    "gender_dominant_group_count_df = gender_dominant_group_count_df.melt(\n",
    "  id_vars=['year'],\n",
    "  var_name='job_gender_dominant_group', \n",
    "  value_name='total'\n",
    ")"
   ]
  },
  {
   "cell_type": "code",
   "execution_count": 14,
   "metadata": {},
   "outputs": [],
   "source": [
    "def sort_order(col_val):\n",
    "    if col_val == 'only male':\n",
    "        return 1\n",
    "    elif col_val == 'male dominant':\n",
    "        return 2\n",
    "    elif col_val == 'balanced':\n",
    "        return 3\n",
    "    elif col_val == 'female dominant':\n",
    "        return 4\n",
    "    else:\n",
    "        return 5\n",
    "\n"
   ]
  },
  {
   "cell_type": "code",
   "execution_count": 15,
   "metadata": {},
   "outputs": [],
   "source": [
    "gender_dominant_group_count_df['sort_order'] = gender_dominant_group_count_df['job_gender_dominant_group'].apply(sort_order)\n",
    "\n"
   ]
  },
  {
   "cell_type": "code",
   "execution_count": 16,
   "metadata": {},
   "outputs": [
    {
     "data": {
      "application/vnd.vegalite.v3+json": {
       "$schema": "https://vega.github.io/schema/vega-lite/v3.4.0.json",
       "config": {
        "mark": {
         "tooltip": null
        },
        "view": {
         "height": 300,
         "width": 400
        }
       },
       "data": {
        "format": {
         "type": "json"
        },
        "url": "altair-data-4de50a56d9347092655bde3ad19458dc.json"
       },
       "encoding": {
        "color": {
         "field": "job_gender_dominant_group",
         "legend": {
          "title": "Job gender dominant group"
         },
         "sort": [
          "male dominant",
          "only male",
          "balanced",
          "female dominant",
          "only female"
         ],
         "type": "nominal"
        },
        "x": {
         "axis": {
          "title": "Year"
         },
         "field": "year",
         "type": "ordinal"
        },
        "y": {
         "axis": {
          "title": "Number of Jobs"
         },
         "field": "total",
         "type": "quantitative"
        }
       },
       "height": 250,
       "mark": "line",
       "title": "Number of job gender dominant groups by year",
       "width": 400
      },
      "image/png": "[encoded data removed]",
      "text/plain": [
       "<VegaLite 3 object>\n",
       "\n",
       "If you see this message, it means the renderer has not been properly enabled\n",
       "for the frontend that you are using. For more information, see\n",
       "https://altair-viz.github.io/user_guide/troubleshooting.html\n"
      ]
     },
     "execution_count": 16,
     "metadata": {},
     "output_type": "execute_result"
    }
   ],
   "source": [
    "gender_group_chart2 = alt.Chart(gender_dominant_group_count_df).mark_line().encode(\n",
    "  x=alt.X('year:O', axis=alt.Axis(title='Year')),\n",
    "  y=alt.Y('total', axis=alt.Axis(title='Number of Jobs')),\n",
    "  color=alt.Color('job_gender_dominant_group', legend=alt.Legend(title=\"Job gender dominant group\"), sort = ['male dominant','only male','balanced', 'female dominant', 'only female'])\n",
    ").properties(\n",
    "  title='Number of job gender dominant groups by year',\n",
    "    height = 250,\n",
    "    width = 400\n",
    ")\n",
    "\n",
    "gender_group_chart2"
   ]
  },
  {
   "cell_type": "code",
   "execution_count": 17,
   "metadata": {},
   "outputs": [
    {
     "data": {
      "application/vnd.vegalite.v3+json": {
       "$schema": "https://vega.github.io/schema/vega-lite/v3.4.0.json",
       "config": {
        "mark": {
         "tooltip": null
        },
        "view": {
         "height": 300,
         "width": 400
        }
       },
       "data": {
        "format": {
         "type": "json"
        },
        "url": "altair-data-4de50a56d9347092655bde3ad19458dc.json"
       },
       "layer": [
        {
         "encoding": {
          "color": {
           "field": "job_gender_dominant_group",
           "legend": {
            "title": "Job gender dominant group"
           },
           "sort": [
            "male dominant",
            "only male",
            "balanced",
            "female dominant",
            "only female"
           ],
           "type": "nominal"
          },
          "x": {
           "axis": {
            "title": "Year"
           },
           "field": "year",
           "type": "ordinal"
          },
          "y": {
           "axis": {
            "title": "Number of Jobs"
           },
           "field": "total",
           "type": "quantitative"
          }
         },
         "height": 250,
         "mark": "line",
         "title": "Number of job gender dominant groups by year",
         "width": 400
        },
        {
         "encoding": {
          "x": {
           "field": "year",
           "type": "ordinal"
          }
         },
         "mark": {
          "color": "#aaa",
          "type": "rule"
         },
         "transform": [
          {
           "filter": {
            "selection": "selector001"
           }
          }
         ]
        },
        {
         "encoding": {
          "color": {
           "field": "job_gender_dominant_group",
           "legend": {
            "title": "Job gender dominant group"
           },
           "sort": [
            "male dominant",
            "only male",
            "balanced",
            "female dominant",
            "only female"
           ],
           "type": "nominal"
          },
          "opacity": {
           "condition": {
            "selection": "selector001",
            "value": 1
           },
           "value": 0
          },
          "x": {
           "axis": {
            "title": "Year"
           },
           "field": "year",
           "type": "ordinal"
          },
          "y": {
           "axis": {
            "title": "Number of Jobs"
           },
           "field": "total",
           "type": "quantitative"
          }
         },
         "height": 250,
         "mark": "circle",
         "selection": {
          "selector001": {
           "empty": "none",
           "encodings": [
            "x"
           ],
           "nearest": true,
           "on": "mouseover",
           "type": "single"
          }
         },
         "title": "Number of job gender dominant groups by year",
         "width": 400
        },
        {
         "encoding": {
          "color": {
           "field": "job_gender_dominant_group",
           "legend": {
            "title": "Job gender dominant group"
           },
           "sort": [
            "male dominant",
            "only male",
            "balanced",
            "female dominant",
            "only female"
           ],
           "type": "nominal"
          },
          "text": {
           "field": "total",
           "type": "quantitative"
          },
          "x": {
           "axis": {
            "title": "Year"
           },
           "field": "year",
           "type": "ordinal"
          },
          "y": {
           "axis": {
            "title": "Number of Jobs"
           },
           "field": "total",
           "type": "quantitative"
          }
         },
         "height": 250,
         "mark": {
          "align": "left",
          "dx": 5,
          "dy": -5,
          "stroke": "white",
          "strokeWidth": 2,
          "type": "text"
         },
         "title": "Number of job gender dominant groups by year",
         "transform": [
          {
           "filter": {
            "selection": "selector001"
           }
          }
         ],
         "width": 400
        },
        {
         "encoding": {
          "color": {
           "field": "job_gender_dominant_group",
           "legend": {
            "title": "Job gender dominant group"
           },
           "sort": [
            "male dominant",
            "only male",
            "balanced",
            "female dominant",
            "only female"
           ],
           "type": "nominal"
          },
          "text": {
           "field": "total",
           "type": "quantitative"
          },
          "x": {
           "axis": {
            "title": "Year"
           },
           "field": "year",
           "type": "ordinal"
          },
          "y": {
           "axis": {
            "title": "Number of Jobs"
           },
           "field": "total",
           "type": "quantitative"
          }
         },
         "height": 250,
         "mark": {
          "align": "left",
          "dx": 5,
          "dy": -5,
          "type": "text"
         },
         "title": "Number of job gender dominant groups by year",
         "transform": [
          {
           "filter": {
            "selection": "selector001"
           }
          }
         ],
         "width": 400
        }
       ]
      },
      "image/png": "[encoded data removed]",
      "text/plain": [
       "<VegaLite 3 object>\n",
       "\n",
       "If you see this message, it means the renderer has not been properly enabled\n",
       "for the frontend that you are using. For more information, see\n",
       "https://altair-viz.github.io/user_guide/troubleshooting.html\n"
      ]
     },
     "execution_count": 17,
     "metadata": {},
     "output_type": "execute_result"
    }
   ],
   "source": [
    "label = alt.selection_single(\n",
    "    encodings=['x'], # limit selection to x-axis value\n",
    "    on='mouseover',  # select on mouseover events\n",
    "    nearest=True,    # select data point nearest the cursor\n",
    "    empty='none'     # empty selection includes no data points\n",
    ")\n",
    "\n",
    "\n",
    "gender_group_chart2_w_interaction = alt.layer(\n",
    "    gender_group_chart2, # base line chart\n",
    "        alt.Chart().mark_rule(color='#aaa').encode(\n",
    "        x='year:O'\n",
    "    ).transform_filter(label),\n",
    "    gender_group_chart2.mark_circle().encode(\n",
    "        opacity=alt.condition(label, alt.value(1), alt.value(0))\n",
    "    ).add_selection(label),\n",
    "    gender_group_chart2.mark_text(align='left', dx=5, dy=-5, stroke='white', strokeWidth=2).encode(\n",
    "        text='total:Q'\n",
    "    ).transform_filter(label),\n",
    "     gender_group_chart2.mark_text(align='left', dx=5, dy=-5).encode(\n",
    "        text='total:Q'\n",
    "    ).transform_filter(label),\n",
    "    data = gender_dominant_group_count_df\n",
    ")\n",
    "gender_group_chart2_w_interaction"
   ]
  }
 ],
 "metadata": {
  "kernelspec": {
   "display_name": "Python 3",
   "language": "python",
   "name": "python3"
  },
  "language_info": {
   "codemirror_mode": {
    "name": "ipython",
    "version": 3
   },
   "file_extension": ".py",
   "mimetype": "text/x-python",
   "name": "python",
   "nbconvert_exporter": "python",
   "pygments_lexer": "ipython3",
   "version": "3.7.5"
  }
 },
 "nbformat": 4,
 "nbformat_minor": 4
}
