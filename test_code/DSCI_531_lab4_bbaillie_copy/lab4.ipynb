{
 "cells": [
  {
   "cell_type": "markdown",
   "metadata": {
    "Collapsed": "false"
   },
   "source": [
    "# DSCI 531 Lab 4 - Exploratory data analysis"
   ]
  },
  {
   "cell_type": "markdown",
   "metadata": {
    "Collapsed": "false"
   },
   "source": [
    "## Introduction\n",
    "\n",
    "In this lab, you will be choosing a dataset to do some exploratory data analysis. Your goal is to produce a readable, runnable jupyter notebook that takes your audience through the various stages of exploratory data analysis from initially loading the data, to any wrangling or cleaning needed, and finally visualizing trends in the data to help answer the research questions. The purpose of this lab is for you to practice EDA with visualizations and a little bit of wrangling. Its purpose is NOT for you to spend a tonne of time cleaning your data. The sample datsets provided require minimal cleaning. If you choose your own dataset, please ensure you avoid datasets that require too much cleaning. No matter which dataset you choose, there will likely be some wrangling involved. To help you with exploring the data, coming up with good research questions, and any wrangling, the DSCI 531 teaching team has scheduled additional office hours this week to help you. \n",
    "\n",
    "**In addition, Tom has very kindly agreed to open up the instructor and TAs office hours for DSCI 523 for you to get additional help with wrangling.** Though we will not be explicitly assessing wrangling in 531, I encourage you to use our office hours to help you explore the dataset you choose! Note: wrangling can be done in either R or python (if in R, save the wrangled data to disk and read it in) but the plots in this lab must be done in Altair. \n",
    "\n",
    "- **The final version of Lab 4 needs to be submitted by the usual weekly deadline (Saturday November 9th at 6PM)**\n",
    "- **Your peer-review is due at a special time, on Tuesday November 12th at 11:59 PM.**\n",
    "\n",
    "<img src=\"https://i.imgur.com/D0kcArC.png\" alt=\"Read_This\" style=\"width: 150px;\"/>\n",
    "\n",
    "## Lab 4 Learning Outcomes\n",
    "\n",
    "In this lab you will:\n",
    "\n",
    "- Develop an exploratory data analysis plan with an unfamiliar dataset\n",
    "- Apply effective design principles to visual representations of data\n",
    "- Use the `Altair` library in `python` to generate visual representations of data for several plot types\n",
    "\n",
    "## How will I be graded?\n",
    "\n",
    "- The MDS rubrics can be found [here](https://github.com/UBC-MDS/public/tree/master/rubric). \n",
    "- Solutions to the practice problems are provided in the students repo for the course\n",
    "- Each question below is assigned points assigned to MDS rubrics \n",
    "\n",
    "## Overall submission\n",
    "rubric={mechanics:5, writing: 18}\n",
    "\n",
    "- Please make sure you check your spelling, grammar, punctuation, and ensure that your writing has good logical structure and flow\n",
    "- To submit this assignment, submit this jupyter notebook with your answers embedded in the appropriate cells.\n",
    "- Update your README file with the questions and links to your submission.\n",
    "- Follow the general [lab instructions](https://ubc-mds.github.io/resources_pages/general_lab_instructions/).\n",
    "\n",
    "## Pre-lab\n",
    "\n",
    "- Think a bit about which dataset you would like to use for lab 4. The lab will be your opportunity to get feedback from TAs about your ideas on how to explore the dataset you chose. In this lab, you will also be able to use your own data set to do some exploratory data analysis"
   ]
  },
  {
   "cell_type": "code",
   "execution_count": 1,
   "metadata": {
    "Collapsed": "false"
   },
   "outputs": [
    {
     "data": {
      "text/plain": [
       "DataTransformerRegistry.enable('json')"
      ]
     },
     "execution_count": 1,
     "metadata": {},
     "output_type": "execute_result"
    }
   ],
   "source": [
    "# Load packages\n",
    "\n",
    "import pandas as pd\n",
    "import altair as alt\n",
    "\n",
    "# Need to enable this to allow work with larger datasets (https://altair-viz.github.io/user_guide/faq.html)\n",
    "alt.data_transformers.enable('json')"
   ]
  },
  {
   "cell_type": "markdown",
   "metadata": {
    "Collapsed": "false"
   },
   "source": [
    "## 0. Choose a dataset\n",
    "\n",
    "The first three options are all part of the `vega-datasets` python package. You can browse other vega datasets [here](https://observablehq.com/@randomfractals/vega-datasets).\n",
    "\n",
    "Option 1: [`Jobs`](https://raw.githubusercontent.com/vega/vega-datasets/master/data/jobs.json)\n",
    "\n",
    "Option 2: [`Movies`](https://raw.githubusercontent.com/vega/vega-datasets/master/data/movies.json)\n",
    "\n",
    "Option 3: [`Stocks`](https://raw.githubusercontent.com/vega/vega-datasets/master/data/stocks.csv)\n",
    "\n",
    "Option 4: Choose your own dataset (highly recommended that you get this approved by a DSCI531 TA during labs, or office hours)\n",
    "\n",
    "You can search for other datasets here:\n",
    "\n",
    "- [fivethirtyeight](https://data.fivethirtyeight.com)\n",
    "- [Buzzfeed](https://github.com/BuzzFeedNews/everything)\n",
    "- [Data.gov](https://www.data.gov/)\n",
    "- [data.world](https://data.world/) (requires free account)\n",
    "\n",
    "**Note: Though it may sound easy, it is not trivial to choose an interesting and relevant dataset. There are thousands out there and the [tyranny of choice](https://www.economist.com/christmas-specials/2010/12/16/you-choose) is pretty overwhelming. If you really want to choose your own dataset, I'd suggest you set a 30 minute timer, start searching, and then choose one before the timer expires. I advise you NOT to sink too much time into choosing a dataset as it's not the purpose of this lab.**"
   ]
  },
  {
   "cell_type": "markdown",
   "metadata": {
    "Collapsed": "false"
   },
   "source": [
    "## 1. Describe your dataset\n",
    "rubric:{reasoning:4}\n",
    "\n",
    "**Task: Describe your dataset. Consider the following questions to guide you in your exploration**\n",
    "\n",
    "- Who: Which company/agency/organization provided this data?\n",
    "- What: What is in your data?\n",
    "- When: When was your data collected (for example, for which years)?\n",
    "- Why: What is the purpose of your dataset? Is it for transparency/accountability, public interest, fun, learning, etc...\n",
    "- How: How was your data collected? Was it a human collecting the data? Historical records digitized? Server logs?\n",
    "\n",
    "*Submission Hint: You probably will not need more than 250 words to describe your dataset. All the questions above do not need to be answered, it's more to guide your exploration and think a little bit about the context of your data. It is also possible you will not know the answers to some of the questions above, that is FINE - data scientists are often faced with the challenge of analyzing data from unknown sources. Do your best, acknowledge the limitations of your data as well as your understanding of it. Also, make it clear what you're speculating about. For example, \"I speculate that the {...column_name...} column must be related to {....} because {....}.\"*"
   ]
  },
  {
   "cell_type": "markdown",
   "metadata": {
    "Collapsed": "false"
   },
   "source": [
    "- Who: vega-datasets did not specify a source for the data\n",
    "- What: Information on 255 different jobs, and the number of people who held that job in a particular year\n",
    "- When: From 1850 to 2000 in increments of 10 years\n",
    "- Why: No intent was explicitly specified, but my guess is to see the gender divide in careers over time\n",
    "- How: No information was provided on how the data was collected, although judging by the years over"
   ]
  },
  {
   "cell_type": "markdown",
   "metadata": {
    "Collapsed": "false"
   },
   "source": [
    "## 2. Load the dataset\n",
    "rubric:{correctness:1}\n",
    "\n",
    "**Task: Load your dataset from a file, or URL. This needs to be a pandas dataframe so you can use it with Altair. Remember that others may be running your jupyter notebook so it's important that the data is accessible to them. If your dataset isn't accessible as a URL, make sure to commit it into your repo.**"
   ]
  },
  {
   "cell_type": "code",
   "execution_count": 2,
   "metadata": {
    "Collapsed": "false"
   },
   "outputs": [],
   "source": [
    "# need this to access data\n",
    "from vega_datasets import data \n",
    "# I jsut want to use this one\n",
    "import numpy"
   ]
  },
  {
   "cell_type": "code",
   "execution_count": 3,
   "metadata": {},
   "outputs": [],
   "source": [
    "df = data.jobs()"
   ]
  },
  {
   "cell_type": "markdown",
   "metadata": {
    "Collapsed": "false"
   },
   "source": [
    "## 3. Explore your dataset\n",
    "rubric:{correctness:5}\n",
    "\n",
    "**Task: Explore the columns in your dataset. Which ones are interesting/relevant? You can use the same scheme I outlined in Lab 3, Exercise 2 or come up with your own system. By now, you should also know about [df.describe()](http://www.datasciencemadesimple.com/descriptive-summary-statistics-python-pandas/) so you can use that as an aid if you think it's useful and appropriate.**"
   ]
  },
  {
   "cell_type": "code",
   "execution_count": 4,
   "metadata": {},
   "outputs": [
    {
     "data": {
      "text/html": [
       "<div>\n",
       "<style scoped>\n",
       "    .dataframe tbody tr th:only-of-type {\n",
       "        vertical-align: middle;\n",
       "    }\n",
       "\n",
       "    .dataframe tbody tr th {\n",
       "        vertical-align: top;\n",
       "    }\n",
       "\n",
       "    .dataframe thead th {\n",
       "        text-align: right;\n",
       "    }\n",
       "</style>\n",
       "<table border=\"1\" class=\"dataframe\">\n",
       "  <thead>\n",
       "    <tr style=\"text-align: right;\">\n",
       "      <th></th>\n",
       "      <th>job</th>\n",
       "      <th>sex</th>\n",
       "      <th>year</th>\n",
       "      <th>count</th>\n",
       "      <th>perc</th>\n",
       "    </tr>\n",
       "  </thead>\n",
       "  <tbody>\n",
       "    <tr>\n",
       "      <th>0</th>\n",
       "      <td>Accountant / Auditor</td>\n",
       "      <td>men</td>\n",
       "      <td>1850</td>\n",
       "      <td>708</td>\n",
       "      <td>0.000131</td>\n",
       "    </tr>\n",
       "    <tr>\n",
       "      <th>1</th>\n",
       "      <td>Accountant / Auditor</td>\n",
       "      <td>men</td>\n",
       "      <td>1860</td>\n",
       "      <td>1805</td>\n",
       "      <td>0.000214</td>\n",
       "    </tr>\n",
       "    <tr>\n",
       "      <th>2</th>\n",
       "      <td>Accountant / Auditor</td>\n",
       "      <td>men</td>\n",
       "      <td>1870</td>\n",
       "      <td>1310</td>\n",
       "      <td>0.000100</td>\n",
       "    </tr>\n",
       "    <tr>\n",
       "      <th>3</th>\n",
       "      <td>Accountant / Auditor</td>\n",
       "      <td>men</td>\n",
       "      <td>1880</td>\n",
       "      <td>2295</td>\n",
       "      <td>0.000125</td>\n",
       "    </tr>\n",
       "    <tr>\n",
       "      <th>4</th>\n",
       "      <td>Accountant / Auditor</td>\n",
       "      <td>men</td>\n",
       "      <td>1900</td>\n",
       "      <td>11753</td>\n",
       "      <td>0.000396</td>\n",
       "    </tr>\n",
       "  </tbody>\n",
       "</table>\n",
       "</div>"
      ],
      "text/plain": [
       "                    job  sex  year  count      perc\n",
       "0  Accountant / Auditor  men  1850    708  0.000131\n",
       "1  Accountant / Auditor  men  1860   1805  0.000214\n",
       "2  Accountant / Auditor  men  1870   1310  0.000100\n",
       "3  Accountant / Auditor  men  1880   2295  0.000125\n",
       "4  Accountant / Auditor  men  1900  11753  0.000396"
      ]
     },
     "execution_count": 4,
     "metadata": {},
     "output_type": "execute_result"
    }
   ],
   "source": [
    "df.head()"
   ]
  },
  {
   "cell_type": "code",
   "execution_count": 5,
   "metadata": {},
   "outputs": [
    {
     "data": {
      "text/html": [
       "<div>\n",
       "<style scoped>\n",
       "    .dataframe tbody tr th:only-of-type {\n",
       "        vertical-align: middle;\n",
       "    }\n",
       "\n",
       "    .dataframe tbody tr th {\n",
       "        vertical-align: top;\n",
       "    }\n",
       "\n",
       "    .dataframe thead th {\n",
       "        text-align: right;\n",
       "    }\n",
       "</style>\n",
       "<table border=\"1\" class=\"dataframe\">\n",
       "  <thead>\n",
       "    <tr style=\"text-align: right;\">\n",
       "      <th></th>\n",
       "      <th>year</th>\n",
       "      <th>count</th>\n",
       "      <th>perc</th>\n",
       "    </tr>\n",
       "  </thead>\n",
       "  <tbody>\n",
       "    <tr>\n",
       "      <th>count</th>\n",
       "      <td>7650.000000</td>\n",
       "      <td>7.650000e+03</td>\n",
       "      <td>7650.000000</td>\n",
       "    </tr>\n",
       "    <tr>\n",
       "      <th>mean</th>\n",
       "      <td>1927.333333</td>\n",
       "      <td>1.253996e+05</td>\n",
       "      <td>0.001961</td>\n",
       "    </tr>\n",
       "    <tr>\n",
       "      <th>std</th>\n",
       "      <td>46.688762</td>\n",
       "      <td>5.400795e+05</td>\n",
       "      <td>0.011024</td>\n",
       "    </tr>\n",
       "    <tr>\n",
       "      <th>min</th>\n",
       "      <td>1850.000000</td>\n",
       "      <td>0.000000e+00</td>\n",
       "      <td>0.000000</td>\n",
       "    </tr>\n",
       "    <tr>\n",
       "      <th>25%</th>\n",
       "      <td>1880.000000</td>\n",
       "      <td>0.000000e+00</td>\n",
       "      <td>0.000000</td>\n",
       "    </tr>\n",
       "    <tr>\n",
       "      <th>50%</th>\n",
       "      <td>1930.000000</td>\n",
       "      <td>3.538000e+03</td>\n",
       "      <td>0.000079</td>\n",
       "    </tr>\n",
       "    <tr>\n",
       "      <th>75%</th>\n",
       "      <td>1970.000000</td>\n",
       "      <td>4.094400e+04</td>\n",
       "      <td>0.000678</td>\n",
       "    </tr>\n",
       "    <tr>\n",
       "      <th>max</th>\n",
       "      <td>2000.000000</td>\n",
       "      <td>1.127078e+07</td>\n",
       "      <td>0.446872</td>\n",
       "    </tr>\n",
       "  </tbody>\n",
       "</table>\n",
       "</div>"
      ],
      "text/plain": [
       "              year         count         perc\n",
       "count  7650.000000  7.650000e+03  7650.000000\n",
       "mean   1927.333333  1.253996e+05     0.001961\n",
       "std      46.688762  5.400795e+05     0.011024\n",
       "min    1850.000000  0.000000e+00     0.000000\n",
       "25%    1880.000000  0.000000e+00     0.000000\n",
       "50%    1930.000000  3.538000e+03     0.000079\n",
       "75%    1970.000000  4.094400e+04     0.000678\n",
       "max    2000.000000  1.127078e+07     0.446872"
      ]
     },
     "execution_count": 5,
     "metadata": {},
     "output_type": "execute_result"
    }
   ],
   "source": [
    "df.describe()"
   ]
  },
  {
   "cell_type": "code",
   "execution_count": 6,
   "metadata": {
    "Collapsed": "false"
   },
   "outputs": [
    {
     "name": "stdout",
     "output_type": "stream",
     "text": [
      "The dataframe columns are:  ['job', 'sex', 'year', 'count', 'perc'] \n",
      "\n",
      "- The jobs range from Accountant / Auditor to Welder and there are 255 jobs. \n",
      "\n",
      "- The years range from 1850 to 2000 and there are 15 years. \n",
      "\n",
      "- The counts range from 0 to 11270779, with an average count of 216710. \n",
      "\n",
      " - The column 'perc' represents the proportion of each rows count to the total count per year\n"
     ]
    }
   ],
   "source": [
    "print(\"The dataframe columns are: \", list(df.columns), \"\\n\")\n",
    "\n",
    "\n",
    "jobs_list = sorted(list(df['job'].unique()))\n",
    "print(\"- The jobs range from {0} to {1} and there are {2} jobs.\".format(jobs_list[0],\n",
    "                                                                        jobs_list[-1],\n",
    "                                                                        len(jobs_list)), \"\\n\")\n",
    "\n",
    "years_list = sorted(list(df['year'].unique()))\n",
    "print(\"- The years range from {0:.0f} to {1:.0f} and there are {2} years.\".format(years_list[0],\n",
    "                                                                                  years_list[-1],\n",
    "                                                                                  len(years_list)), \"\\n\")\n",
    "\n",
    "count_list = sorted(list(df['count'].unique()))\n",
    "print(\"- The counts range from {0:.0f} to {1:.0f}, with an average count of {2:.0f}.\".format(count_list[0], \n",
    "                                                                                             count_list[-1],\n",
    "                                                                                             numpy.mean(count_list)), \"\\n\")\n",
    "\n",
    "print(\" - The column 'perc' represents the proportion of each rows count to the total count per year\")        \n"
   ]
  },
  {
   "cell_type": "markdown",
   "metadata": {
    "Collapsed": "false"
   },
   "source": [
    "## 4. Initial thoughts\n",
    "rubric={correctness:1}\n",
    "\n",
    "**Task: Use this a place to record any observations you come up with, anything jump out at you as surprising or particularly interesting? Where do you think you'll go with exploring this dataset? Feel free to take notes in this section and use it as a scratch pad. Any content in this area will not be marked, other than for completeness.**"
   ]
  },
  {
   "cell_type": "markdown",
   "metadata": {
    "Collapsed": "false"
   },
   "source": [
    "I thing `perc` isnt a very usefull column, but I think a similar concept could be applied to proportion of each sexes count to total count per job per year. Then you could look at how the divide of each sex changed for a particular job throughout the decades"
   ]
  },
  {
   "cell_type": "markdown",
   "metadata": {
    "Collapsed": "false"
   },
   "source": [
    "## 5. Wrangling\n",
    "rubric={correctness:1}\n",
    "\n",
    "**Task: You can do any wrangling you need to do here. If you prefer to wrangle in R, that's fine - go ahead and wrangle the data in a different notebook, then export the data as a CSV and then load it in again as a new pandas dataframe. Describe what you're doing (or did) using comments within your code.**"
   ]
  },
  {
   "cell_type": "code",
   "execution_count": 7,
   "metadata": {
    "Collapsed": "false"
   },
   "outputs": [
    {
     "data": {
      "text/html": [
       "<div>\n",
       "<style scoped>\n",
       "    .dataframe tbody tr th:only-of-type {\n",
       "        vertical-align: middle;\n",
       "    }\n",
       "\n",
       "    .dataframe tbody tr th {\n",
       "        vertical-align: top;\n",
       "    }\n",
       "\n",
       "    .dataframe thead th {\n",
       "        text-align: right;\n",
       "    }\n",
       "</style>\n",
       "<table border=\"1\" class=\"dataframe\">\n",
       "  <thead>\n",
       "    <tr style=\"text-align: right;\">\n",
       "      <th></th>\n",
       "      <th>year</th>\n",
       "      <th>count</th>\n",
       "      <th>annual_gender_prop_in_job</th>\n",
       "    </tr>\n",
       "    <tr>\n",
       "      <th>job</th>\n",
       "      <th></th>\n",
       "      <th></th>\n",
       "      <th></th>\n",
       "    </tr>\n",
       "  </thead>\n",
       "  <tbody>\n",
       "    <tr>\n",
       "      <th>Clerical Worker</th>\n",
       "      <td>57820</td>\n",
       "      <td>55143015</td>\n",
       "      <td>15.0</td>\n",
       "    </tr>\n",
       "    <tr>\n",
       "      <th>Farmer</th>\n",
       "      <td>57820</td>\n",
       "      <td>54825882</td>\n",
       "      <td>15.0</td>\n",
       "    </tr>\n",
       "    <tr>\n",
       "      <th>Laborer</th>\n",
       "      <td>57820</td>\n",
       "      <td>53678176</td>\n",
       "      <td>15.0</td>\n",
       "    </tr>\n",
       "    <tr>\n",
       "      <th>Manager / Owner</th>\n",
       "      <td>57820</td>\n",
       "      <td>70829428</td>\n",
       "      <td>15.0</td>\n",
       "    </tr>\n",
       "    <tr>\n",
       "      <th>Operative</th>\n",
       "      <td>57820</td>\n",
       "      <td>78588118</td>\n",
       "      <td>15.0</td>\n",
       "    </tr>\n",
       "  </tbody>\n",
       "</table>\n",
       "</div>"
      ],
      "text/plain": [
       "                  year     count  annual_gender_prop_in_job\n",
       "job                                                        \n",
       "Clerical Worker  57820  55143015                       15.0\n",
       "Farmer           57820  54825882                       15.0\n",
       "Laborer          57820  53678176                       15.0\n",
       "Manager / Owner  57820  70829428                       15.0\n",
       "Operative        57820  78588118                       15.0"
      ]
     },
     "execution_count": 7,
     "metadata": {},
     "output_type": "execute_result"
    }
   ],
   "source": [
    "#reassigning for easier debugging\n",
    "df = data.jobs()\n",
    "# remove `perc` column\n",
    "df = df.drop(columns = 'perc')\n",
    "# count the total number of people in each job by year\n",
    "gender_year_df = df.groupby([\"year\",\"job\"]).agg(sum).reset_index()\n",
    "gender_year_df = gender_year_df.rename(columns={\"count\": \"total\"})\n",
    "# merge the totals with our original data frame to get a total associated with each row\n",
    "df = df.merge(gender_year_df, how = \"left\", on = [\"year\",\"job\"])\n",
    "# create a proportion column for proportion of men and women in each job by year\n",
    "df['annual_gender_prop_in_job'] = df['count']/df['total']\n",
    "# sort the values of my df so its more visulay aligned with my wrangling\n",
    "df = df.sort_values(by=[\"year\",\"job\",\"sex\"])\n",
    "# remove the unnecessary `total` column used solely for intermediary calculations\n",
    "df = df.drop(columns = 'total')\n",
    "# remove rows with na proportions to lower job count\n",
    "df = df.dropna(axis=0)\n",
    "# remove jobs that do not have data for both genders for all 15 years\n",
    "full_year_data = df.groupby([\"job\"]).count().query(\"year == 30\").reset_index()[[\"job\"]]\n",
    "df = df[df[\"job\"].isin(full_year_data[\"job\"])]\n",
    "df.head()\n",
    "df.groupby(\"job\").agg('sum').query(\"count >= 50000000.0\")"
   ]
  },
  {
   "cell_type": "markdown",
   "metadata": {
    "Collapsed": "false"
   },
   "source": [
    "## 6. Research questions\n",
    "rubric={reasoning:5}\n",
    "\n",
    "**Task: come up with at least two research questions about your dataset that will require data visualizations to help answer. Recall that for this purpose, you should only aim for \"Descriptive\" or \"Exploratory\" research questions.**"
   ]
  },
  {
   "cell_type": "markdown",
   "metadata": {
    "Collapsed": "false"
   },
   "source": [
    "Has the proportion of women increased in certain male-perceived jobs?\n",
    " - Specifically as `Professor`, `Plumber`, and `Lawyer / Judge`\n",
    " \n",
    "Has the proportion of men increased in certain female-perceived jobs?\n",
    " - Specifically as `Nurse`, `Teacher` and `Household Worker`\n",
    "\n",
    "Are there certain jobs that did not become prevalent until more recent times?\n",
    "(I removed the data needed to answer this in an attempt to get a smaller subset of data)\n",
    "\n",
    "Are there certain jobs became less prevalent in more recent times?\n",
    "(I removed the data needed to answer this in an attempt to get a smaller subset of data)\n",
    "\n",
    "\n"
   ]
  },
  {
   "cell_type": "markdown",
   "metadata": {
    "Collapsed": "false"
   },
   "source": [
    "## 7. Data Analysis & Visualizations\n",
    "\n",
    "rubric={viz:40, reasoning:10}\n",
    "\n",
    "**Task: Create data visualizations (and justify your choices) using Altair that will help you answer your research questions.**\n",
    "\n",
    "*Submission Note: It is difficult to give guidelines on how many because so much depends on your choice of research questions. That being said, you should aim for 2-3 high quality effective visualizations (and no more than 4). A faceted plot counts as one visualization. If you cannot come up with 2 effective visualizations, perhaps you need to re-think your research questions (or add more). If you need more than 4, perhaps it's a sign that your research question is too broad. Use your judgment, and understand that we will mark this section as a whole on quality rather than quantity. It is better to have fewer truly effective plots that directly address the research question, than pages and pages of plots that are hard to interpret. You will be evaluated on both your visualization itself (viz rubric) and your justification for selecting it (reasoning rubric).*\n",
    "\n",
    "*Submission Note 2: Remember the website from [data to viz](https://www.data-to-viz.com) to help you choose appropriate visualizations.*\n",
    "\n"
   ]
  },
  {
   "cell_type": "code",
   "execution_count": 8,
   "metadata": {
    "Collapsed": "false"
   },
   "outputs": [
    {
     "data": {
      "application/vnd.vegalite.v3+json": {
       "$schema": "https://vega.github.io/schema/vega-lite/v3.4.0.json",
       "config": {
        "mark": {
         "tooltip": null
        },
        "view": {
         "height": 300,
         "width": 400
        }
       },
       "hconcat": [
        {
         "columns": 1,
         "data": {
          "format": {
           "type": "json"
          },
          "url": "altair-data-c7f53047d1e1a0a336508a021c1e48ed.json"
         },
         "facet": {
          "field": "job",
          "title": "Job Title",
          "type": "nominal"
         },
         "spec": {
          "layer": [
           {
            "encoding": {
             "color": {
              "field": "sex",
              "title": "Gender",
              "type": "nominal"
             },
             "x": {
              "field": "year",
              "title": "Year",
              "type": "ordinal"
             },
             "y": {
              "field": "annual_gender_prop_in_job",
              "scale": {
               "domain": [
                0,
                1
               ]
              },
              "title": "Proportion",
              "type": "quantitative"
             }
            },
            "height": 100,
            "mark": "line",
            "transform": [
             {
              "filter": "(datum.sex === 'men')"
             }
            ],
            "width": 300
           },
           {
            "encoding": {
             "x": {
              "field": "year",
              "type": "ordinal"
             }
            },
            "mark": {
             "color": "#aaa",
             "type": "rule"
            },
            "transform": [
             {
              "filter": {
               "selection": "selector001"
              }
             }
            ]
           },
           {
            "encoding": {
             "color": {
              "field": "sex",
              "title": "Gender",
              "type": "nominal"
             },
             "opacity": {
              "condition": {
               "selection": "selector001",
               "value": 1
              },
              "value": 0
             },
             "x": {
              "field": "year",
              "title": "Year",
              "type": "ordinal"
             },
             "y": {
              "field": "annual_gender_prop_in_job",
              "scale": {
               "domain": [
                0,
                1
               ]
              },
              "title": "Proportion",
              "type": "quantitative"
             }
            },
            "height": 100,
            "mark": "circle",
            "selection": {
             "selector001": {
              "empty": "none",
              "encodings": [
               "x"
              ],
              "nearest": true,
              "on": "mouseover",
              "type": "single"
             }
            },
            "transform": [
             {
              "filter": "(datum.sex === 'men')"
             }
            ],
            "width": 300
           },
           {
            "encoding": {
             "color": {
              "field": "sex",
              "title": "Gender",
              "type": "nominal"
             },
             "text": {
              "field": "annual_gender_prop_in_job",
              "type": "quantitative"
             },
             "x": {
              "field": "year",
              "title": "Year",
              "type": "ordinal"
             },
             "y": {
              "field": "annual_gender_prop_in_job",
              "scale": {
               "domain": [
                0,
                1
               ]
              },
              "title": "Proportion",
              "type": "quantitative"
             }
            },
            "height": 100,
            "mark": {
             "align": "left",
             "dx": 5,
             "dy": -5,
             "stroke": "white",
             "strokeWidth": 2,
             "type": "text"
            },
            "transform": [
             {
              "filter": "(datum.sex === 'men')"
             },
             {
              "filter": {
               "selection": "selector001"
              }
             }
            ],
            "width": 300
           },
           {
            "encoding": {
             "color": {
              "field": "sex",
              "title": "Gender",
              "type": "nominal"
             },
             "text": {
              "field": "annual_gender_prop_in_job",
              "type": "quantitative"
             },
             "x": {
              "field": "year",
              "title": "Year",
              "type": "ordinal"
             },
             "y": {
              "field": "annual_gender_prop_in_job",
              "scale": {
               "domain": [
                0,
                1
               ]
              },
              "title": "Proportion",
              "type": "quantitative"
             }
            },
            "height": 100,
            "mark": {
             "align": "left",
             "dx": 5,
             "dy": -5,
             "type": "text"
            },
            "transform": [
             {
              "filter": "(datum.sex === 'men')"
             },
             {
              "filter": {
               "selection": "selector001"
              }
             }
            ],
            "width": 300
           }
          ]
         },
         "title": "Men in historically Female jobs per decade"
        },
        {
         "columns": 1,
         "data": {
          "format": {
           "type": "json"
          },
          "url": "altair-data-dacf19d2c83ce7fd856ae69bc72c3fe6.json"
         },
         "facet": {
          "field": "job",
          "title": "Job Title",
          "type": "nominal"
         },
         "spec": {
          "layer": [
           {
            "encoding": {
             "color": {
              "field": "sex",
              "title": "Gender",
              "type": "nominal"
             },
             "x": {
              "field": "year",
              "title": "Year",
              "type": "ordinal"
             },
             "y": {
              "field": "annual_gender_prop_in_job",
              "scale": {
               "domain": [
                0,
                1
               ]
              },
              "title": "Proportion",
              "type": "quantitative"
             }
            },
            "height": 100,
            "mark": "line",
            "transform": [
             {
              "filter": "(datum.sex === 'women')"
             }
            ],
            "width": 300
           },
           {
            "encoding": {
             "x": {
              "field": "year",
              "type": "ordinal"
             }
            },
            "mark": {
             "color": "#aaa",
             "type": "rule"
            },
            "transform": [
             {
              "filter": {
               "selection": "selector001"
              }
             }
            ]
           },
           {
            "encoding": {
             "color": {
              "field": "sex",
              "title": "Gender",
              "type": "nominal"
             },
             "opacity": {
              "condition": {
               "selection": "selector001",
               "value": 1
              },
              "value": 0
             },
             "x": {
              "field": "year",
              "title": "Year",
              "type": "ordinal"
             },
             "y": {
              "field": "annual_gender_prop_in_job",
              "scale": {
               "domain": [
                0,
                1
               ]
              },
              "title": "Proportion",
              "type": "quantitative"
             }
            },
            "height": 100,
            "mark": "circle",
            "selection": {
             "selector001": {
              "empty": "none",
              "encodings": [
               "x"
              ],
              "nearest": true,
              "on": "mouseover",
              "type": "single"
             }
            },
            "transform": [
             {
              "filter": "(datum.sex === 'women')"
             }
            ],
            "width": 300
           },
           {
            "encoding": {
             "color": {
              "field": "sex",
              "title": "Gender",
              "type": "nominal"
             },
             "text": {
              "field": "annual_gender_prop_in_job",
              "type": "quantitative"
             },
             "x": {
              "field": "year",
              "title": "Year",
              "type": "ordinal"
             },
             "y": {
              "field": "annual_gender_prop_in_job",
              "scale": {
               "domain": [
                0,
                1
               ]
              },
              "title": "Proportion",
              "type": "quantitative"
             }
            },
            "height": 100,
            "mark": {
             "align": "left",
             "dx": 5,
             "dy": -5,
             "stroke": "white",
             "strokeWidth": 2,
             "type": "text"
            },
            "transform": [
             {
              "filter": "(datum.sex === 'women')"
             },
             {
              "filter": {
               "selection": "selector001"
              }
             }
            ],
            "width": 300
           },
           {
            "encoding": {
             "color": {
              "field": "sex",
              "title": "Gender",
              "type": "nominal"
             },
             "text": {
              "field": "annual_gender_prop_in_job",
              "type": "quantitative"
             },
             "x": {
              "field": "year",
              "title": "Year",
              "type": "ordinal"
             },
             "y": {
              "field": "annual_gender_prop_in_job",
              "scale": {
               "domain": [
                0,
                1
               ]
              },
              "title": "Proportion",
              "type": "quantitative"
             }
            },
            "height": 100,
            "mark": {
             "align": "left",
             "dx": 5,
             "dy": -5,
             "type": "text"
            },
            "transform": [
             {
              "filter": "(datum.sex === 'women')"
             },
             {
              "filter": {
               "selection": "selector001"
              }
             }
            ],
            "width": 300
           }
          ]
         },
         "title": "Women in historically Male jobs per decade"
        }
       ]
      },
      "image/png": "[encoded data removed]",
      "text/plain": [
       "<VegaLite 3 object>\n",
       "\n",
       "If you see this message, it means the renderer has not been properly enabled\n",
       "for the frontend that you are using. For more information, see\n",
       "https://altair-viz.github.io/user_guide/troubleshooting.html\n"
      ]
     },
     "execution_count": 8,
     "metadata": {},
     "output_type": "execute_result"
    }
   ],
   "source": [
    "female_df = df[df['job'].isin([\"Nurse\", \"Teacher\", \"Household Worker\"])]\n",
    "male_df = df[df['job'].isin([\"Professor\",\"Plumber\", \"Lawyer / Judge\"])]\n",
    "\n",
    "label = alt.selection_single(\n",
    "    encodings=['x'], # limit selection to x-axis value\n",
    "    on='mouseover',  # select on mouseover events\n",
    "    nearest=True,    # select data point nearest the cursor\n",
    "    empty='none'     # empty selection includes no data points\n",
    ")\n",
    "\n",
    "historically_female = alt.Chart(female_df).mark_line().encode(\n",
    "    alt.X('year:O', title=\"Year\"),\n",
    "    alt.Y('annual_gender_prop_in_job:Q', title='Proportion', scale= alt.Scale(domain=[0,1])),\n",
    "    color = alt.Color('sex', title = 'Gender')\n",
    ").transform_filter(\n",
    "    alt.datum.sex == \"men\"\n",
    ").properties(\n",
    "    width = 300,\n",
    "    height = 100\n",
    ")\n",
    "\n",
    "historically_male = alt.Chart(male_df).mark_line().encode(\n",
    "    alt.X('year:O', title=\"Year\"),\n",
    "    alt.Y('annual_gender_prop_in_job:Q', title='Proportion', scale= alt.Scale(domain=[0,1])),\n",
    "    color = alt.Color('sex', title = 'Gender')\n",
    ").properties(\n",
    "    width = 300,\n",
    "    height = 100\n",
    ").transform_filter(\n",
    "    alt.datum.sex == \"women\"\n",
    ")\n",
    "\n",
    "historically_female_w_interaction = alt.layer(\n",
    "    historically_female, # base line chart\n",
    "    alt.Chart().mark_rule(color='#aaa').encode(\n",
    "        x='year:O'\n",
    "    ).transform_filter(label),\n",
    "    historically_female.mark_circle().encode(\n",
    "        opacity=alt.condition(label, alt.value(1), alt.value(0))\n",
    "    ).add_selection(label),\n",
    "    historically_female.mark_text(align='left', dx=5, dy=-5, stroke='white', strokeWidth=2).encode(\n",
    "        text='annual_gender_prop_in_job:Q'\n",
    "    ).transform_filter(label),\n",
    "     historically_female.mark_text(align='left', dx=5, dy=-5).encode(\n",
    "        text='annual_gender_prop_in_job:Q'\n",
    "    ).transform_filter(label),\n",
    "    data = female_df\n",
    ").facet(\n",
    "    facet = alt.Facet('job', title = \"Job Title\"),\n",
    "    columns = 1,\n",
    "    title = \"Men in historically Female jobs per decade\"\n",
    ")\n",
    "\n",
    "historically_male_w_interaction = alt.layer(\n",
    "    historically_male, # base line chart\n",
    "        alt.Chart().mark_rule(color='#aaa').encode(\n",
    "        x='year:O'\n",
    "    ).transform_filter(label),\n",
    "    historically_male.mark_circle().encode(\n",
    "        opacity=alt.condition(label, alt.value(1), alt.value(0))\n",
    "    ).add_selection(label),\n",
    "    historically_male.mark_text(align='left', dx=5, dy=-5, stroke='white', strokeWidth=2).encode(\n",
    "        text='annual_gender_prop_in_job:Q'\n",
    "    ).transform_filter(label),\n",
    "     historically_male.mark_text(align='left', dx=5, dy=-5).encode(\n",
    "        text='annual_gender_prop_in_job:Q'\n",
    "    ).transform_filter(label),\n",
    "    data = male_df\n",
    ").facet(\n",
    "    facet = alt.Facet('job', title = \"Job Title\"),\n",
    "    columns = 1,\n",
    "    title = \"Women in historically Male jobs per decade\"\n",
    ")\n",
    "\n",
    "historically_female_w_interaction | historically_male_w_interaction"
   ]
  },
  {
   "cell_type": "markdown",
   "metadata": {
    "Collapsed": "false"
   },
   "source": [
    "## 8. Summary and conclusions\n",
    "rubric={reasoning:10}\n",
    "\n",
    "**Task: Summarize your findings and describe any conclusions and insight you were able to draw from your visualizations.**"
   ]
  },
  {
   "cell_type": "markdown",
   "metadata": {
    "Collapsed": "false"
   },
   "source": [
    "According to my findings, the three jobs I chose to represent historically female jobs were more male dominated or balanced in the 1850's, which makes sense as to my knowledge it was less common for women to work at all at the time. That being said, the data from then on did show the disparity I had presumed. The divide between men and women in teaching jobs was not as drastic as I had presumed, but still favoured women. No drastic change in balance was noticed for either Teachers or Nurses, but proportions of male Household workes did increase in the 2000's. As for historically male jobs, Plumbing has remained completely male dominated over the past 150 years, while the proportion of women in Lawyer/Judge jobs has seen a steep increase starting in the 1970's, reaching 30% in 2000 and trending towards overtaking men. The findings on the Professor job surprised me as it is not as historically male dominated as I had assumed it would be. While it was male dominated before the 1900's, besides from a peak of women in the field in 1860, women have been steadily closing the gap with a near perfectly balanced split as of 2000. \n",
    "\n",
    "\n",
    "In conclusion, while the historically female job of teacher, nurse, and household worker, and the historically male job of plumber, have not seen an increase in male or female workers respectively to balance the divide in the last 150 years, the historically male jobs of Lawyer/Judge and Professor have reached nearly perfectly balanced since 2000. To me this is indicative of women's fight for representation, and the spread of toxic masculinity and damaging ideas like those that \"womens jobs\" are of less value than \"mens jobs\"."
   ]
  },
  {
   "cell_type": "markdown",
   "metadata": {
    "Collapsed": "false"
   },
   "source": [
    "## (Optional) 9. Contribute to the Altair package (up to 15 marks)\n",
    "\n",
    "#### Call for contributions\n",
    "\n",
    "This message is from the Altair developers:\n",
    "\n",
    "> We are always interested in new examples contributed from the community.  These could be everything from simple one-panel scatter and line plots, to more\n",
    "complicated layered or stacked plots, to more advanced interactive features. Before submitting a new example check the [Altair Example\n",
    "Gallery](https://altair-viz.github.io/gallery/index.html) to make sure that\n",
    "your idea has not already been implemented. \n",
    "> \n",
    ">The easiest way to get started would be to adapt examples from the [Vega-Lite\n",
    "example gallery](https://vega.github.io/vega-lite/examples/) which are missing\n",
    "in the altair gallery. Or you can feel free to be creative and build your own\n",
    "visualizations.\n",
    "\n",
    "**After going through two weeks of using Altair, you have likely learned many things about its syntax. As the Altair package is still in its infancy and the documentation is still improving, I want to give you a chance to contribute your knowledge and experience back to this open source project. Below are the instructions:**\n",
    "\n",
    "- Go to the issues page of my [fork of the Altair repo](https://github.com/firasm/DSCI_531_2019_altair/issues)\n",
    "- If you know the contribution you want to make, create an issue and tag me (@firasm) so I can give you the go-ahead and assign your future contribution an effort level (see below)\n",
    "- If you do not know the contribution you want to make, browse the list of issues and comment on one you'd like to tackle. It will be first come, first served\n",
    "- I have added all of you as contributors to the repo with write access and protected only the master branch\n",
    "- Checkout a new branch with your cwl and a brief [slug](https://en.wikipedia.org/wiki/Slug_(publishing)) identifying your change (for e.g., `fmoosvi-histogram_line`)\n",
    "- Work on your branch, and once you're done send a PR to my fork. \n",
    "- That is sufficient for you to get the optional marks on this question. \n",
    "- We'll then review it and give you feedback, or make minor changes ourselves and then submit it to the main Altair repo (crediting you as the original author)\n",
    "- It's preferred to use one of the vega datasets as they're open and easily accessible\n",
    "- There are four levels of contributions and they're awarded points based on amount of effort:\n",
    "    - Extreme effort (e.g.: Multiple plot examples, case studies, or major improvements with documentation - 15 points)\n",
    "    - High effort (e.g.: Complex plot examples, case study, or documentation improvements - 10 points)\n",
    "    - Moderate effort (e.g.: A plot example, or minor improvements to documentation - 5 points)\n",
    "    - Basic effort (e.g.: Minimal effort plots and/or changing existing examples to do wrangling using pandas rater than Altair - 1 point)\n",
    "\n",
    "- Once you have an example you would like to add there are a few guide lines to follow. Every example should:\n",
    "    - be saved as a stand alone `.py` file in the `altair/examples/` [directory](https://github.com/firasm/DSCI_531_2019_altair/tree/master/altair/examples).\n",
    "    - have a descriptive docstring, which will eventually be extracted for the\n",
    "  documentation website.\n",
    "    - contain a category tag (possible options: Simple Charts, Bar Charts, Line Charts, Area Charts, Scatter Plots, Histograms, Interactive Charts, Case Studies, Other Charts)\n",
    "    - define a chart variable with the main chart object (This will be used both in the unit tests to confirm that the example executes properly, and also eventually used to display the visualization on the documentation website).\n",
    "    - not make any external calls to download data within the script (i.e. don't\n",
    "  use urllib). You can define your data directly within the example file,\n",
    "  generate your data using pandas and numpy, or you can use data\n",
    "  available in the `vega_datasets` package."
   ]
  },
  {
   "cell_type": "markdown",
   "metadata": {
    "Collapsed": "false"
   },
   "source": [
    "> Add a link to your PR and issue here.\n",
    ">\n",
    "> Link to GH issue: \n",
    ">\n",
    "> PR to Firas' fork: "
   ]
  },
  {
   "cell_type": "markdown",
   "metadata": {
    "Collapsed": "false"
   },
   "source": [
    "### (Optional) 9.1 Extreme effort \n",
    "rubric={quality:15}"
   ]
  },
  {
   "cell_type": "markdown",
   "metadata": {
    "Collapsed": "false"
   },
   "source": [
    "### (Optional) 9.2 High effort \n",
    "rubric={quality:10}"
   ]
  },
  {
   "cell_type": "markdown",
   "metadata": {
    "Collapsed": "false"
   },
   "source": [
    "### (Optional) 9.3 Moderate effort \n",
    "rubric={quality:5}"
   ]
  },
  {
   "cell_type": "markdown",
   "metadata": {
    "Collapsed": "false"
   },
   "source": [
    "### (Optional) 9.4 Basic effort \n",
    "rubric={quality:1}"
   ]
  },
  {
   "cell_type": "code",
   "execution_count": 9,
   "metadata": {},
   "outputs": [
    {
     "data": {
      "text/html": [
       "<div>\n",
       "<style scoped>\n",
       "    .dataframe tbody tr th:only-of-type {\n",
       "        vertical-align: middle;\n",
       "    }\n",
       "\n",
       "    .dataframe tbody tr th {\n",
       "        vertical-align: top;\n",
       "    }\n",
       "\n",
       "    .dataframe thead th {\n",
       "        text-align: right;\n",
       "    }\n",
       "</style>\n",
       "<table border=\"1\" class=\"dataframe\">\n",
       "  <thead>\n",
       "    <tr style=\"text-align: right;\">\n",
       "      <th></th>\n",
       "      <th>job</th>\n",
       "      <th>sex</th>\n",
       "      <th>year</th>\n",
       "      <th>count</th>\n",
       "      <th>annual_gender_prop_in_job</th>\n",
       "    </tr>\n",
       "  </thead>\n",
       "  <tbody>\n",
       "    <tr>\n",
       "      <th>0</th>\n",
       "      <td>Accountant / Auditor</td>\n",
       "      <td>men</td>\n",
       "      <td>1850</td>\n",
       "      <td>708</td>\n",
       "      <td>1.0</td>\n",
       "    </tr>\n",
       "    <tr>\n",
       "      <th>15</th>\n",
       "      <td>Accountant / Auditor</td>\n",
       "      <td>women</td>\n",
       "      <td>1850</td>\n",
       "      <td>0</td>\n",
       "      <td>0.0</td>\n",
       "    </tr>\n",
       "    <tr>\n",
       "      <th>30</th>\n",
       "      <td>Actor</td>\n",
       "      <td>men</td>\n",
       "      <td>1850</td>\n",
       "      <td>506</td>\n",
       "      <td>1.0</td>\n",
       "    </tr>\n",
       "    <tr>\n",
       "      <th>45</th>\n",
       "      <td>Actor</td>\n",
       "      <td>women</td>\n",
       "      <td>1850</td>\n",
       "      <td>0</td>\n",
       "      <td>0.0</td>\n",
       "    </tr>\n",
       "    <tr>\n",
       "      <th>60</th>\n",
       "      <td>Advertising Agent</td>\n",
       "      <td>men</td>\n",
       "      <td>1850</td>\n",
       "      <td>0</td>\n",
       "      <td>NaN</td>\n",
       "    </tr>\n",
       "  </tbody>\n",
       "</table>\n",
       "</div>"
      ],
      "text/plain": [
       "                     job    sex  year  count  annual_gender_prop_in_job\n",
       "0   Accountant / Auditor    men  1850    708                        1.0\n",
       "15  Accountant / Auditor  women  1850      0                        0.0\n",
       "30                 Actor    men  1850    506                        1.0\n",
       "45                 Actor  women  1850      0                        0.0\n",
       "60     Advertising Agent    men  1850      0                        NaN"
      ]
     },
     "execution_count": 9,
     "metadata": {},
     "output_type": "execute_result"
    }
   ],
   "source": [
    "#reassigning for easier debugging\n",
    "df = data.jobs()\n",
    "# remove `perc` column\n",
    "df = df.drop(columns = 'perc')\n",
    "# count the total number of people in each job by year\n",
    "gender_year_df = df.groupby([\"year\",\"job\"]).agg(sum).reset_index()\n",
    "gender_year_df = gender_year_df.rename(columns={\"count\": \"total\"})\n",
    "# merge the totals with our original data frame to get a total associated with each row\n",
    "df = df.merge(gender_year_df, how = \"left\", on = [\"year\",\"job\"])\n",
    "# create a proportion column for proportion of men and women in each job by year\n",
    "df['annual_gender_prop_in_job'] = df['count']/df['total']\n",
    "# sort the values of my df so its more visulay aligned with my wrangling\n",
    "df = df.sort_values(by=[\"year\",\"job\",\"sex\"])\n",
    "# remove the unnecessary `total` column used solely for intermediary calculations\n",
    "df = df.drop(columns = 'total')\n",
    "\n",
    "df.head()"
   ]
  },
  {
   "cell_type": "code",
   "execution_count": 110,
   "metadata": {},
   "outputs": [
    {
     "data": {
      "text/html": [
       "<div>\n",
       "<style scoped>\n",
       "    .dataframe tbody tr th:only-of-type {\n",
       "        vertical-align: middle;\n",
       "    }\n",
       "\n",
       "    .dataframe tbody tr th {\n",
       "        vertical-align: top;\n",
       "    }\n",
       "\n",
       "    .dataframe thead th {\n",
       "        text-align: right;\n",
       "    }\n",
       "</style>\n",
       "<table border=\"1\" class=\"dataframe\">\n",
       "  <thead>\n",
       "    <tr style=\"text-align: right;\">\n",
       "      <th></th>\n",
       "      <th>job</th>\n",
       "      <th>sex</th>\n",
       "      <th>year</th>\n",
       "      <th>count</th>\n",
       "      <th>perc</th>\n",
       "    </tr>\n",
       "  </thead>\n",
       "  <tbody>\n",
       "    <tr>\n",
       "      <th>0</th>\n",
       "      <td>Accountant / Auditor</td>\n",
       "      <td>men</td>\n",
       "      <td>1850</td>\n",
       "      <td>708</td>\n",
       "      <td>0.000131</td>\n",
       "    </tr>\n",
       "    <tr>\n",
       "      <th>1</th>\n",
       "      <td>Accountant / Auditor</td>\n",
       "      <td>men</td>\n",
       "      <td>1860</td>\n",
       "      <td>1805</td>\n",
       "      <td>0.000214</td>\n",
       "    </tr>\n",
       "    <tr>\n",
       "      <th>2</th>\n",
       "      <td>Accountant / Auditor</td>\n",
       "      <td>men</td>\n",
       "      <td>1870</td>\n",
       "      <td>1310</td>\n",
       "      <td>0.000100</td>\n",
       "    </tr>\n",
       "    <tr>\n",
       "      <th>3</th>\n",
       "      <td>Accountant / Auditor</td>\n",
       "      <td>men</td>\n",
       "      <td>1880</td>\n",
       "      <td>2295</td>\n",
       "      <td>0.000125</td>\n",
       "    </tr>\n",
       "    <tr>\n",
       "      <th>4</th>\n",
       "      <td>Accountant / Auditor</td>\n",
       "      <td>men</td>\n",
       "      <td>1900</td>\n",
       "      <td>11753</td>\n",
       "      <td>0.000396</td>\n",
       "    </tr>\n",
       "  </tbody>\n",
       "</table>\n",
       "</div>"
      ],
      "text/plain": [
       "                    job  sex  year  count      perc\n",
       "0  Accountant / Auditor  men  1850    708  0.000131\n",
       "1  Accountant / Auditor  men  1860   1805  0.000214\n",
       "2  Accountant / Auditor  men  1870   1310  0.000100\n",
       "3  Accountant / Auditor  men  1880   2295  0.000125\n",
       "4  Accountant / Auditor  men  1900  11753  0.000396"
      ]
     },
     "execution_count": 110,
     "metadata": {},
     "output_type": "execute_result"
    }
   ],
   "source": [
    "jobs = data.jobs()\n",
    "grouped_jobs = jobs.pivot_table(\n",
    "  columns=['sex'], \n",
    "  values=['count', 'perc'], \n",
    "  index=['year', 'job']\n",
    ")\n",
    "\n",
    "# Categorize each row into a gender dominant group \n",
    "# based on its male to female ratio of that year\n",
    "def categorize_gender_dominant_group(row):  \n",
    "  male_count = row['count']['men']\n",
    "  female_count = row['count']['women']\n",
    "  \n",
    "  if male_count == 0 and female_count == 0:\n",
    "    return 'no job'\n",
    "  elif row['count']['women'] == 0:\n",
    "    return 'only male'\n",
    "  elif row['count']['men'] == 0:\n",
    "    return 'only female'\n",
    "  elif (male_count/female_count) >= 2:\n",
    "    return 'male dominant'\n",
    "  elif (male_count/female_count) <= 0.5:\n",
    "    return 'female dominant'\n",
    "  else:\n",
    "    return 'balanced'\n",
    "\n",
    "jobs.head()\n",
    "\n",
    "\n"
   ]
  },
  {
   "cell_type": "code",
   "execution_count": 111,
   "metadata": {},
   "outputs": [
    {
     "data": {
      "text/html": [
       "<div>\n",
       "<style scoped>\n",
       "    .dataframe tbody tr th:only-of-type {\n",
       "        vertical-align: middle;\n",
       "    }\n",
       "\n",
       "    .dataframe tbody tr th {\n",
       "        vertical-align: top;\n",
       "    }\n",
       "\n",
       "    .dataframe thead tr th {\n",
       "        text-align: left;\n",
       "    }\n",
       "\n",
       "    .dataframe thead tr:last-of-type th {\n",
       "        text-align: right;\n",
       "    }\n",
       "</style>\n",
       "<table border=\"1\" class=\"dataframe\">\n",
       "  <thead>\n",
       "    <tr>\n",
       "      <th></th>\n",
       "      <th></th>\n",
       "      <th colspan=\"2\" halign=\"left\">count</th>\n",
       "      <th colspan=\"2\" halign=\"left\">perc</th>\n",
       "    </tr>\n",
       "    <tr>\n",
       "      <th></th>\n",
       "      <th>sex</th>\n",
       "      <th>men</th>\n",
       "      <th>women</th>\n",
       "      <th>men</th>\n",
       "      <th>women</th>\n",
       "    </tr>\n",
       "    <tr>\n",
       "      <th>year</th>\n",
       "      <th>job</th>\n",
       "      <th></th>\n",
       "      <th></th>\n",
       "      <th></th>\n",
       "      <th></th>\n",
       "    </tr>\n",
       "  </thead>\n",
       "  <tbody>\n",
       "    <tr>\n",
       "      <th rowspan=\"5\" valign=\"top\">1850</th>\n",
       "      <th>Accountant / Auditor</th>\n",
       "      <td>708</td>\n",
       "      <td>0</td>\n",
       "      <td>0.000131</td>\n",
       "      <td>0.000000</td>\n",
       "    </tr>\n",
       "    <tr>\n",
       "      <th>Actor</th>\n",
       "      <td>506</td>\n",
       "      <td>0</td>\n",
       "      <td>0.000094</td>\n",
       "      <td>0.000000</td>\n",
       "    </tr>\n",
       "    <tr>\n",
       "      <th>Advertising Agent</th>\n",
       "      <td>0</td>\n",
       "      <td>0</td>\n",
       "      <td>0.000000</td>\n",
       "      <td>0.000000</td>\n",
       "    </tr>\n",
       "    <tr>\n",
       "      <th>Agent</th>\n",
       "      <td>2528</td>\n",
       "      <td>0</td>\n",
       "      <td>0.000468</td>\n",
       "      <td>0.000000</td>\n",
       "    </tr>\n",
       "    <tr>\n",
       "      <th>Apprentice</th>\n",
       "      <td>3134</td>\n",
       "      <td>101</td>\n",
       "      <td>0.000580</td>\n",
       "      <td>0.000019</td>\n",
       "    </tr>\n",
       "  </tbody>\n",
       "</table>\n",
       "</div>"
      ],
      "text/plain": [
       "                          count            perc          \n",
       "sex                         men women       men     women\n",
       "year job                                                 \n",
       "1850 Accountant / Auditor   708     0  0.000131  0.000000\n",
       "     Actor                  506     0  0.000094  0.000000\n",
       "     Advertising Agent        0     0  0.000000  0.000000\n",
       "     Agent                 2528     0  0.000468  0.000000\n",
       "     Apprentice            3134   101  0.000580  0.000019"
      ]
     },
     "execution_count": 111,
     "metadata": {},
     "output_type": "execute_result"
    }
   ],
   "source": [
    "grouped_jobs.head()"
   ]
  },
  {
   "cell_type": "code",
   "execution_count": 112,
   "metadata": {},
   "outputs": [
    {
     "data": {
      "text/html": [
       "<div>\n",
       "<style scoped>\n",
       "    .dataframe tbody tr th:only-of-type {\n",
       "        vertical-align: middle;\n",
       "    }\n",
       "\n",
       "    .dataframe tbody tr th {\n",
       "        vertical-align: top;\n",
       "    }\n",
       "\n",
       "    .dataframe thead th {\n",
       "        text-align: right;\n",
       "    }\n",
       "</style>\n",
       "<table border=\"1\" class=\"dataframe\">\n",
       "  <thead>\n",
       "    <tr style=\"text-align: right;\">\n",
       "      <th></th>\n",
       "      <th>year</th>\n",
       "      <th>job</th>\n",
       "      <th>gender_dominant_group</th>\n",
       "    </tr>\n",
       "  </thead>\n",
       "  <tbody>\n",
       "    <tr>\n",
       "      <th>0</th>\n",
       "      <td>1850</td>\n",
       "      <td>Accountant / Auditor</td>\n",
       "      <td>only male</td>\n",
       "    </tr>\n",
       "    <tr>\n",
       "      <th>1</th>\n",
       "      <td>1850</td>\n",
       "      <td>Actor</td>\n",
       "      <td>only male</td>\n",
       "    </tr>\n",
       "    <tr>\n",
       "      <th>2</th>\n",
       "      <td>1850</td>\n",
       "      <td>Advertising Agent</td>\n",
       "      <td>no job</td>\n",
       "    </tr>\n",
       "    <tr>\n",
       "      <th>3</th>\n",
       "      <td>1850</td>\n",
       "      <td>Agent</td>\n",
       "      <td>only male</td>\n",
       "    </tr>\n",
       "    <tr>\n",
       "      <th>4</th>\n",
       "      <td>1850</td>\n",
       "      <td>Apprentice</td>\n",
       "      <td>male dominant</td>\n",
       "    </tr>\n",
       "  </tbody>\n",
       "</table>\n",
       "</div>"
      ],
      "text/plain": [
       "   year                   job gender_dominant_group\n",
       "0  1850  Accountant / Auditor             only male\n",
       "1  1850                 Actor             only male\n",
       "2  1850     Advertising Agent                no job\n",
       "3  1850                 Agent             only male\n",
       "4  1850            Apprentice         male dominant"
      ]
     },
     "execution_count": 112,
     "metadata": {},
     "output_type": "execute_result"
    }
   ],
   "source": [
    "grouped_jobs['gender_dominant_group'] = grouped_jobs.apply(categorize_gender_dominant_group, axis=1)\n",
    "grouped_jobs_fixed = grouped_jobs.drop(['count','perc'], axis=1)\n",
    "grouped_jobs_fixed2 = grouped_jobs_fixed.reset_index()\n",
    "grouped_jobs_fixed2.columns=grouped_jobs_fixed2.columns.droplevel(1)\n",
    "grouped_jobs_fixed2.head()"
   ]
  },
  {
   "cell_type": "code",
   "execution_count": 113,
   "metadata": {},
   "outputs": [
    {
     "data": {
      "text/html": [
       "<div>\n",
       "<style scoped>\n",
       "    .dataframe tbody tr th:only-of-type {\n",
       "        vertical-align: middle;\n",
       "    }\n",
       "\n",
       "    .dataframe tbody tr th {\n",
       "        vertical-align: top;\n",
       "    }\n",
       "\n",
       "    .dataframe thead th {\n",
       "        text-align: right;\n",
       "    }\n",
       "</style>\n",
       "<table border=\"1\" class=\"dataframe\">\n",
       "  <thead>\n",
       "    <tr style=\"text-align: right;\">\n",
       "      <th></th>\n",
       "      <th>job</th>\n",
       "      <th>sex</th>\n",
       "      <th>year</th>\n",
       "      <th>count</th>\n",
       "      <th>perc</th>\n",
       "      <th>gender_dominant_group</th>\n",
       "    </tr>\n",
       "  </thead>\n",
       "  <tbody>\n",
       "    <tr>\n",
       "      <th>0</th>\n",
       "      <td>Accountant / Auditor</td>\n",
       "      <td>men</td>\n",
       "      <td>1850</td>\n",
       "      <td>708</td>\n",
       "      <td>0.000131</td>\n",
       "      <td>only male</td>\n",
       "    </tr>\n",
       "    <tr>\n",
       "      <th>1</th>\n",
       "      <td>Accountant / Auditor</td>\n",
       "      <td>women</td>\n",
       "      <td>1850</td>\n",
       "      <td>0</td>\n",
       "      <td>0.000000</td>\n",
       "      <td>only male</td>\n",
       "    </tr>\n",
       "    <tr>\n",
       "      <th>2</th>\n",
       "      <td>Accountant / Auditor</td>\n",
       "      <td>men</td>\n",
       "      <td>1860</td>\n",
       "      <td>1805</td>\n",
       "      <td>0.000214</td>\n",
       "      <td>only male</td>\n",
       "    </tr>\n",
       "    <tr>\n",
       "      <th>3</th>\n",
       "      <td>Accountant / Auditor</td>\n",
       "      <td>women</td>\n",
       "      <td>1860</td>\n",
       "      <td>0</td>\n",
       "      <td>0.000000</td>\n",
       "      <td>only male</td>\n",
       "    </tr>\n",
       "    <tr>\n",
       "      <th>4</th>\n",
       "      <td>Accountant / Auditor</td>\n",
       "      <td>men</td>\n",
       "      <td>1870</td>\n",
       "      <td>1310</td>\n",
       "      <td>0.000100</td>\n",
       "      <td>only male</td>\n",
       "    </tr>\n",
       "    <tr>\n",
       "      <th>...</th>\n",
       "      <td>...</td>\n",
       "      <td>...</td>\n",
       "      <td>...</td>\n",
       "      <td>...</td>\n",
       "      <td>...</td>\n",
       "      <td>...</td>\n",
       "    </tr>\n",
       "    <tr>\n",
       "      <th>7645</th>\n",
       "      <td>Welder</td>\n",
       "      <td>women</td>\n",
       "      <td>1980</td>\n",
       "      <td>57920</td>\n",
       "      <td>0.000451</td>\n",
       "      <td>male dominant</td>\n",
       "    </tr>\n",
       "    <tr>\n",
       "      <th>7646</th>\n",
       "      <td>Welder</td>\n",
       "      <td>men</td>\n",
       "      <td>1990</td>\n",
       "      <td>700666</td>\n",
       "      <td>0.004698</td>\n",
       "      <td>male dominant</td>\n",
       "    </tr>\n",
       "    <tr>\n",
       "      <th>7647</th>\n",
       "      <td>Welder</td>\n",
       "      <td>women</td>\n",
       "      <td>1990</td>\n",
       "      <td>36224</td>\n",
       "      <td>0.000243</td>\n",
       "      <td>male dominant</td>\n",
       "    </tr>\n",
       "    <tr>\n",
       "      <th>7648</th>\n",
       "      <td>Welder</td>\n",
       "      <td>men</td>\n",
       "      <td>2000</td>\n",
       "      <td>727405</td>\n",
       "      <td>0.004327</td>\n",
       "      <td>male dominant</td>\n",
       "    </tr>\n",
       "    <tr>\n",
       "      <th>7649</th>\n",
       "      <td>Welder</td>\n",
       "      <td>women</td>\n",
       "      <td>2000</td>\n",
       "      <td>63197</td>\n",
       "      <td>0.000376</td>\n",
       "      <td>male dominant</td>\n",
       "    </tr>\n",
       "  </tbody>\n",
       "</table>\n",
       "<p>7650 rows × 6 columns</p>\n",
       "</div>"
      ],
      "text/plain": [
       "                       job    sex  year   count      perc  \\\n",
       "0     Accountant / Auditor    men  1850     708  0.000131   \n",
       "1     Accountant / Auditor  women  1850       0  0.000000   \n",
       "2     Accountant / Auditor    men  1860    1805  0.000214   \n",
       "3     Accountant / Auditor  women  1860       0  0.000000   \n",
       "4     Accountant / Auditor    men  1870    1310  0.000100   \n",
       "...                    ...    ...   ...     ...       ...   \n",
       "7645                Welder  women  1980   57920  0.000451   \n",
       "7646                Welder    men  1990  700666  0.004698   \n",
       "7647                Welder  women  1990   36224  0.000243   \n",
       "7648                Welder    men  2000  727405  0.004327   \n",
       "7649                Welder  women  2000   63197  0.000376   \n",
       "\n",
       "     gender_dominant_group  \n",
       "0                only male  \n",
       "1                only male  \n",
       "2                only male  \n",
       "3                only male  \n",
       "4                only male  \n",
       "...                    ...  \n",
       "7645         male dominant  \n",
       "7646         male dominant  \n",
       "7647         male dominant  \n",
       "7648         male dominant  \n",
       "7649         male dominant  \n",
       "\n",
       "[7650 rows x 6 columns]"
      ]
     },
     "execution_count": 113,
     "metadata": {},
     "output_type": "execute_result"
    }
   ],
   "source": [
    "pd.merge(jobs,grouped_jobs_fixed2, how = 'inner', on = ['year','job'] )"
   ]
  },
  {
   "cell_type": "code",
   "execution_count": 115,
   "metadata": {},
   "outputs": [
    {
     "data": {
      "text/html": [
       "<div>\n",
       "<style scoped>\n",
       "    .dataframe tbody tr th:only-of-type {\n",
       "        vertical-align: middle;\n",
       "    }\n",
       "\n",
       "    .dataframe tbody tr th {\n",
       "        vertical-align: top;\n",
       "    }\n",
       "\n",
       "    .dataframe thead th {\n",
       "        text-align: right;\n",
       "    }\n",
       "</style>\n",
       "<table border=\"1\" class=\"dataframe\">\n",
       "  <thead>\n",
       "    <tr style=\"text-align: right;\">\n",
       "      <th></th>\n",
       "      <th>job</th>\n",
       "      <th>sex</th>\n",
       "      <th>year</th>\n",
       "      <th>count</th>\n",
       "      <th>gender_dominant_group</th>\n",
       "      <th>annual_gender_prop_in_job</th>\n",
       "    </tr>\n",
       "  </thead>\n",
       "  <tbody>\n",
       "    <tr>\n",
       "      <th>0</th>\n",
       "      <td>Accountant / Auditor</td>\n",
       "      <td>men</td>\n",
       "      <td>1850</td>\n",
       "      <td>708</td>\n",
       "      <td>only male</td>\n",
       "      <td>1.0</td>\n",
       "    </tr>\n",
       "    <tr>\n",
       "      <th>1</th>\n",
       "      <td>Accountant / Auditor</td>\n",
       "      <td>women</td>\n",
       "      <td>1850</td>\n",
       "      <td>0</td>\n",
       "      <td>only male</td>\n",
       "      <td>0.0</td>\n",
       "    </tr>\n",
       "    <tr>\n",
       "      <th>30</th>\n",
       "      <td>Actor</td>\n",
       "      <td>men</td>\n",
       "      <td>1850</td>\n",
       "      <td>506</td>\n",
       "      <td>only male</td>\n",
       "      <td>1.0</td>\n",
       "    </tr>\n",
       "    <tr>\n",
       "      <th>31</th>\n",
       "      <td>Actor</td>\n",
       "      <td>women</td>\n",
       "      <td>1850</td>\n",
       "      <td>0</td>\n",
       "      <td>only male</td>\n",
       "      <td>0.0</td>\n",
       "    </tr>\n",
       "    <tr>\n",
       "      <th>90</th>\n",
       "      <td>Agent</td>\n",
       "      <td>men</td>\n",
       "      <td>1850</td>\n",
       "      <td>2528</td>\n",
       "      <td>only male</td>\n",
       "      <td>1.0</td>\n",
       "    </tr>\n",
       "  </tbody>\n",
       "</table>\n",
       "</div>"
      ],
      "text/plain": [
       "                     job    sex  year  count gender_dominant_group  \\\n",
       "0   Accountant / Auditor    men  1850    708             only male   \n",
       "1   Accountant / Auditor  women  1850      0             only male   \n",
       "30                 Actor    men  1850    506             only male   \n",
       "31                 Actor  women  1850      0             only male   \n",
       "90                 Agent    men  1850   2528             only male   \n",
       "\n",
       "    annual_gender_prop_in_job  \n",
       "0                         1.0  \n",
       "1                         0.0  \n",
       "30                        1.0  \n",
       "31                        0.0  \n",
       "90                        1.0  "
      ]
     },
     "execution_count": 115,
     "metadata": {},
     "output_type": "execute_result"
    }
   ],
   "source": [
    "#reassigning for easier debugging\n",
    "df = pd.merge(jobs,grouped_jobs_fixed2, how = 'inner', on = ['year','job'] )\n",
    "# remove `perc` column\n",
    "df = df.drop(columns = 'perc')\n",
    "# count the total number of people in each job by year\n",
    "gender_year_df = df.groupby([\"year\",\"job\"]).agg(sum).reset_index()\n",
    "gender_year_df = gender_year_df.rename(columns={\"count\": \"total\"})\n",
    "# merge the totals with our original data frame to get a total associated with each row\n",
    "df = df.merge(gender_year_df, how = \"left\", on = [\"year\",\"job\"])\n",
    "# create a proportion column for proportion of men and women in each job by year\n",
    "df['annual_gender_prop_in_job'] = df['count']/df['total']\n",
    "# sort the values of my df so its more visulay aligned with my wrangling\n",
    "df = df.sort_values(by=[\"year\",\"job\",\"sex\"])\n",
    "# remove the unnecessary `total` column used solely for intermediary calculations\n",
    "df = df.drop(columns = 'total')\n",
    "# remove rows with na proportions to lower job count\n",
    "df = df.dropna(axis=0)\n",
    "df.head()"
   ]
  }
 ],
 "metadata": {
  "kernelspec": {
   "display_name": "Python 3",
   "language": "python",
   "name": "python3"
  },
  "language_info": {
   "codemirror_mode": {
    "name": "ipython",
    "version": 3
   },
   "file_extension": ".py",
   "mimetype": "text/x-python",
   "name": "python",
   "nbconvert_exporter": "python",
   "pygments_lexer": "ipython3",
   "version": "3.7.5"
  }
 },
 "nbformat": 4,
 "nbformat_minor": 4
}
